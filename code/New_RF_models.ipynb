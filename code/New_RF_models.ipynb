{
  "metadata": {
    "colab": {
      "provenance": [],
      "toc_visible": true
    },
    "kernelspec": {
      "name": "python3",
      "display_name": "Python 3",
      "language": "python"
    },
    "language_info": {
      "name": "python",
      "version": "3.7.12",
      "mimetype": "text/x-python",
      "codemirror_mode": {
        "name": "ipython",
        "version": 3
      },
      "pygments_lexer": "ipython3",
      "nbconvert_exporter": "python",
      "file_extension": ".py"
    }
  },
  "nbformat_minor": 0,
  "nbformat": 4,
  "cells": [
    {
      "cell_type": "markdown",
      "source": [
        "# Getting data"
      ],
      "metadata": {
        "id": "jfmF-2gjQxy9"
      }
    },
    {
      "cell_type": "markdown",
      "source": [
        "In this study we use data from [Taft et. al., 2022.](https://github.com/grigorievaekaterina/BI_antibodies_project/tree/main#:~:text=was%20used%20from-,Taft%20et.%20al.%2C%202022,-.) Let us download the archive from [biorxiv.org](https://www.biorxiv.org/content/10.1101/2021.12.07.471580v1), where the preprint of the article is."
      ],
      "metadata": {
        "id": "5AN5XZOvxc7e"
      }
    },
    {
      "cell_type": "code",
      "source": [
        "!wget https://www.biorxiv.org/content/biorxiv/early/2021/12/09/2021.12.07.471580/DC2/embed/media-2.zip"
      ],
      "metadata": {
        "colab": {
          "base_uri": "https://localhost:8080/"
        },
        "id": "SBtLn2BiHgBH",
        "outputId": "d25719ed-1080-412d-f883-8e9bc98fd034",
        "execution": {
          "iopub.status.busy": "2023-05-07T23:53:56.640429Z",
          "iopub.execute_input": "2023-05-07T23:53:56.640862Z",
          "iopub.status.idle": "2023-05-07T23:54:02.799630Z",
          "shell.execute_reply.started": "2023-05-07T23:53:56.640822Z",
          "shell.execute_reply": "2023-05-07T23:54:02.798248Z"
        },
        "trusted": true
      },
      "execution_count": null,
      "outputs": [
        {
          "output_type": "stream",
          "name": "stdout",
          "text": [
            "--2023-05-22 06:30:57--  https://www.biorxiv.org/content/biorxiv/early/2021/12/09/2021.12.07.471580/DC2/embed/media-2.zip\n",
            "Resolving www.biorxiv.org (www.biorxiv.org)... 104.18.28.142, 104.18.29.142\n",
            "Connecting to www.biorxiv.org (www.biorxiv.org)|104.18.28.142|:443... connected.\n",
            "HTTP request sent, awaiting response... 200 OK\n",
            "Length: unspecified [application/zip]\n",
            "Saving to: ‘media-2.zip’\n",
            "\n",
            "media-2.zip             [                <=> ]  11.65M  3.40MB/s    in 3.4s    \n",
            "\n",
            "2023-05-22 06:31:02 (3.40 MB/s) - ‘media-2.zip’ saved [12212533]\n",
            "\n"
          ]
        }
      ]
    },
    {
      "cell_type": "markdown",
      "source": [
        "Unzipping the archive"
      ],
      "metadata": {
        "id": "TbcP8F5WyUJf"
      }
    },
    {
      "cell_type": "code",
      "source": [
        "!unzip /content/media-2.zip"
      ],
      "metadata": {
        "colab": {
          "base_uri": "https://localhost:8080/"
        },
        "id": "cQqOLFkuQ6tZ",
        "outputId": "5d599ff2-fe92-4285-ca66-87958cb87a0e",
        "execution": {
          "iopub.status.busy": "2023-05-07T23:54:02.802116Z",
          "iopub.execute_input": "2023-05-07T23:54:02.802518Z",
          "iopub.status.idle": "2023-05-07T23:55:08.181279Z",
          "shell.execute_reply.started": "2023-05-07T23:54:02.802477Z",
          "shell.execute_reply": "2023-05-07T23:55:08.179903Z"
        },
        "trusted": true
      },
      "execution_count": null,
      "outputs": [
        {
          "output_type": "stream",
          "name": "stdout",
          "text": [
            "Archive:  /content/media-2.zip\n",
            "   creating: Train:Test Sequences/\n",
            "  inflating: Train:Test Sequences/ACE2_train_data.csv  \n",
            "  inflating: __MACOSX/Train:Test Sequences/._ACE2_train_data.csv  \n",
            "  inflating: Train:Test Sequences/.DS_Store  \n",
            "  inflating: __MACOSX/Train:Test Sequences/._.DS_Store  \n",
            "  inflating: Train:Test Sequences/ACE2_test_data.csv  \n",
            "  inflating: __MACOSX/Train:Test Sequences/._ACE2_test_data.csv  \n",
            "  inflating: Train:Test Sequences/REGN33_test_data.csv  \n",
            "  inflating: __MACOSX/Train:Test Sequences/._REGN33_test_data.csv  \n",
            "  inflating: Train:Test Sequences/ACE2_unseen.tsv  \n",
            "  inflating: __MACOSX/Train:Test Sequences/._ACE2_unseen.tsv  \n",
            "  inflating: Train:Test Sequences/LY16_unseen.tsv  \n",
            "  inflating: __MACOSX/Train:Test Sequences/._LY16_unseen.tsv  \n",
            "  inflating: Train:Test Sequences/REGN33_train_data.csv  \n",
            "  inflating: __MACOSX/Train:Test Sequences/._REGN33_train_data.csv  \n",
            "  inflating: Train:Test Sequences/REGN87_test_data.csv  \n",
            "  inflating: __MACOSX/Train:Test Sequences/._REGN87_test_data.csv  \n",
            "  inflating: Train:Test Sequences/LY16_test_data.csv  \n",
            "  inflating: __MACOSX/Train:Test Sequences/._LY16_test_data.csv  \n",
            "  inflating: Train:Test Sequences/REGN87_train_data.csv  \n",
            "  inflating: __MACOSX/Train:Test Sequences/._REGN87_train_data.csv  \n",
            "  inflating: Train:Test Sequences/REGN87_unseen.tsv  \n",
            "  inflating: __MACOSX/Train:Test Sequences/._REGN87_unseen.tsv  \n",
            "  inflating: Train:Test Sequences/LY555_unseen.tsv  \n",
            "  inflating: __MACOSX/Train:Test Sequences/._LY555_unseen.tsv  \n",
            "  inflating: Train:Test Sequences/LY16_train_data.csv  \n",
            "  inflating: __MACOSX/Train:Test Sequences/._LY16_train_data.csv  \n",
            "  inflating: Train:Test Sequences/REGN33_unseen.tsv  \n",
            "  inflating: __MACOSX/Train:Test Sequences/._REGN33_unseen.tsv  \n",
            "  inflating: Train:Test Sequences/LY555_train_data.csv  \n",
            "  inflating: __MACOSX/Train:Test Sequences/._LY555_train_data.csv  \n",
            "  inflating: Train:Test Sequences/LY555_test_data.csv  \n",
            "  inflating: __MACOSX/Train:Test Sequences/._LY555_test_data.csv  \n"
          ]
        }
      ]
    },
    {
      "cell_type": "markdown",
      "source": [
        "# Importing required libraries"
      ],
      "metadata": {
        "id": "HfXutrEPR5Qh"
      }
    },
    {
      "cell_type": "code",
      "source": [
        "import pandas as pd\n",
        "import numpy as np\n",
        "import matplotlib.pyplot as plt\n",
        "import sklearn\n",
        "from sklearn.preprocessing import OneHotEncoder\n",
        "from sklearn.ensemble import RandomForestClassifier\n",
        "from sklearn.metrics import accuracy_score, precision_score, recall_score, f1_score, roc_auc_score"
      ],
      "metadata": {
        "id": "ORs-ny04R4wN",
        "execution": {
          "iopub.status.busy": "2023-05-07T23:55:08.195630Z",
          "iopub.execute_input": "2023-05-07T23:55:08.196022Z",
          "iopub.status.idle": "2023-05-07T23:55:08.208496Z",
          "shell.execute_reply.started": "2023-05-07T23:55:08.195985Z",
          "shell.execute_reply": "2023-05-07T23:55:08.207221Z"
        },
        "trusted": true
      },
      "execution_count": 1,
      "outputs": []
    },
    {
      "cell_type": "markdown",
      "source": [
        "Let us look at the data. Here we want to open train and test datasets of each antibody data. We expect eight datasets, two for four antibodies: LY16, LY555, REGN33, REGN87."
      ],
      "metadata": {
        "id": "ufnZIpU3RydH"
      }
    },
    {
      "cell_type": "markdown",
      "source": [
        "## LY16"
      ],
      "metadata": {
        "id": "Jc5kjoTpYsQn"
      }
    },
    {
      "cell_type": "code",
      "source": [
        "LY16_train = pd.read_csv(\"/content/Train:Test Sequences/LY16_train_data.csv\")\n",
        "LY16_test = pd.read_csv(\"/content/Train:Test Sequences/LY16_test_data.csv\")     "
      ],
      "metadata": {
        "id": "iJoyPKPBsd19",
        "execution": {
          "iopub.status.busy": "2023-05-07T23:55:08.211582Z",
          "iopub.execute_input": "2023-05-07T23:55:08.211999Z",
          "iopub.status.idle": "2023-05-07T23:55:08.294240Z",
          "shell.execute_reply.started": "2023-05-07T23:55:08.211949Z",
          "shell.execute_reply": "2023-05-07T23:55:08.292691Z"
        },
        "trusted": true
      },
      "execution_count": null,
      "outputs": []
    },
    {
      "cell_type": "markdown",
      "source": [
        "First five raws of a train dataset."
      ],
      "metadata": {
        "id": "D5w2JQJ90iZh"
      }
    },
    {
      "cell_type": "code",
      "source": [
        "LY16_train.head()"
      ],
      "metadata": {
        "colab": {
          "base_uri": "https://localhost:8080/",
          "height": 288
        },
        "id": "CvHF7pOWxw2l",
        "outputId": "6088967f-605e-4b5e-b183-6ee74c626664",
        "execution": {
          "iopub.status.busy": "2023-05-07T23:55:08.295970Z",
          "iopub.execute_input": "2023-05-07T23:55:08.296327Z",
          "iopub.status.idle": "2023-05-07T23:55:08.318480Z",
          "shell.execute_reply.started": "2023-05-07T23:55:08.296287Z",
          "shell.execute_reply": "2023-05-07T23:55:08.317008Z"
        },
        "trusted": true
      },
      "execution_count": null,
      "outputs": [
        {
          "output_type": "execute_result",
          "data": {
            "text/plain": [
              "   Unnamed: 0               junction_aa    v_call  consensus_count    j_call  \\\n",
              "0       26455  KNEGFNCYIPLVTYGFHTTTGVSY  IGHV_RBD                1  IGHJ_RBD   \n",
              "1        1215  KNKGFNCYSPITEYGFFPTNGKNF  IGHV_RBD                2  IGHJ_RBD   \n",
              "2       22287  SKQGFNCYCPLIGYGFQRTFGVGW  IGHV_RBD                1  IGHJ_RBD   \n",
              "3       38720  KNRQFNCYWPLVRYGFWTTSGVGW  IGHV_RBD                1  IGHJ_RBD   \n",
              "4         551  KNPGFNCYLPLGHYGFQPTNGRDF  IGHV_RBD                3  IGHJ_RBD   \n",
              "\n",
              "   clonal_frequency  Label  Distance Antibody  \n",
              "0          0.000028      0         7     LY16  \n",
              "1          0.000093      1         9     LY16  \n",
              "2          0.000028      0         9     LY16  \n",
              "3          0.000028      0         9     LY16  \n",
              "4          0.000140      1         7     LY16  "
            ],
            "text/html": [
              "\n",
              "  <div id=\"df-cafc145c-98e9-43bd-8c8c-e6002f9af39a\">\n",
              "    <div class=\"colab-df-container\">\n",
              "      <div>\n",
              "<style scoped>\n",
              "    .dataframe tbody tr th:only-of-type {\n",
              "        vertical-align: middle;\n",
              "    }\n",
              "\n",
              "    .dataframe tbody tr th {\n",
              "        vertical-align: top;\n",
              "    }\n",
              "\n",
              "    .dataframe thead th {\n",
              "        text-align: right;\n",
              "    }\n",
              "</style>\n",
              "<table border=\"1\" class=\"dataframe\">\n",
              "  <thead>\n",
              "    <tr style=\"text-align: right;\">\n",
              "      <th></th>\n",
              "      <th>Unnamed: 0</th>\n",
              "      <th>junction_aa</th>\n",
              "      <th>v_call</th>\n",
              "      <th>consensus_count</th>\n",
              "      <th>j_call</th>\n",
              "      <th>clonal_frequency</th>\n",
              "      <th>Label</th>\n",
              "      <th>Distance</th>\n",
              "      <th>Antibody</th>\n",
              "    </tr>\n",
              "  </thead>\n",
              "  <tbody>\n",
              "    <tr>\n",
              "      <th>0</th>\n",
              "      <td>26455</td>\n",
              "      <td>KNEGFNCYIPLVTYGFHTTTGVSY</td>\n",
              "      <td>IGHV_RBD</td>\n",
              "      <td>1</td>\n",
              "      <td>IGHJ_RBD</td>\n",
              "      <td>0.000028</td>\n",
              "      <td>0</td>\n",
              "      <td>7</td>\n",
              "      <td>LY16</td>\n",
              "    </tr>\n",
              "    <tr>\n",
              "      <th>1</th>\n",
              "      <td>1215</td>\n",
              "      <td>KNKGFNCYSPITEYGFFPTNGKNF</td>\n",
              "      <td>IGHV_RBD</td>\n",
              "      <td>2</td>\n",
              "      <td>IGHJ_RBD</td>\n",
              "      <td>0.000093</td>\n",
              "      <td>1</td>\n",
              "      <td>9</td>\n",
              "      <td>LY16</td>\n",
              "    </tr>\n",
              "    <tr>\n",
              "      <th>2</th>\n",
              "      <td>22287</td>\n",
              "      <td>SKQGFNCYCPLIGYGFQRTFGVGW</td>\n",
              "      <td>IGHV_RBD</td>\n",
              "      <td>1</td>\n",
              "      <td>IGHJ_RBD</td>\n",
              "      <td>0.000028</td>\n",
              "      <td>0</td>\n",
              "      <td>9</td>\n",
              "      <td>LY16</td>\n",
              "    </tr>\n",
              "    <tr>\n",
              "      <th>3</th>\n",
              "      <td>38720</td>\n",
              "      <td>KNRQFNCYWPLVRYGFWTTSGVGW</td>\n",
              "      <td>IGHV_RBD</td>\n",
              "      <td>1</td>\n",
              "      <td>IGHJ_RBD</td>\n",
              "      <td>0.000028</td>\n",
              "      <td>0</td>\n",
              "      <td>9</td>\n",
              "      <td>LY16</td>\n",
              "    </tr>\n",
              "    <tr>\n",
              "      <th>4</th>\n",
              "      <td>551</td>\n",
              "      <td>KNPGFNCYLPLGHYGFQPTNGRDF</td>\n",
              "      <td>IGHV_RBD</td>\n",
              "      <td>3</td>\n",
              "      <td>IGHJ_RBD</td>\n",
              "      <td>0.000140</td>\n",
              "      <td>1</td>\n",
              "      <td>7</td>\n",
              "      <td>LY16</td>\n",
              "    </tr>\n",
              "  </tbody>\n",
              "</table>\n",
              "</div>\n",
              "      <button class=\"colab-df-convert\" onclick=\"convertToInteractive('df-cafc145c-98e9-43bd-8c8c-e6002f9af39a')\"\n",
              "              title=\"Convert this dataframe to an interactive table.\"\n",
              "              style=\"display:none;\">\n",
              "        \n",
              "  <svg xmlns=\"http://www.w3.org/2000/svg\" height=\"24px\"viewBox=\"0 0 24 24\"\n",
              "       width=\"24px\">\n",
              "    <path d=\"M0 0h24v24H0V0z\" fill=\"none\"/>\n",
              "    <path d=\"M18.56 5.44l.94 2.06.94-2.06 2.06-.94-2.06-.94-.94-2.06-.94 2.06-2.06.94zm-11 1L8.5 8.5l.94-2.06 2.06-.94-2.06-.94L8.5 2.5l-.94 2.06-2.06.94zm10 10l.94 2.06.94-2.06 2.06-.94-2.06-.94-.94-2.06-.94 2.06-2.06.94z\"/><path d=\"M17.41 7.96l-1.37-1.37c-.4-.4-.92-.59-1.43-.59-.52 0-1.04.2-1.43.59L10.3 9.45l-7.72 7.72c-.78.78-.78 2.05 0 2.83L4 21.41c.39.39.9.59 1.41.59.51 0 1.02-.2 1.41-.59l7.78-7.78 2.81-2.81c.8-.78.8-2.07 0-2.86zM5.41 20L4 18.59l7.72-7.72 1.47 1.35L5.41 20z\"/>\n",
              "  </svg>\n",
              "      </button>\n",
              "      \n",
              "  <style>\n",
              "    .colab-df-container {\n",
              "      display:flex;\n",
              "      flex-wrap:wrap;\n",
              "      gap: 12px;\n",
              "    }\n",
              "\n",
              "    .colab-df-convert {\n",
              "      background-color: #E8F0FE;\n",
              "      border: none;\n",
              "      border-radius: 50%;\n",
              "      cursor: pointer;\n",
              "      display: none;\n",
              "      fill: #1967D2;\n",
              "      height: 32px;\n",
              "      padding: 0 0 0 0;\n",
              "      width: 32px;\n",
              "    }\n",
              "\n",
              "    .colab-df-convert:hover {\n",
              "      background-color: #E2EBFA;\n",
              "      box-shadow: 0px 1px 2px rgba(60, 64, 67, 0.3), 0px 1px 3px 1px rgba(60, 64, 67, 0.15);\n",
              "      fill: #174EA6;\n",
              "    }\n",
              "\n",
              "    [theme=dark] .colab-df-convert {\n",
              "      background-color: #3B4455;\n",
              "      fill: #D2E3FC;\n",
              "    }\n",
              "\n",
              "    [theme=dark] .colab-df-convert:hover {\n",
              "      background-color: #434B5C;\n",
              "      box-shadow: 0px 1px 3px 1px rgba(0, 0, 0, 0.15);\n",
              "      filter: drop-shadow(0px 1px 2px rgba(0, 0, 0, 0.3));\n",
              "      fill: #FFFFFF;\n",
              "    }\n",
              "  </style>\n",
              "\n",
              "      <script>\n",
              "        const buttonEl =\n",
              "          document.querySelector('#df-cafc145c-98e9-43bd-8c8c-e6002f9af39a button.colab-df-convert');\n",
              "        buttonEl.style.display =\n",
              "          google.colab.kernel.accessAllowed ? 'block' : 'none';\n",
              "\n",
              "        async function convertToInteractive(key) {\n",
              "          const element = document.querySelector('#df-cafc145c-98e9-43bd-8c8c-e6002f9af39a');\n",
              "          const dataTable =\n",
              "            await google.colab.kernel.invokeFunction('convertToInteractive',\n",
              "                                                     [key], {});\n",
              "          if (!dataTable) return;\n",
              "\n",
              "          const docLinkHtml = 'Like what you see? Visit the ' +\n",
              "            '<a target=\"_blank\" href=https://colab.research.google.com/notebooks/data_table.ipynb>data table notebook</a>'\n",
              "            + ' to learn more about interactive tables.';\n",
              "          element.innerHTML = '';\n",
              "          dataTable['output_type'] = 'display_data';\n",
              "          await google.colab.output.renderOutput(dataTable, element);\n",
              "          const docLink = document.createElement('div');\n",
              "          docLink.innerHTML = docLinkHtml;\n",
              "          element.appendChild(docLink);\n",
              "        }\n",
              "      </script>\n",
              "    </div>\n",
              "  </div>\n",
              "  "
            ]
          },
          "metadata": {},
          "execution_count": 5
        }
      ]
    },
    {
      "cell_type": "markdown",
      "source": [
        "26881 raws for train data, 2987 for test one."
      ],
      "metadata": {
        "id": "4b6JtgHn0qr8"
      }
    },
    {
      "cell_type": "code",
      "source": [
        "len(LY16_train), len(LY16_test)"
      ],
      "metadata": {
        "colab": {
          "base_uri": "https://localhost:8080/"
        },
        "id": "rxf5f2cKxzBt",
        "outputId": "ba71cfbb-b292-408d-bf8b-61fd86b54774",
        "execution": {
          "iopub.status.busy": "2023-05-07T23:55:08.320291Z",
          "iopub.execute_input": "2023-05-07T23:55:08.320693Z",
          "iopub.status.idle": "2023-05-07T23:55:08.328351Z",
          "shell.execute_reply.started": "2023-05-07T23:55:08.320654Z",
          "shell.execute_reply": "2023-05-07T23:55:08.327423Z"
        },
        "trusted": true
      },
      "execution_count": null,
      "outputs": [
        {
          "output_type": "execute_result",
          "data": {
            "text/plain": [
              "(26881, 2987)"
            ]
          },
          "metadata": {},
          "execution_count": 6
        }
      ]
    },
    {
      "cell_type": "markdown",
      "source": [
        "Let us combine data for further steps and name it just LY16."
      ],
      "metadata": {
        "id": "QiyjE37702Dx"
      }
    },
    {
      "cell_type": "code",
      "source": [
        "LY16 = pd.concat([LY16_test, LY16_train])\n",
        "LY16.head()"
      ],
      "metadata": {
        "execution": {
          "iopub.status.busy": "2023-05-07T23:55:08.329853Z",
          "iopub.execute_input": "2023-05-07T23:55:08.330201Z",
          "iopub.status.idle": "2023-05-07T23:55:08.355221Z",
          "shell.execute_reply.started": "2023-05-07T23:55:08.330167Z",
          "shell.execute_reply": "2023-05-07T23:55:08.354031Z"
        },
        "trusted": true,
        "colab": {
          "base_uri": "https://localhost:8080/",
          "height": 288
        },
        "id": "jr-A7FO3rAkt",
        "outputId": "4e845f1a-b5d0-4be6-d928-7277b1cf3a02"
      },
      "execution_count": null,
      "outputs": [
        {
          "output_type": "execute_result",
          "data": {
            "text/plain": [
              "   Unnamed: 0               junction_aa    v_call  consensus_count    j_call  \\\n",
              "0       56910  KNTGFNCYFPLLAYGFHPTSGVDY  IGHV_RBD                1  IGHJ_RBD   \n",
              "1        4131  KNPGFNCYHPIVGYGFQPTIGHDF  IGHV_RBD                1  IGHJ_RBD   \n",
              "2       46782  TTAGFNCYMPITRYGFWPTDGRSW  IGHV_RBD                1  IGHJ_RBD   \n",
              "3       11781  RNRGFNCYDPIHKYGFHRTNGLNY  IGHV_RBD                1  IGHJ_RBD   \n",
              "4       33282  KNKKFNCYVPLVTYGFHPTNGVNY  IGHV_RBD                1  IGHJ_RBD   \n",
              "\n",
              "   clonal_frequency  Label  Distance Antibody  \n",
              "0          0.000063      0         6     LY16  \n",
              "1          0.000047      1         9     LY16  \n",
              "2          0.000028      0        12     LY16  \n",
              "3          0.000047      1        10     LY16  \n",
              "4          0.000028      0         7     LY16  "
            ],
            "text/html": [
              "\n",
              "  <div id=\"df-71fa0cd3-1147-4b9a-a0f1-f64082843c12\">\n",
              "    <div class=\"colab-df-container\">\n",
              "      <div>\n",
              "<style scoped>\n",
              "    .dataframe tbody tr th:only-of-type {\n",
              "        vertical-align: middle;\n",
              "    }\n",
              "\n",
              "    .dataframe tbody tr th {\n",
              "        vertical-align: top;\n",
              "    }\n",
              "\n",
              "    .dataframe thead th {\n",
              "        text-align: right;\n",
              "    }\n",
              "</style>\n",
              "<table border=\"1\" class=\"dataframe\">\n",
              "  <thead>\n",
              "    <tr style=\"text-align: right;\">\n",
              "      <th></th>\n",
              "      <th>Unnamed: 0</th>\n",
              "      <th>junction_aa</th>\n",
              "      <th>v_call</th>\n",
              "      <th>consensus_count</th>\n",
              "      <th>j_call</th>\n",
              "      <th>clonal_frequency</th>\n",
              "      <th>Label</th>\n",
              "      <th>Distance</th>\n",
              "      <th>Antibody</th>\n",
              "    </tr>\n",
              "  </thead>\n",
              "  <tbody>\n",
              "    <tr>\n",
              "      <th>0</th>\n",
              "      <td>56910</td>\n",
              "      <td>KNTGFNCYFPLLAYGFHPTSGVDY</td>\n",
              "      <td>IGHV_RBD</td>\n",
              "      <td>1</td>\n",
              "      <td>IGHJ_RBD</td>\n",
              "      <td>0.000063</td>\n",
              "      <td>0</td>\n",
              "      <td>6</td>\n",
              "      <td>LY16</td>\n",
              "    </tr>\n",
              "    <tr>\n",
              "      <th>1</th>\n",
              "      <td>4131</td>\n",
              "      <td>KNPGFNCYHPIVGYGFQPTIGHDF</td>\n",
              "      <td>IGHV_RBD</td>\n",
              "      <td>1</td>\n",
              "      <td>IGHJ_RBD</td>\n",
              "      <td>0.000047</td>\n",
              "      <td>1</td>\n",
              "      <td>9</td>\n",
              "      <td>LY16</td>\n",
              "    </tr>\n",
              "    <tr>\n",
              "      <th>2</th>\n",
              "      <td>46782</td>\n",
              "      <td>TTAGFNCYMPITRYGFWPTDGRSW</td>\n",
              "      <td>IGHV_RBD</td>\n",
              "      <td>1</td>\n",
              "      <td>IGHJ_RBD</td>\n",
              "      <td>0.000028</td>\n",
              "      <td>0</td>\n",
              "      <td>12</td>\n",
              "      <td>LY16</td>\n",
              "    </tr>\n",
              "    <tr>\n",
              "      <th>3</th>\n",
              "      <td>11781</td>\n",
              "      <td>RNRGFNCYDPIHKYGFHRTNGLNY</td>\n",
              "      <td>IGHV_RBD</td>\n",
              "      <td>1</td>\n",
              "      <td>IGHJ_RBD</td>\n",
              "      <td>0.000047</td>\n",
              "      <td>1</td>\n",
              "      <td>10</td>\n",
              "      <td>LY16</td>\n",
              "    </tr>\n",
              "    <tr>\n",
              "      <th>4</th>\n",
              "      <td>33282</td>\n",
              "      <td>KNKKFNCYVPLVTYGFHPTNGVNY</td>\n",
              "      <td>IGHV_RBD</td>\n",
              "      <td>1</td>\n",
              "      <td>IGHJ_RBD</td>\n",
              "      <td>0.000028</td>\n",
              "      <td>0</td>\n",
              "      <td>7</td>\n",
              "      <td>LY16</td>\n",
              "    </tr>\n",
              "  </tbody>\n",
              "</table>\n",
              "</div>\n",
              "      <button class=\"colab-df-convert\" onclick=\"convertToInteractive('df-71fa0cd3-1147-4b9a-a0f1-f64082843c12')\"\n",
              "              title=\"Convert this dataframe to an interactive table.\"\n",
              "              style=\"display:none;\">\n",
              "        \n",
              "  <svg xmlns=\"http://www.w3.org/2000/svg\" height=\"24px\"viewBox=\"0 0 24 24\"\n",
              "       width=\"24px\">\n",
              "    <path d=\"M0 0h24v24H0V0z\" fill=\"none\"/>\n",
              "    <path d=\"M18.56 5.44l.94 2.06.94-2.06 2.06-.94-2.06-.94-.94-2.06-.94 2.06-2.06.94zm-11 1L8.5 8.5l.94-2.06 2.06-.94-2.06-.94L8.5 2.5l-.94 2.06-2.06.94zm10 10l.94 2.06.94-2.06 2.06-.94-2.06-.94-.94-2.06-.94 2.06-2.06.94z\"/><path d=\"M17.41 7.96l-1.37-1.37c-.4-.4-.92-.59-1.43-.59-.52 0-1.04.2-1.43.59L10.3 9.45l-7.72 7.72c-.78.78-.78 2.05 0 2.83L4 21.41c.39.39.9.59 1.41.59.51 0 1.02-.2 1.41-.59l7.78-7.78 2.81-2.81c.8-.78.8-2.07 0-2.86zM5.41 20L4 18.59l7.72-7.72 1.47 1.35L5.41 20z\"/>\n",
              "  </svg>\n",
              "      </button>\n",
              "      \n",
              "  <style>\n",
              "    .colab-df-container {\n",
              "      display:flex;\n",
              "      flex-wrap:wrap;\n",
              "      gap: 12px;\n",
              "    }\n",
              "\n",
              "    .colab-df-convert {\n",
              "      background-color: #E8F0FE;\n",
              "      border: none;\n",
              "      border-radius: 50%;\n",
              "      cursor: pointer;\n",
              "      display: none;\n",
              "      fill: #1967D2;\n",
              "      height: 32px;\n",
              "      padding: 0 0 0 0;\n",
              "      width: 32px;\n",
              "    }\n",
              "\n",
              "    .colab-df-convert:hover {\n",
              "      background-color: #E2EBFA;\n",
              "      box-shadow: 0px 1px 2px rgba(60, 64, 67, 0.3), 0px 1px 3px 1px rgba(60, 64, 67, 0.15);\n",
              "      fill: #174EA6;\n",
              "    }\n",
              "\n",
              "    [theme=dark] .colab-df-convert {\n",
              "      background-color: #3B4455;\n",
              "      fill: #D2E3FC;\n",
              "    }\n",
              "\n",
              "    [theme=dark] .colab-df-convert:hover {\n",
              "      background-color: #434B5C;\n",
              "      box-shadow: 0px 1px 3px 1px rgba(0, 0, 0, 0.15);\n",
              "      filter: drop-shadow(0px 1px 2px rgba(0, 0, 0, 0.3));\n",
              "      fill: #FFFFFF;\n",
              "    }\n",
              "  </style>\n",
              "\n",
              "      <script>\n",
              "        const buttonEl =\n",
              "          document.querySelector('#df-71fa0cd3-1147-4b9a-a0f1-f64082843c12 button.colab-df-convert');\n",
              "        buttonEl.style.display =\n",
              "          google.colab.kernel.accessAllowed ? 'block' : 'none';\n",
              "\n",
              "        async function convertToInteractive(key) {\n",
              "          const element = document.querySelector('#df-71fa0cd3-1147-4b9a-a0f1-f64082843c12');\n",
              "          const dataTable =\n",
              "            await google.colab.kernel.invokeFunction('convertToInteractive',\n",
              "                                                     [key], {});\n",
              "          if (!dataTable) return;\n",
              "\n",
              "          const docLinkHtml = 'Like what you see? Visit the ' +\n",
              "            '<a target=\"_blank\" href=https://colab.research.google.com/notebooks/data_table.ipynb>data table notebook</a>'\n",
              "            + ' to learn more about interactive tables.';\n",
              "          element.innerHTML = '';\n",
              "          dataTable['output_type'] = 'display_data';\n",
              "          await google.colab.output.renderOutput(dataTable, element);\n",
              "          const docLink = document.createElement('div');\n",
              "          docLink.innerHTML = docLinkHtml;\n",
              "          element.appendChild(docLink);\n",
              "        }\n",
              "      </script>\n",
              "    </div>\n",
              "  </div>\n",
              "  "
            ]
          },
          "metadata": {},
          "execution_count": 7
        }
      ]
    },
    {
      "cell_type": "markdown",
      "source": [
        "## LY555"
      ],
      "metadata": {
        "id": "q5BMayNjYvMF"
      }
    },
    {
      "cell_type": "markdown",
      "source": [
        "Next 4 cells are the same as 4 previous ones but for another antibody LY555."
      ],
      "metadata": {
        "id": "1iQNB0531FwP"
      }
    },
    {
      "cell_type": "code",
      "source": [
        "LY555_train = pd.read_csv(\"/content/Train:Test Sequences/LY555_train_data.csv\")\n",
        "LY555_test = pd.read_csv(\"/content/Train:Test Sequences/LY555_test_data.csv\")"
      ],
      "metadata": {
        "id": "94p5y-WStmIN",
        "execution": {
          "iopub.status.busy": "2023-04-25T13:27:42.057813Z",
          "iopub.execute_input": "2023-04-25T13:27:42.058308Z",
          "iopub.status.idle": "2023-04-25T13:27:42.110685Z",
          "shell.execute_reply.started": "2023-04-25T13:27:42.058264Z",
          "shell.execute_reply": "2023-04-25T13:27:42.109293Z"
        },
        "trusted": true
      },
      "execution_count": null,
      "outputs": []
    },
    {
      "cell_type": "code",
      "source": [
        "LY555_train.head()"
      ],
      "metadata": {
        "colab": {
          "base_uri": "https://localhost:8080/",
          "height": 288
        },
        "id": "OZIgySRex7O3",
        "outputId": "231146c5-70a0-4c97-c887-30935d402394",
        "execution": {
          "iopub.status.busy": "2023-04-25T13:27:43.933230Z",
          "iopub.execute_input": "2023-04-25T13:27:43.934355Z",
          "iopub.status.idle": "2023-04-25T13:27:43.970719Z",
          "shell.execute_reply.started": "2023-04-25T13:27:43.934299Z",
          "shell.execute_reply": "2023-04-25T13:27:43.969203Z"
        },
        "trusted": true
      },
      "execution_count": null,
      "outputs": [
        {
          "output_type": "execute_result",
          "data": {
            "text/plain": [
              "   Unnamed: 0               junction_aa    v_call  consensus_count    j_call  \\\n",
              "0       92749  KNEGFNCYFPLQPYGFQPTIGSGY  IGHV_RBD                1  IGHJ_RBD   \n",
              "1       93213  KNPGFNCYFPLYPYGFQPTNGVNY  IGHV_RBD                1  IGHJ_RBD   \n",
              "2       81950  KNEGFNCYFPLFSYGFQRTNGRGY  IGHV_RBD               99  IGHJ_RBD   \n",
              "3        3361  FLRGFNCYRPLYHYGFQPTFGQDW  IGHV_RBD                1  IGHJ_RBD   \n",
              "4       78980  KNEGFNCYFPLSSYGFQPTMGGGY  IGHV_RBD                2  IGHJ_RBD   \n",
              "\n",
              "   clonal_frequency  Label  Distance Antibody  \n",
              "0          0.000001      0         3    LY555  \n",
              "1          0.000001      0         4    LY555  \n",
              "2          0.000139      0         3    LY555  \n",
              "3          0.000066      1        10    LY555  \n",
              "4          0.000016      1         3    LY555  "
            ],
            "text/html": [
              "\n",
              "  <div id=\"df-63fd9e67-a637-4eda-9a5d-450f06475dd8\">\n",
              "    <div class=\"colab-df-container\">\n",
              "      <div>\n",
              "<style scoped>\n",
              "    .dataframe tbody tr th:only-of-type {\n",
              "        vertical-align: middle;\n",
              "    }\n",
              "\n",
              "    .dataframe tbody tr th {\n",
              "        vertical-align: top;\n",
              "    }\n",
              "\n",
              "    .dataframe thead th {\n",
              "        text-align: right;\n",
              "    }\n",
              "</style>\n",
              "<table border=\"1\" class=\"dataframe\">\n",
              "  <thead>\n",
              "    <tr style=\"text-align: right;\">\n",
              "      <th></th>\n",
              "      <th>Unnamed: 0</th>\n",
              "      <th>junction_aa</th>\n",
              "      <th>v_call</th>\n",
              "      <th>consensus_count</th>\n",
              "      <th>j_call</th>\n",
              "      <th>clonal_frequency</th>\n",
              "      <th>Label</th>\n",
              "      <th>Distance</th>\n",
              "      <th>Antibody</th>\n",
              "    </tr>\n",
              "  </thead>\n",
              "  <tbody>\n",
              "    <tr>\n",
              "      <th>0</th>\n",
              "      <td>92749</td>\n",
              "      <td>KNEGFNCYFPLQPYGFQPTIGSGY</td>\n",
              "      <td>IGHV_RBD</td>\n",
              "      <td>1</td>\n",
              "      <td>IGHJ_RBD</td>\n",
              "      <td>0.000001</td>\n",
              "      <td>0</td>\n",
              "      <td>3</td>\n",
              "      <td>LY555</td>\n",
              "    </tr>\n",
              "    <tr>\n",
              "      <th>1</th>\n",
              "      <td>93213</td>\n",
              "      <td>KNPGFNCYFPLYPYGFQPTNGVNY</td>\n",
              "      <td>IGHV_RBD</td>\n",
              "      <td>1</td>\n",
              "      <td>IGHJ_RBD</td>\n",
              "      <td>0.000001</td>\n",
              "      <td>0</td>\n",
              "      <td>4</td>\n",
              "      <td>LY555</td>\n",
              "    </tr>\n",
              "    <tr>\n",
              "      <th>2</th>\n",
              "      <td>81950</td>\n",
              "      <td>KNEGFNCYFPLFSYGFQRTNGRGY</td>\n",
              "      <td>IGHV_RBD</td>\n",
              "      <td>99</td>\n",
              "      <td>IGHJ_RBD</td>\n",
              "      <td>0.000139</td>\n",
              "      <td>0</td>\n",
              "      <td>3</td>\n",
              "      <td>LY555</td>\n",
              "    </tr>\n",
              "    <tr>\n",
              "      <th>3</th>\n",
              "      <td>3361</td>\n",
              "      <td>FLRGFNCYRPLYHYGFQPTFGQDW</td>\n",
              "      <td>IGHV_RBD</td>\n",
              "      <td>1</td>\n",
              "      <td>IGHJ_RBD</td>\n",
              "      <td>0.000066</td>\n",
              "      <td>1</td>\n",
              "      <td>10</td>\n",
              "      <td>LY555</td>\n",
              "    </tr>\n",
              "    <tr>\n",
              "      <th>4</th>\n",
              "      <td>78980</td>\n",
              "      <td>KNEGFNCYFPLSSYGFQPTMGGGY</td>\n",
              "      <td>IGHV_RBD</td>\n",
              "      <td>2</td>\n",
              "      <td>IGHJ_RBD</td>\n",
              "      <td>0.000016</td>\n",
              "      <td>1</td>\n",
              "      <td>3</td>\n",
              "      <td>LY555</td>\n",
              "    </tr>\n",
              "  </tbody>\n",
              "</table>\n",
              "</div>\n",
              "      <button class=\"colab-df-convert\" onclick=\"convertToInteractive('df-63fd9e67-a637-4eda-9a5d-450f06475dd8')\"\n",
              "              title=\"Convert this dataframe to an interactive table.\"\n",
              "              style=\"display:none;\">\n",
              "        \n",
              "  <svg xmlns=\"http://www.w3.org/2000/svg\" height=\"24px\"viewBox=\"0 0 24 24\"\n",
              "       width=\"24px\">\n",
              "    <path d=\"M0 0h24v24H0V0z\" fill=\"none\"/>\n",
              "    <path d=\"M18.56 5.44l.94 2.06.94-2.06 2.06-.94-2.06-.94-.94-2.06-.94 2.06-2.06.94zm-11 1L8.5 8.5l.94-2.06 2.06-.94-2.06-.94L8.5 2.5l-.94 2.06-2.06.94zm10 10l.94 2.06.94-2.06 2.06-.94-2.06-.94-.94-2.06-.94 2.06-2.06.94z\"/><path d=\"M17.41 7.96l-1.37-1.37c-.4-.4-.92-.59-1.43-.59-.52 0-1.04.2-1.43.59L10.3 9.45l-7.72 7.72c-.78.78-.78 2.05 0 2.83L4 21.41c.39.39.9.59 1.41.59.51 0 1.02-.2 1.41-.59l7.78-7.78 2.81-2.81c.8-.78.8-2.07 0-2.86zM5.41 20L4 18.59l7.72-7.72 1.47 1.35L5.41 20z\"/>\n",
              "  </svg>\n",
              "      </button>\n",
              "      \n",
              "  <style>\n",
              "    .colab-df-container {\n",
              "      display:flex;\n",
              "      flex-wrap:wrap;\n",
              "      gap: 12px;\n",
              "    }\n",
              "\n",
              "    .colab-df-convert {\n",
              "      background-color: #E8F0FE;\n",
              "      border: none;\n",
              "      border-radius: 50%;\n",
              "      cursor: pointer;\n",
              "      display: none;\n",
              "      fill: #1967D2;\n",
              "      height: 32px;\n",
              "      padding: 0 0 0 0;\n",
              "      width: 32px;\n",
              "    }\n",
              "\n",
              "    .colab-df-convert:hover {\n",
              "      background-color: #E2EBFA;\n",
              "      box-shadow: 0px 1px 2px rgba(60, 64, 67, 0.3), 0px 1px 3px 1px rgba(60, 64, 67, 0.15);\n",
              "      fill: #174EA6;\n",
              "    }\n",
              "\n",
              "    [theme=dark] .colab-df-convert {\n",
              "      background-color: #3B4455;\n",
              "      fill: #D2E3FC;\n",
              "    }\n",
              "\n",
              "    [theme=dark] .colab-df-convert:hover {\n",
              "      background-color: #434B5C;\n",
              "      box-shadow: 0px 1px 3px 1px rgba(0, 0, 0, 0.15);\n",
              "      filter: drop-shadow(0px 1px 2px rgba(0, 0, 0, 0.3));\n",
              "      fill: #FFFFFF;\n",
              "    }\n",
              "  </style>\n",
              "\n",
              "      <script>\n",
              "        const buttonEl =\n",
              "          document.querySelector('#df-63fd9e67-a637-4eda-9a5d-450f06475dd8 button.colab-df-convert');\n",
              "        buttonEl.style.display =\n",
              "          google.colab.kernel.accessAllowed ? 'block' : 'none';\n",
              "\n",
              "        async function convertToInteractive(key) {\n",
              "          const element = document.querySelector('#df-63fd9e67-a637-4eda-9a5d-450f06475dd8');\n",
              "          const dataTable =\n",
              "            await google.colab.kernel.invokeFunction('convertToInteractive',\n",
              "                                                     [key], {});\n",
              "          if (!dataTable) return;\n",
              "\n",
              "          const docLinkHtml = 'Like what you see? Visit the ' +\n",
              "            '<a target=\"_blank\" href=https://colab.research.google.com/notebooks/data_table.ipynb>data table notebook</a>'\n",
              "            + ' to learn more about interactive tables.';\n",
              "          element.innerHTML = '';\n",
              "          dataTable['output_type'] = 'display_data';\n",
              "          await google.colab.output.renderOutput(dataTable, element);\n",
              "          const docLink = document.createElement('div');\n",
              "          docLink.innerHTML = docLinkHtml;\n",
              "          element.appendChild(docLink);\n",
              "        }\n",
              "      </script>\n",
              "    </div>\n",
              "  </div>\n",
              "  "
            ]
          },
          "metadata": {},
          "execution_count": 10
        }
      ]
    },
    {
      "cell_type": "code",
      "source": [
        "len(LY555_train), len(LY555_test)"
      ],
      "metadata": {
        "colab": {
          "base_uri": "https://localhost:8080/"
        },
        "id": "zZLig5yLx9-8",
        "outputId": "733f7818-677e-4d85-da5f-7e50a21498ea",
        "execution": {
          "iopub.status.busy": "2023-04-25T13:27:47.701386Z",
          "iopub.execute_input": "2023-04-25T13:27:47.701810Z",
          "iopub.status.idle": "2023-04-25T13:27:47.710523Z",
          "shell.execute_reply.started": "2023-04-25T13:27:47.701771Z",
          "shell.execute_reply": "2023-04-25T13:27:47.708988Z"
        },
        "trusted": true
      },
      "execution_count": null,
      "outputs": [
        {
          "output_type": "execute_result",
          "data": {
            "text/plain": [
              "(15087, 1677)"
            ]
          },
          "metadata": {},
          "execution_count": 11
        }
      ]
    },
    {
      "cell_type": "code",
      "source": [
        "LY555 = pd.concat([LY555_test, LY555_train])\n",
        "LY555.head()"
      ],
      "metadata": {
        "colab": {
          "base_uri": "https://localhost:8080/",
          "height": 288
        },
        "id": "fcYk4NE6rc25",
        "outputId": "9ae3a509-31f6-4451-edab-bf151a8a6ce7"
      },
      "execution_count": null,
      "outputs": [
        {
          "output_type": "execute_result",
          "data": {
            "text/plain": [
              "   Unnamed: 0               junction_aa    v_call  consensus_count    j_call  \\\n",
              "0       61810  KNKGFNCYNPLVRYGFQRTMGMGW  IGHV_RBD                1  IGHJ_RBD   \n",
              "1         483  KNEGFNCYWPLSAYGFHTTVGLDW  IGHV_RBD                8  IGHJ_RBD   \n",
              "2       88732  KNRGFNCYFPLQSYGFQTTNGVSY  IGHV_RBD                1  IGHJ_RBD   \n",
              "3       24513  KNGGFNCYSPLARYGFQRTVGVSY  IGHV_RBD                1  IGHJ_RBD   \n",
              "4        3535  KNEGFNCYWPLAAYGFWPTWGVGW  IGHV_RBD                1  IGHJ_RBD   \n",
              "\n",
              "   clonal_frequency  Label  Distance Antibody  \n",
              "0          0.000012      0         8    LY555  \n",
              "1          0.000528      1         9    LY555  \n",
              "2          0.000001      0         3    LY555  \n",
              "3          0.000012      0         7    LY555  \n",
              "4          0.000066      1         6    LY555  "
            ],
            "text/html": [
              "\n",
              "  <div id=\"df-d828db01-63cc-4bfc-811d-d8d185a614a8\">\n",
              "    <div class=\"colab-df-container\">\n",
              "      <div>\n",
              "<style scoped>\n",
              "    .dataframe tbody tr th:only-of-type {\n",
              "        vertical-align: middle;\n",
              "    }\n",
              "\n",
              "    .dataframe tbody tr th {\n",
              "        vertical-align: top;\n",
              "    }\n",
              "\n",
              "    .dataframe thead th {\n",
              "        text-align: right;\n",
              "    }\n",
              "</style>\n",
              "<table border=\"1\" class=\"dataframe\">\n",
              "  <thead>\n",
              "    <tr style=\"text-align: right;\">\n",
              "      <th></th>\n",
              "      <th>Unnamed: 0</th>\n",
              "      <th>junction_aa</th>\n",
              "      <th>v_call</th>\n",
              "      <th>consensus_count</th>\n",
              "      <th>j_call</th>\n",
              "      <th>clonal_frequency</th>\n",
              "      <th>Label</th>\n",
              "      <th>Distance</th>\n",
              "      <th>Antibody</th>\n",
              "    </tr>\n",
              "  </thead>\n",
              "  <tbody>\n",
              "    <tr>\n",
              "      <th>0</th>\n",
              "      <td>61810</td>\n",
              "      <td>KNKGFNCYNPLVRYGFQRTMGMGW</td>\n",
              "      <td>IGHV_RBD</td>\n",
              "      <td>1</td>\n",
              "      <td>IGHJ_RBD</td>\n",
              "      <td>0.000012</td>\n",
              "      <td>0</td>\n",
              "      <td>8</td>\n",
              "      <td>LY555</td>\n",
              "    </tr>\n",
              "    <tr>\n",
              "      <th>1</th>\n",
              "      <td>483</td>\n",
              "      <td>KNEGFNCYWPLSAYGFHTTVGLDW</td>\n",
              "      <td>IGHV_RBD</td>\n",
              "      <td>8</td>\n",
              "      <td>IGHJ_RBD</td>\n",
              "      <td>0.000528</td>\n",
              "      <td>1</td>\n",
              "      <td>9</td>\n",
              "      <td>LY555</td>\n",
              "    </tr>\n",
              "    <tr>\n",
              "      <th>2</th>\n",
              "      <td>88732</td>\n",
              "      <td>KNRGFNCYFPLQSYGFQTTNGVSY</td>\n",
              "      <td>IGHV_RBD</td>\n",
              "      <td>1</td>\n",
              "      <td>IGHJ_RBD</td>\n",
              "      <td>0.000001</td>\n",
              "      <td>0</td>\n",
              "      <td>3</td>\n",
              "      <td>LY555</td>\n",
              "    </tr>\n",
              "    <tr>\n",
              "      <th>3</th>\n",
              "      <td>24513</td>\n",
              "      <td>KNGGFNCYSPLARYGFQRTVGVSY</td>\n",
              "      <td>IGHV_RBD</td>\n",
              "      <td>1</td>\n",
              "      <td>IGHJ_RBD</td>\n",
              "      <td>0.000012</td>\n",
              "      <td>0</td>\n",
              "      <td>7</td>\n",
              "      <td>LY555</td>\n",
              "    </tr>\n",
              "    <tr>\n",
              "      <th>4</th>\n",
              "      <td>3535</td>\n",
              "      <td>KNEGFNCYWPLAAYGFWPTWGVGW</td>\n",
              "      <td>IGHV_RBD</td>\n",
              "      <td>1</td>\n",
              "      <td>IGHJ_RBD</td>\n",
              "      <td>0.000066</td>\n",
              "      <td>1</td>\n",
              "      <td>6</td>\n",
              "      <td>LY555</td>\n",
              "    </tr>\n",
              "  </tbody>\n",
              "</table>\n",
              "</div>\n",
              "      <button class=\"colab-df-convert\" onclick=\"convertToInteractive('df-d828db01-63cc-4bfc-811d-d8d185a614a8')\"\n",
              "              title=\"Convert this dataframe to an interactive table.\"\n",
              "              style=\"display:none;\">\n",
              "        \n",
              "  <svg xmlns=\"http://www.w3.org/2000/svg\" height=\"24px\"viewBox=\"0 0 24 24\"\n",
              "       width=\"24px\">\n",
              "    <path d=\"M0 0h24v24H0V0z\" fill=\"none\"/>\n",
              "    <path d=\"M18.56 5.44l.94 2.06.94-2.06 2.06-.94-2.06-.94-.94-2.06-.94 2.06-2.06.94zm-11 1L8.5 8.5l.94-2.06 2.06-.94-2.06-.94L8.5 2.5l-.94 2.06-2.06.94zm10 10l.94 2.06.94-2.06 2.06-.94-2.06-.94-.94-2.06-.94 2.06-2.06.94z\"/><path d=\"M17.41 7.96l-1.37-1.37c-.4-.4-.92-.59-1.43-.59-.52 0-1.04.2-1.43.59L10.3 9.45l-7.72 7.72c-.78.78-.78 2.05 0 2.83L4 21.41c.39.39.9.59 1.41.59.51 0 1.02-.2 1.41-.59l7.78-7.78 2.81-2.81c.8-.78.8-2.07 0-2.86zM5.41 20L4 18.59l7.72-7.72 1.47 1.35L5.41 20z\"/>\n",
              "  </svg>\n",
              "      </button>\n",
              "      \n",
              "  <style>\n",
              "    .colab-df-container {\n",
              "      display:flex;\n",
              "      flex-wrap:wrap;\n",
              "      gap: 12px;\n",
              "    }\n",
              "\n",
              "    .colab-df-convert {\n",
              "      background-color: #E8F0FE;\n",
              "      border: none;\n",
              "      border-radius: 50%;\n",
              "      cursor: pointer;\n",
              "      display: none;\n",
              "      fill: #1967D2;\n",
              "      height: 32px;\n",
              "      padding: 0 0 0 0;\n",
              "      width: 32px;\n",
              "    }\n",
              "\n",
              "    .colab-df-convert:hover {\n",
              "      background-color: #E2EBFA;\n",
              "      box-shadow: 0px 1px 2px rgba(60, 64, 67, 0.3), 0px 1px 3px 1px rgba(60, 64, 67, 0.15);\n",
              "      fill: #174EA6;\n",
              "    }\n",
              "\n",
              "    [theme=dark] .colab-df-convert {\n",
              "      background-color: #3B4455;\n",
              "      fill: #D2E3FC;\n",
              "    }\n",
              "\n",
              "    [theme=dark] .colab-df-convert:hover {\n",
              "      background-color: #434B5C;\n",
              "      box-shadow: 0px 1px 3px 1px rgba(0, 0, 0, 0.15);\n",
              "      filter: drop-shadow(0px 1px 2px rgba(0, 0, 0, 0.3));\n",
              "      fill: #FFFFFF;\n",
              "    }\n",
              "  </style>\n",
              "\n",
              "      <script>\n",
              "        const buttonEl =\n",
              "          document.querySelector('#df-d828db01-63cc-4bfc-811d-d8d185a614a8 button.colab-df-convert');\n",
              "        buttonEl.style.display =\n",
              "          google.colab.kernel.accessAllowed ? 'block' : 'none';\n",
              "\n",
              "        async function convertToInteractive(key) {\n",
              "          const element = document.querySelector('#df-d828db01-63cc-4bfc-811d-d8d185a614a8');\n",
              "          const dataTable =\n",
              "            await google.colab.kernel.invokeFunction('convertToInteractive',\n",
              "                                                     [key], {});\n",
              "          if (!dataTable) return;\n",
              "\n",
              "          const docLinkHtml = 'Like what you see? Visit the ' +\n",
              "            '<a target=\"_blank\" href=https://colab.research.google.com/notebooks/data_table.ipynb>data table notebook</a>'\n",
              "            + ' to learn more about interactive tables.';\n",
              "          element.innerHTML = '';\n",
              "          dataTable['output_type'] = 'display_data';\n",
              "          await google.colab.output.renderOutput(dataTable, element);\n",
              "          const docLink = document.createElement('div');\n",
              "          docLink.innerHTML = docLinkHtml;\n",
              "          element.appendChild(docLink);\n",
              "        }\n",
              "      </script>\n",
              "    </div>\n",
              "  </div>\n",
              "  "
            ]
          },
          "metadata": {},
          "execution_count": 12
        }
      ]
    },
    {
      "cell_type": "markdown",
      "source": [
        "## REGN33"
      ],
      "metadata": {
        "id": "TVdlb7jHYw49"
      }
    },
    {
      "cell_type": "markdown",
      "source": [
        "Next 4 cells are the same as 4 previous ones but for another antibody REGN33."
      ],
      "metadata": {
        "id": "zpHRBbpi1dVV"
      }
    },
    {
      "cell_type": "code",
      "source": [
        "REGN33_train = pd.read_csv(\"/content/Train:Test Sequences/REGN33_train_data.csv\")\n",
        "REGN33_test = pd.read_csv(\"/content/Train:Test Sequences/REGN33_test_data.csv\")"
      ],
      "metadata": {
        "id": "M24u3-sWve1W",
        "execution": {
          "iopub.status.busy": "2023-04-25T13:27:52.896127Z",
          "iopub.execute_input": "2023-04-25T13:27:52.896565Z",
          "iopub.status.idle": "2023-04-25T13:27:53.135392Z",
          "shell.execute_reply.started": "2023-04-25T13:27:52.896528Z",
          "shell.execute_reply": "2023-04-25T13:27:53.134012Z"
        },
        "trusted": true
      },
      "execution_count": null,
      "outputs": []
    },
    {
      "cell_type": "code",
      "source": [
        "REGN33_train.head()"
      ],
      "metadata": {
        "colab": {
          "base_uri": "https://localhost:8080/",
          "height": 288
        },
        "id": "7np0czFayFON",
        "outputId": "315af4ec-a198-4497-a8dc-ec79369cb540",
        "execution": {
          "iopub.status.busy": "2023-04-25T13:27:54.768388Z",
          "iopub.execute_input": "2023-04-25T13:27:54.768808Z",
          "iopub.status.idle": "2023-04-25T13:27:54.784972Z",
          "shell.execute_reply.started": "2023-04-25T13:27:54.768772Z",
          "shell.execute_reply": "2023-04-25T13:27:54.783570Z"
        },
        "trusted": true
      },
      "execution_count": null,
      "outputs": [
        {
          "output_type": "execute_result",
          "data": {
            "text/plain": [
              "   Unnamed: 0               junction_aa    v_call  consensus_count    j_call  \\\n",
              "0      157131  GNTGFNCYCPIKNYGFQRTGGLGW  IGHV_RBD                1  IGHJ_RBD   \n",
              "1      158034  KNTGFNCYLPLVRYGFQTTAGGDW  IGHV_RBD                1  IGHJ_RBD   \n",
              "2       52097  KNTGFNCYRPLNTYGFWRTSGINY  IGHV_RBD                1  IGHJ_RBD   \n",
              "3      122003  KNKGFNCYDPITRYGFWPTNGSNW  IGHV_RBD                1  IGHJ_RBD   \n",
              "4      110735  KNRGFNCYGPLVAYGFQRTCGMGW  IGHV_RBD                1  IGHJ_RBD   \n",
              "\n",
              "   clonal_frequency  Label  Distance Antibody  \n",
              "0          0.000008      0        10   REGN33  \n",
              "1          0.000008      0         9   REGN33  \n",
              "2          0.000007      1         9   REGN33  \n",
              "3          0.000008      0         9   REGN33  \n",
              "4          0.000008      0         8   REGN33  "
            ],
            "text/html": [
              "\n",
              "  <div id=\"df-c3b3e13b-f39d-41a8-bed9-d8b44c5d869a\">\n",
              "    <div class=\"colab-df-container\">\n",
              "      <div>\n",
              "<style scoped>\n",
              "    .dataframe tbody tr th:only-of-type {\n",
              "        vertical-align: middle;\n",
              "    }\n",
              "\n",
              "    .dataframe tbody tr th {\n",
              "        vertical-align: top;\n",
              "    }\n",
              "\n",
              "    .dataframe thead th {\n",
              "        text-align: right;\n",
              "    }\n",
              "</style>\n",
              "<table border=\"1\" class=\"dataframe\">\n",
              "  <thead>\n",
              "    <tr style=\"text-align: right;\">\n",
              "      <th></th>\n",
              "      <th>Unnamed: 0</th>\n",
              "      <th>junction_aa</th>\n",
              "      <th>v_call</th>\n",
              "      <th>consensus_count</th>\n",
              "      <th>j_call</th>\n",
              "      <th>clonal_frequency</th>\n",
              "      <th>Label</th>\n",
              "      <th>Distance</th>\n",
              "      <th>Antibody</th>\n",
              "    </tr>\n",
              "  </thead>\n",
              "  <tbody>\n",
              "    <tr>\n",
              "      <th>0</th>\n",
              "      <td>157131</td>\n",
              "      <td>GNTGFNCYCPIKNYGFQRTGGLGW</td>\n",
              "      <td>IGHV_RBD</td>\n",
              "      <td>1</td>\n",
              "      <td>IGHJ_RBD</td>\n",
              "      <td>0.000008</td>\n",
              "      <td>0</td>\n",
              "      <td>10</td>\n",
              "      <td>REGN33</td>\n",
              "    </tr>\n",
              "    <tr>\n",
              "      <th>1</th>\n",
              "      <td>158034</td>\n",
              "      <td>KNTGFNCYLPLVRYGFQTTAGGDW</td>\n",
              "      <td>IGHV_RBD</td>\n",
              "      <td>1</td>\n",
              "      <td>IGHJ_RBD</td>\n",
              "      <td>0.000008</td>\n",
              "      <td>0</td>\n",
              "      <td>9</td>\n",
              "      <td>REGN33</td>\n",
              "    </tr>\n",
              "    <tr>\n",
              "      <th>2</th>\n",
              "      <td>52097</td>\n",
              "      <td>KNTGFNCYRPLNTYGFWRTSGINY</td>\n",
              "      <td>IGHV_RBD</td>\n",
              "      <td>1</td>\n",
              "      <td>IGHJ_RBD</td>\n",
              "      <td>0.000007</td>\n",
              "      <td>1</td>\n",
              "      <td>9</td>\n",
              "      <td>REGN33</td>\n",
              "    </tr>\n",
              "    <tr>\n",
              "      <th>3</th>\n",
              "      <td>122003</td>\n",
              "      <td>KNKGFNCYDPITRYGFWPTNGSNW</td>\n",
              "      <td>IGHV_RBD</td>\n",
              "      <td>1</td>\n",
              "      <td>IGHJ_RBD</td>\n",
              "      <td>0.000008</td>\n",
              "      <td>0</td>\n",
              "      <td>9</td>\n",
              "      <td>REGN33</td>\n",
              "    </tr>\n",
              "    <tr>\n",
              "      <th>4</th>\n",
              "      <td>110735</td>\n",
              "      <td>KNRGFNCYGPLVAYGFQRTCGMGW</td>\n",
              "      <td>IGHV_RBD</td>\n",
              "      <td>1</td>\n",
              "      <td>IGHJ_RBD</td>\n",
              "      <td>0.000008</td>\n",
              "      <td>0</td>\n",
              "      <td>8</td>\n",
              "      <td>REGN33</td>\n",
              "    </tr>\n",
              "  </tbody>\n",
              "</table>\n",
              "</div>\n",
              "      <button class=\"colab-df-convert\" onclick=\"convertToInteractive('df-c3b3e13b-f39d-41a8-bed9-d8b44c5d869a')\"\n",
              "              title=\"Convert this dataframe to an interactive table.\"\n",
              "              style=\"display:none;\">\n",
              "        \n",
              "  <svg xmlns=\"http://www.w3.org/2000/svg\" height=\"24px\"viewBox=\"0 0 24 24\"\n",
              "       width=\"24px\">\n",
              "    <path d=\"M0 0h24v24H0V0z\" fill=\"none\"/>\n",
              "    <path d=\"M18.56 5.44l.94 2.06.94-2.06 2.06-.94-2.06-.94-.94-2.06-.94 2.06-2.06.94zm-11 1L8.5 8.5l.94-2.06 2.06-.94-2.06-.94L8.5 2.5l-.94 2.06-2.06.94zm10 10l.94 2.06.94-2.06 2.06-.94-2.06-.94-.94-2.06-.94 2.06-2.06.94z\"/><path d=\"M17.41 7.96l-1.37-1.37c-.4-.4-.92-.59-1.43-.59-.52 0-1.04.2-1.43.59L10.3 9.45l-7.72 7.72c-.78.78-.78 2.05 0 2.83L4 21.41c.39.39.9.59 1.41.59.51 0 1.02-.2 1.41-.59l7.78-7.78 2.81-2.81c.8-.78.8-2.07 0-2.86zM5.41 20L4 18.59l7.72-7.72 1.47 1.35L5.41 20z\"/>\n",
              "  </svg>\n",
              "      </button>\n",
              "      \n",
              "  <style>\n",
              "    .colab-df-container {\n",
              "      display:flex;\n",
              "      flex-wrap:wrap;\n",
              "      gap: 12px;\n",
              "    }\n",
              "\n",
              "    .colab-df-convert {\n",
              "      background-color: #E8F0FE;\n",
              "      border: none;\n",
              "      border-radius: 50%;\n",
              "      cursor: pointer;\n",
              "      display: none;\n",
              "      fill: #1967D2;\n",
              "      height: 32px;\n",
              "      padding: 0 0 0 0;\n",
              "      width: 32px;\n",
              "    }\n",
              "\n",
              "    .colab-df-convert:hover {\n",
              "      background-color: #E2EBFA;\n",
              "      box-shadow: 0px 1px 2px rgba(60, 64, 67, 0.3), 0px 1px 3px 1px rgba(60, 64, 67, 0.15);\n",
              "      fill: #174EA6;\n",
              "    }\n",
              "\n",
              "    [theme=dark] .colab-df-convert {\n",
              "      background-color: #3B4455;\n",
              "      fill: #D2E3FC;\n",
              "    }\n",
              "\n",
              "    [theme=dark] .colab-df-convert:hover {\n",
              "      background-color: #434B5C;\n",
              "      box-shadow: 0px 1px 3px 1px rgba(0, 0, 0, 0.15);\n",
              "      filter: drop-shadow(0px 1px 2px rgba(0, 0, 0, 0.3));\n",
              "      fill: #FFFFFF;\n",
              "    }\n",
              "  </style>\n",
              "\n",
              "      <script>\n",
              "        const buttonEl =\n",
              "          document.querySelector('#df-c3b3e13b-f39d-41a8-bed9-d8b44c5d869a button.colab-df-convert');\n",
              "        buttonEl.style.display =\n",
              "          google.colab.kernel.accessAllowed ? 'block' : 'none';\n",
              "\n",
              "        async function convertToInteractive(key) {\n",
              "          const element = document.querySelector('#df-c3b3e13b-f39d-41a8-bed9-d8b44c5d869a');\n",
              "          const dataTable =\n",
              "            await google.colab.kernel.invokeFunction('convertToInteractive',\n",
              "                                                     [key], {});\n",
              "          if (!dataTable) return;\n",
              "\n",
              "          const docLinkHtml = 'Like what you see? Visit the ' +\n",
              "            '<a target=\"_blank\" href=https://colab.research.google.com/notebooks/data_table.ipynb>data table notebook</a>'\n",
              "            + ' to learn more about interactive tables.';\n",
              "          element.innerHTML = '';\n",
              "          dataTable['output_type'] = 'display_data';\n",
              "          await google.colab.output.renderOutput(dataTable, element);\n",
              "          const docLink = document.createElement('div');\n",
              "          docLink.innerHTML = docLinkHtml;\n",
              "          element.appendChild(docLink);\n",
              "        }\n",
              "      </script>\n",
              "    </div>\n",
              "  </div>\n",
              "  "
            ]
          },
          "metadata": {},
          "execution_count": 14
        }
      ]
    },
    {
      "cell_type": "code",
      "source": [
        "len(REGN33_train), len(REGN33_test)"
      ],
      "metadata": {
        "colab": {
          "base_uri": "https://localhost:8080/"
        },
        "id": "_CReHXTKyHhE",
        "outputId": "5f423277-11fb-4dbe-e10f-5004e500f7f7",
        "execution": {
          "iopub.status.busy": "2023-04-25T13:27:57.507471Z",
          "iopub.execute_input": "2023-04-25T13:27:57.508774Z",
          "iopub.status.idle": "2023-04-25T13:27:57.517001Z",
          "shell.execute_reply.started": "2023-04-25T13:27:57.508699Z",
          "shell.execute_reply": "2023-04-25T13:27:57.515632Z"
        },
        "trusted": true
      },
      "execution_count": null,
      "outputs": [
        {
          "output_type": "execute_result",
          "data": {
            "text/plain": [
              "(120218, 13358)"
            ]
          },
          "metadata": {},
          "execution_count": 15
        }
      ]
    },
    {
      "cell_type": "code",
      "source": [
        "REGN33 = pd.concat([REGN33_test, REGN33_train])\n",
        "REGN33.head()"
      ],
      "metadata": {
        "colab": {
          "base_uri": "https://localhost:8080/",
          "height": 288
        },
        "id": "QqmzGtFtsZzE",
        "outputId": "d4e3bd0d-a239-4fe7-b00b-fc9105afe5a5"
      },
      "execution_count": null,
      "outputs": [
        {
          "output_type": "execute_result",
          "data": {
            "text/plain": [
              "   Unnamed: 0               junction_aa    v_call  consensus_count    j_call  \\\n",
              "0       47255  KNAGFNCYTPLKQYGFWRTGGRNW  IGHV_RBD                1  IGHJ_RBD   \n",
              "1      139320  KNKGFNCYSPLYAYGFWRTQGEGF  IGHV_RBD                1  IGHJ_RBD   \n",
              "2      124112  KNRGFNCYSPLRRYGFWTTAGMGW  IGHV_RBD                1  IGHJ_RBD   \n",
              "3      122963  TGTGFNCYNPLCTYGFQRTVGRNW  IGHV_RBD                1  IGHJ_RBD   \n",
              "4       25328  KNKGFNCYAPLSPYGFWPTAGRGW  IGHV_RBD                2  IGHJ_RBD   \n",
              "\n",
              "   clonal_frequency  Label  Distance Antibody  \n",
              "0          0.000007      1        10   REGN33  \n",
              "1          0.000008      0         9   REGN33  \n",
              "2          0.000008      0         9   REGN33  \n",
              "3          0.000008      0        11   REGN33  \n",
              "4          0.000015      1         8   REGN33  "
            ],
            "text/html": [
              "\n",
              "  <div id=\"df-2b6e5783-a353-4e35-ab22-3345ef5f69b2\">\n",
              "    <div class=\"colab-df-container\">\n",
              "      <div>\n",
              "<style scoped>\n",
              "    .dataframe tbody tr th:only-of-type {\n",
              "        vertical-align: middle;\n",
              "    }\n",
              "\n",
              "    .dataframe tbody tr th {\n",
              "        vertical-align: top;\n",
              "    }\n",
              "\n",
              "    .dataframe thead th {\n",
              "        text-align: right;\n",
              "    }\n",
              "</style>\n",
              "<table border=\"1\" class=\"dataframe\">\n",
              "  <thead>\n",
              "    <tr style=\"text-align: right;\">\n",
              "      <th></th>\n",
              "      <th>Unnamed: 0</th>\n",
              "      <th>junction_aa</th>\n",
              "      <th>v_call</th>\n",
              "      <th>consensus_count</th>\n",
              "      <th>j_call</th>\n",
              "      <th>clonal_frequency</th>\n",
              "      <th>Label</th>\n",
              "      <th>Distance</th>\n",
              "      <th>Antibody</th>\n",
              "    </tr>\n",
              "  </thead>\n",
              "  <tbody>\n",
              "    <tr>\n",
              "      <th>0</th>\n",
              "      <td>47255</td>\n",
              "      <td>KNAGFNCYTPLKQYGFWRTGGRNW</td>\n",
              "      <td>IGHV_RBD</td>\n",
              "      <td>1</td>\n",
              "      <td>IGHJ_RBD</td>\n",
              "      <td>0.000007</td>\n",
              "      <td>1</td>\n",
              "      <td>10</td>\n",
              "      <td>REGN33</td>\n",
              "    </tr>\n",
              "    <tr>\n",
              "      <th>1</th>\n",
              "      <td>139320</td>\n",
              "      <td>KNKGFNCYSPLYAYGFWRTQGEGF</td>\n",
              "      <td>IGHV_RBD</td>\n",
              "      <td>1</td>\n",
              "      <td>IGHJ_RBD</td>\n",
              "      <td>0.000008</td>\n",
              "      <td>0</td>\n",
              "      <td>9</td>\n",
              "      <td>REGN33</td>\n",
              "    </tr>\n",
              "    <tr>\n",
              "      <th>2</th>\n",
              "      <td>124112</td>\n",
              "      <td>KNRGFNCYSPLRRYGFWTTAGMGW</td>\n",
              "      <td>IGHV_RBD</td>\n",
              "      <td>1</td>\n",
              "      <td>IGHJ_RBD</td>\n",
              "      <td>0.000008</td>\n",
              "      <td>0</td>\n",
              "      <td>9</td>\n",
              "      <td>REGN33</td>\n",
              "    </tr>\n",
              "    <tr>\n",
              "      <th>3</th>\n",
              "      <td>122963</td>\n",
              "      <td>TGTGFNCYNPLCTYGFQRTVGRNW</td>\n",
              "      <td>IGHV_RBD</td>\n",
              "      <td>1</td>\n",
              "      <td>IGHJ_RBD</td>\n",
              "      <td>0.000008</td>\n",
              "      <td>0</td>\n",
              "      <td>11</td>\n",
              "      <td>REGN33</td>\n",
              "    </tr>\n",
              "    <tr>\n",
              "      <th>4</th>\n",
              "      <td>25328</td>\n",
              "      <td>KNKGFNCYAPLSPYGFWPTAGRGW</td>\n",
              "      <td>IGHV_RBD</td>\n",
              "      <td>2</td>\n",
              "      <td>IGHJ_RBD</td>\n",
              "      <td>0.000015</td>\n",
              "      <td>1</td>\n",
              "      <td>8</td>\n",
              "      <td>REGN33</td>\n",
              "    </tr>\n",
              "  </tbody>\n",
              "</table>\n",
              "</div>\n",
              "      <button class=\"colab-df-convert\" onclick=\"convertToInteractive('df-2b6e5783-a353-4e35-ab22-3345ef5f69b2')\"\n",
              "              title=\"Convert this dataframe to an interactive table.\"\n",
              "              style=\"display:none;\">\n",
              "        \n",
              "  <svg xmlns=\"http://www.w3.org/2000/svg\" height=\"24px\"viewBox=\"0 0 24 24\"\n",
              "       width=\"24px\">\n",
              "    <path d=\"M0 0h24v24H0V0z\" fill=\"none\"/>\n",
              "    <path d=\"M18.56 5.44l.94 2.06.94-2.06 2.06-.94-2.06-.94-.94-2.06-.94 2.06-2.06.94zm-11 1L8.5 8.5l.94-2.06 2.06-.94-2.06-.94L8.5 2.5l-.94 2.06-2.06.94zm10 10l.94 2.06.94-2.06 2.06-.94-2.06-.94-.94-2.06-.94 2.06-2.06.94z\"/><path d=\"M17.41 7.96l-1.37-1.37c-.4-.4-.92-.59-1.43-.59-.52 0-1.04.2-1.43.59L10.3 9.45l-7.72 7.72c-.78.78-.78 2.05 0 2.83L4 21.41c.39.39.9.59 1.41.59.51 0 1.02-.2 1.41-.59l7.78-7.78 2.81-2.81c.8-.78.8-2.07 0-2.86zM5.41 20L4 18.59l7.72-7.72 1.47 1.35L5.41 20z\"/>\n",
              "  </svg>\n",
              "      </button>\n",
              "      \n",
              "  <style>\n",
              "    .colab-df-container {\n",
              "      display:flex;\n",
              "      flex-wrap:wrap;\n",
              "      gap: 12px;\n",
              "    }\n",
              "\n",
              "    .colab-df-convert {\n",
              "      background-color: #E8F0FE;\n",
              "      border: none;\n",
              "      border-radius: 50%;\n",
              "      cursor: pointer;\n",
              "      display: none;\n",
              "      fill: #1967D2;\n",
              "      height: 32px;\n",
              "      padding: 0 0 0 0;\n",
              "      width: 32px;\n",
              "    }\n",
              "\n",
              "    .colab-df-convert:hover {\n",
              "      background-color: #E2EBFA;\n",
              "      box-shadow: 0px 1px 2px rgba(60, 64, 67, 0.3), 0px 1px 3px 1px rgba(60, 64, 67, 0.15);\n",
              "      fill: #174EA6;\n",
              "    }\n",
              "\n",
              "    [theme=dark] .colab-df-convert {\n",
              "      background-color: #3B4455;\n",
              "      fill: #D2E3FC;\n",
              "    }\n",
              "\n",
              "    [theme=dark] .colab-df-convert:hover {\n",
              "      background-color: #434B5C;\n",
              "      box-shadow: 0px 1px 3px 1px rgba(0, 0, 0, 0.15);\n",
              "      filter: drop-shadow(0px 1px 2px rgba(0, 0, 0, 0.3));\n",
              "      fill: #FFFFFF;\n",
              "    }\n",
              "  </style>\n",
              "\n",
              "      <script>\n",
              "        const buttonEl =\n",
              "          document.querySelector('#df-2b6e5783-a353-4e35-ab22-3345ef5f69b2 button.colab-df-convert');\n",
              "        buttonEl.style.display =\n",
              "          google.colab.kernel.accessAllowed ? 'block' : 'none';\n",
              "\n",
              "        async function convertToInteractive(key) {\n",
              "          const element = document.querySelector('#df-2b6e5783-a353-4e35-ab22-3345ef5f69b2');\n",
              "          const dataTable =\n",
              "            await google.colab.kernel.invokeFunction('convertToInteractive',\n",
              "                                                     [key], {});\n",
              "          if (!dataTable) return;\n",
              "\n",
              "          const docLinkHtml = 'Like what you see? Visit the ' +\n",
              "            '<a target=\"_blank\" href=https://colab.research.google.com/notebooks/data_table.ipynb>data table notebook</a>'\n",
              "            + ' to learn more about interactive tables.';\n",
              "          element.innerHTML = '';\n",
              "          dataTable['output_type'] = 'display_data';\n",
              "          await google.colab.output.renderOutput(dataTable, element);\n",
              "          const docLink = document.createElement('div');\n",
              "          docLink.innerHTML = docLinkHtml;\n",
              "          element.appendChild(docLink);\n",
              "        }\n",
              "      </script>\n",
              "    </div>\n",
              "  </div>\n",
              "  "
            ]
          },
          "metadata": {},
          "execution_count": 16
        }
      ]
    },
    {
      "cell_type": "markdown",
      "source": [
        "## REGN87"
      ],
      "metadata": {
        "id": "WrbJ2h7RY1gi"
      }
    },
    {
      "cell_type": "markdown",
      "source": [
        "Next 4 cells are the same as 4 previous ones but for another antibody REGN87."
      ],
      "metadata": {
        "id": "D2i88ZIs1f3S"
      }
    },
    {
      "cell_type": "code",
      "source": [
        "REGN87_train = pd.read_csv(\"/content/Train:Test Sequences/REGN87_train_data.csv\")\n",
        "REGN87_test = pd.read_csv(\"/content/Train:Test Sequences/REGN87_test_data.csv\")"
      ],
      "metadata": {
        "id": "OnLZ0wwPvkyl",
        "execution": {
          "iopub.status.busy": "2023-04-25T13:28:03.351146Z",
          "iopub.execute_input": "2023-04-25T13:28:03.351622Z",
          "iopub.status.idle": "2023-04-25T13:28:03.426349Z",
          "shell.execute_reply.started": "2023-04-25T13:28:03.351579Z",
          "shell.execute_reply": "2023-04-25T13:28:03.425196Z"
        },
        "trusted": true
      },
      "execution_count": null,
      "outputs": []
    },
    {
      "cell_type": "code",
      "source": [
        "REGN87_train.head()"
      ],
      "metadata": {
        "colab": {
          "base_uri": "https://localhost:8080/",
          "height": 288
        },
        "id": "vQN3mg53yPoo",
        "outputId": "a5fc2386-5cd5-45df-c7ec-912f993373c9",
        "execution": {
          "iopub.status.busy": "2023-04-25T13:28:09.949616Z",
          "iopub.execute_input": "2023-04-25T13:28:09.950961Z",
          "iopub.status.idle": "2023-04-25T13:28:09.967852Z",
          "shell.execute_reply.started": "2023-04-25T13:28:09.950896Z",
          "shell.execute_reply": "2023-04-25T13:28:09.966256Z"
        },
        "trusted": true
      },
      "execution_count": null,
      "outputs": [
        {
          "output_type": "execute_result",
          "data": {
            "text/plain": [
              "   Unnamed: 0               junction_aa    v_call  consensus_count    j_call  \\\n",
              "0       13918  KNRGFNCYVPLTPYGFYPTCGEGF  IGHV_RBD                1  IGHJ_RBD   \n",
              "1       18091  KNAGFNCYPPIVRYGFWPTYGRSF  IGHV_RBD                1  IGHJ_RBD   \n",
              "2       42926  TIKQFNCYSPLQNYGFFRTSGEGY  IGHV_RBD                1  IGHJ_RBD   \n",
              "3       34999  KNRGFNCYDPIETYGFQRTIGRGW  IGHV_RBD                1  IGHJ_RBD   \n",
              "4       12801  VQPGFNCYWPIFSYGFWPTNGVNW  IGHV_RBD                1  IGHJ_RBD   \n",
              "\n",
              "   clonal_frequency  Label  Distance Antibody  \n",
              "0          0.000036      1         8   REGN87  \n",
              "1          0.000036      1        10   REGN87  \n",
              "2          0.000047      0        10   REGN87  \n",
              "3          0.000047      0         9   REGN87  \n",
              "4          0.000036      1         9   REGN87  "
            ],
            "text/html": [
              "\n",
              "  <div id=\"df-d232857f-0629-4c25-b035-9cca37057058\">\n",
              "    <div class=\"colab-df-container\">\n",
              "      <div>\n",
              "<style scoped>\n",
              "    .dataframe tbody tr th:only-of-type {\n",
              "        vertical-align: middle;\n",
              "    }\n",
              "\n",
              "    .dataframe tbody tr th {\n",
              "        vertical-align: top;\n",
              "    }\n",
              "\n",
              "    .dataframe thead th {\n",
              "        text-align: right;\n",
              "    }\n",
              "</style>\n",
              "<table border=\"1\" class=\"dataframe\">\n",
              "  <thead>\n",
              "    <tr style=\"text-align: right;\">\n",
              "      <th></th>\n",
              "      <th>Unnamed: 0</th>\n",
              "      <th>junction_aa</th>\n",
              "      <th>v_call</th>\n",
              "      <th>consensus_count</th>\n",
              "      <th>j_call</th>\n",
              "      <th>clonal_frequency</th>\n",
              "      <th>Label</th>\n",
              "      <th>Distance</th>\n",
              "      <th>Antibody</th>\n",
              "    </tr>\n",
              "  </thead>\n",
              "  <tbody>\n",
              "    <tr>\n",
              "      <th>0</th>\n",
              "      <td>13918</td>\n",
              "      <td>KNRGFNCYVPLTPYGFYPTCGEGF</td>\n",
              "      <td>IGHV_RBD</td>\n",
              "      <td>1</td>\n",
              "      <td>IGHJ_RBD</td>\n",
              "      <td>0.000036</td>\n",
              "      <td>1</td>\n",
              "      <td>8</td>\n",
              "      <td>REGN87</td>\n",
              "    </tr>\n",
              "    <tr>\n",
              "      <th>1</th>\n",
              "      <td>18091</td>\n",
              "      <td>KNAGFNCYPPIVRYGFWPTYGRSF</td>\n",
              "      <td>IGHV_RBD</td>\n",
              "      <td>1</td>\n",
              "      <td>IGHJ_RBD</td>\n",
              "      <td>0.000036</td>\n",
              "      <td>1</td>\n",
              "      <td>10</td>\n",
              "      <td>REGN87</td>\n",
              "    </tr>\n",
              "    <tr>\n",
              "      <th>2</th>\n",
              "      <td>42926</td>\n",
              "      <td>TIKQFNCYSPLQNYGFFRTSGEGY</td>\n",
              "      <td>IGHV_RBD</td>\n",
              "      <td>1</td>\n",
              "      <td>IGHJ_RBD</td>\n",
              "      <td>0.000047</td>\n",
              "      <td>0</td>\n",
              "      <td>10</td>\n",
              "      <td>REGN87</td>\n",
              "    </tr>\n",
              "    <tr>\n",
              "      <th>3</th>\n",
              "      <td>34999</td>\n",
              "      <td>KNRGFNCYDPIETYGFQRTIGRGW</td>\n",
              "      <td>IGHV_RBD</td>\n",
              "      <td>1</td>\n",
              "      <td>IGHJ_RBD</td>\n",
              "      <td>0.000047</td>\n",
              "      <td>0</td>\n",
              "      <td>9</td>\n",
              "      <td>REGN87</td>\n",
              "    </tr>\n",
              "    <tr>\n",
              "      <th>4</th>\n",
              "      <td>12801</td>\n",
              "      <td>VQPGFNCYWPIFSYGFWPTNGVNW</td>\n",
              "      <td>IGHV_RBD</td>\n",
              "      <td>1</td>\n",
              "      <td>IGHJ_RBD</td>\n",
              "      <td>0.000036</td>\n",
              "      <td>1</td>\n",
              "      <td>9</td>\n",
              "      <td>REGN87</td>\n",
              "    </tr>\n",
              "  </tbody>\n",
              "</table>\n",
              "</div>\n",
              "      <button class=\"colab-df-convert\" onclick=\"convertToInteractive('df-d232857f-0629-4c25-b035-9cca37057058')\"\n",
              "              title=\"Convert this dataframe to an interactive table.\"\n",
              "              style=\"display:none;\">\n",
              "        \n",
              "  <svg xmlns=\"http://www.w3.org/2000/svg\" height=\"24px\"viewBox=\"0 0 24 24\"\n",
              "       width=\"24px\">\n",
              "    <path d=\"M0 0h24v24H0V0z\" fill=\"none\"/>\n",
              "    <path d=\"M18.56 5.44l.94 2.06.94-2.06 2.06-.94-2.06-.94-.94-2.06-.94 2.06-2.06.94zm-11 1L8.5 8.5l.94-2.06 2.06-.94-2.06-.94L8.5 2.5l-.94 2.06-2.06.94zm10 10l.94 2.06.94-2.06 2.06-.94-2.06-.94-.94-2.06-.94 2.06-2.06.94z\"/><path d=\"M17.41 7.96l-1.37-1.37c-.4-.4-.92-.59-1.43-.59-.52 0-1.04.2-1.43.59L10.3 9.45l-7.72 7.72c-.78.78-.78 2.05 0 2.83L4 21.41c.39.39.9.59 1.41.59.51 0 1.02-.2 1.41-.59l7.78-7.78 2.81-2.81c.8-.78.8-2.07 0-2.86zM5.41 20L4 18.59l7.72-7.72 1.47 1.35L5.41 20z\"/>\n",
              "  </svg>\n",
              "      </button>\n",
              "      \n",
              "  <style>\n",
              "    .colab-df-container {\n",
              "      display:flex;\n",
              "      flex-wrap:wrap;\n",
              "      gap: 12px;\n",
              "    }\n",
              "\n",
              "    .colab-df-convert {\n",
              "      background-color: #E8F0FE;\n",
              "      border: none;\n",
              "      border-radius: 50%;\n",
              "      cursor: pointer;\n",
              "      display: none;\n",
              "      fill: #1967D2;\n",
              "      height: 32px;\n",
              "      padding: 0 0 0 0;\n",
              "      width: 32px;\n",
              "    }\n",
              "\n",
              "    .colab-df-convert:hover {\n",
              "      background-color: #E2EBFA;\n",
              "      box-shadow: 0px 1px 2px rgba(60, 64, 67, 0.3), 0px 1px 3px 1px rgba(60, 64, 67, 0.15);\n",
              "      fill: #174EA6;\n",
              "    }\n",
              "\n",
              "    [theme=dark] .colab-df-convert {\n",
              "      background-color: #3B4455;\n",
              "      fill: #D2E3FC;\n",
              "    }\n",
              "\n",
              "    [theme=dark] .colab-df-convert:hover {\n",
              "      background-color: #434B5C;\n",
              "      box-shadow: 0px 1px 3px 1px rgba(0, 0, 0, 0.15);\n",
              "      filter: drop-shadow(0px 1px 2px rgba(0, 0, 0, 0.3));\n",
              "      fill: #FFFFFF;\n",
              "    }\n",
              "  </style>\n",
              "\n",
              "      <script>\n",
              "        const buttonEl =\n",
              "          document.querySelector('#df-d232857f-0629-4c25-b035-9cca37057058 button.colab-df-convert');\n",
              "        buttonEl.style.display =\n",
              "          google.colab.kernel.accessAllowed ? 'block' : 'none';\n",
              "\n",
              "        async function convertToInteractive(key) {\n",
              "          const element = document.querySelector('#df-d232857f-0629-4c25-b035-9cca37057058');\n",
              "          const dataTable =\n",
              "            await google.colab.kernel.invokeFunction('convertToInteractive',\n",
              "                                                     [key], {});\n",
              "          if (!dataTable) return;\n",
              "\n",
              "          const docLinkHtml = 'Like what you see? Visit the ' +\n",
              "            '<a target=\"_blank\" href=https://colab.research.google.com/notebooks/data_table.ipynb>data table notebook</a>'\n",
              "            + ' to learn more about interactive tables.';\n",
              "          element.innerHTML = '';\n",
              "          dataTable['output_type'] = 'display_data';\n",
              "          await google.colab.output.renderOutput(dataTable, element);\n",
              "          const docLink = document.createElement('div');\n",
              "          docLink.innerHTML = docLinkHtml;\n",
              "          element.appendChild(docLink);\n",
              "        }\n",
              "      </script>\n",
              "    </div>\n",
              "  </div>\n",
              "  "
            ]
          },
          "metadata": {},
          "execution_count": 18
        }
      ]
    },
    {
      "cell_type": "code",
      "source": [
        "len(REGN87_train), len(REGN87_test)"
      ],
      "metadata": {
        "colab": {
          "base_uri": "https://localhost:8080/"
        },
        "id": "pgoGSg-yyQva",
        "outputId": "bf937fef-000e-47bc-f580-ffc2cb689881",
        "execution": {
          "iopub.status.busy": "2023-04-25T13:28:13.888640Z",
          "iopub.execute_input": "2023-04-25T13:28:13.889081Z",
          "iopub.status.idle": "2023-04-25T13:28:13.897626Z",
          "shell.execute_reply.started": "2023-04-25T13:28:13.889043Z",
          "shell.execute_reply": "2023-04-25T13:28:13.895950Z"
        },
        "trusted": true
      },
      "execution_count": null,
      "outputs": [
        {
          "output_type": "execute_result",
          "data": {
            "text/plain": [
              "(30090, 3344)"
            ]
          },
          "metadata": {},
          "execution_count": 19
        }
      ]
    },
    {
      "cell_type": "code",
      "source": [
        "REGN87 = pd.concat([REGN87_test, REGN87_train])\n",
        "REGN87.head()"
      ],
      "metadata": {
        "colab": {
          "base_uri": "https://localhost:8080/",
          "height": 288
        },
        "id": "cbOC8n-js7bo",
        "outputId": "bb97c271-289e-4cd6-8c7e-0f137b1843f0"
      },
      "execution_count": null,
      "outputs": [
        {
          "output_type": "execute_result",
          "data": {
            "text/plain": [
              "   Unnamed: 0               junction_aa    v_call  consensus_count    j_call  \\\n",
              "0       12094  KNTGFNCYRPITAYGFYPTVGENF  IGHV_RBD                1  IGHJ_RBD   \n",
              "1       48636  KNTGFNCYFPLQSYGFYPTSGVGY  IGHV_RBD               20  IGHJ_RBD   \n",
              "2       42986  TLEGFNCYEPLYAYGFWRTAGLGY  IGHV_RBD                1  IGHJ_RBD   \n",
              "3       31917  KNGQFNCYVPIVRYGFWTTNGLGW  IGHV_RBD                1  IGHJ_RBD   \n",
              "4       60396  KNEGFNCYQPLQSYGFQRTNGRGY  IGHV_RBD                1  IGHJ_RBD   \n",
              "\n",
              "   clonal_frequency  Label  Distance Antibody  \n",
              "0          0.000036      1        10   REGN87  \n",
              "1          0.000053      1         3   REGN87  \n",
              "2          0.000047      0         9   REGN87  \n",
              "3          0.000047      0        10   REGN87  \n",
              "4          0.000004      0         3   REGN87  "
            ],
            "text/html": [
              "\n",
              "  <div id=\"df-df6c3290-d4b3-4c15-bbc3-ed9159d965c3\">\n",
              "    <div class=\"colab-df-container\">\n",
              "      <div>\n",
              "<style scoped>\n",
              "    .dataframe tbody tr th:only-of-type {\n",
              "        vertical-align: middle;\n",
              "    }\n",
              "\n",
              "    .dataframe tbody tr th {\n",
              "        vertical-align: top;\n",
              "    }\n",
              "\n",
              "    .dataframe thead th {\n",
              "        text-align: right;\n",
              "    }\n",
              "</style>\n",
              "<table border=\"1\" class=\"dataframe\">\n",
              "  <thead>\n",
              "    <tr style=\"text-align: right;\">\n",
              "      <th></th>\n",
              "      <th>Unnamed: 0</th>\n",
              "      <th>junction_aa</th>\n",
              "      <th>v_call</th>\n",
              "      <th>consensus_count</th>\n",
              "      <th>j_call</th>\n",
              "      <th>clonal_frequency</th>\n",
              "      <th>Label</th>\n",
              "      <th>Distance</th>\n",
              "      <th>Antibody</th>\n",
              "    </tr>\n",
              "  </thead>\n",
              "  <tbody>\n",
              "    <tr>\n",
              "      <th>0</th>\n",
              "      <td>12094</td>\n",
              "      <td>KNTGFNCYRPITAYGFYPTVGENF</td>\n",
              "      <td>IGHV_RBD</td>\n",
              "      <td>1</td>\n",
              "      <td>IGHJ_RBD</td>\n",
              "      <td>0.000036</td>\n",
              "      <td>1</td>\n",
              "      <td>10</td>\n",
              "      <td>REGN87</td>\n",
              "    </tr>\n",
              "    <tr>\n",
              "      <th>1</th>\n",
              "      <td>48636</td>\n",
              "      <td>KNTGFNCYFPLQSYGFYPTSGVGY</td>\n",
              "      <td>IGHV_RBD</td>\n",
              "      <td>20</td>\n",
              "      <td>IGHJ_RBD</td>\n",
              "      <td>0.000053</td>\n",
              "      <td>1</td>\n",
              "      <td>3</td>\n",
              "      <td>REGN87</td>\n",
              "    </tr>\n",
              "    <tr>\n",
              "      <th>2</th>\n",
              "      <td>42986</td>\n",
              "      <td>TLEGFNCYEPLYAYGFWRTAGLGY</td>\n",
              "      <td>IGHV_RBD</td>\n",
              "      <td>1</td>\n",
              "      <td>IGHJ_RBD</td>\n",
              "      <td>0.000047</td>\n",
              "      <td>0</td>\n",
              "      <td>9</td>\n",
              "      <td>REGN87</td>\n",
              "    </tr>\n",
              "    <tr>\n",
              "      <th>3</th>\n",
              "      <td>31917</td>\n",
              "      <td>KNGQFNCYVPIVRYGFWTTNGLGW</td>\n",
              "      <td>IGHV_RBD</td>\n",
              "      <td>1</td>\n",
              "      <td>IGHJ_RBD</td>\n",
              "      <td>0.000047</td>\n",
              "      <td>0</td>\n",
              "      <td>10</td>\n",
              "      <td>REGN87</td>\n",
              "    </tr>\n",
              "    <tr>\n",
              "      <th>4</th>\n",
              "      <td>60396</td>\n",
              "      <td>KNEGFNCYQPLQSYGFQRTNGRGY</td>\n",
              "      <td>IGHV_RBD</td>\n",
              "      <td>1</td>\n",
              "      <td>IGHJ_RBD</td>\n",
              "      <td>0.000004</td>\n",
              "      <td>0</td>\n",
              "      <td>3</td>\n",
              "      <td>REGN87</td>\n",
              "    </tr>\n",
              "  </tbody>\n",
              "</table>\n",
              "</div>\n",
              "      <button class=\"colab-df-convert\" onclick=\"convertToInteractive('df-df6c3290-d4b3-4c15-bbc3-ed9159d965c3')\"\n",
              "              title=\"Convert this dataframe to an interactive table.\"\n",
              "              style=\"display:none;\">\n",
              "        \n",
              "  <svg xmlns=\"http://www.w3.org/2000/svg\" height=\"24px\"viewBox=\"0 0 24 24\"\n",
              "       width=\"24px\">\n",
              "    <path d=\"M0 0h24v24H0V0z\" fill=\"none\"/>\n",
              "    <path d=\"M18.56 5.44l.94 2.06.94-2.06 2.06-.94-2.06-.94-.94-2.06-.94 2.06-2.06.94zm-11 1L8.5 8.5l.94-2.06 2.06-.94-2.06-.94L8.5 2.5l-.94 2.06-2.06.94zm10 10l.94 2.06.94-2.06 2.06-.94-2.06-.94-.94-2.06-.94 2.06-2.06.94z\"/><path d=\"M17.41 7.96l-1.37-1.37c-.4-.4-.92-.59-1.43-.59-.52 0-1.04.2-1.43.59L10.3 9.45l-7.72 7.72c-.78.78-.78 2.05 0 2.83L4 21.41c.39.39.9.59 1.41.59.51 0 1.02-.2 1.41-.59l7.78-7.78 2.81-2.81c.8-.78.8-2.07 0-2.86zM5.41 20L4 18.59l7.72-7.72 1.47 1.35L5.41 20z\"/>\n",
              "  </svg>\n",
              "      </button>\n",
              "      \n",
              "  <style>\n",
              "    .colab-df-container {\n",
              "      display:flex;\n",
              "      flex-wrap:wrap;\n",
              "      gap: 12px;\n",
              "    }\n",
              "\n",
              "    .colab-df-convert {\n",
              "      background-color: #E8F0FE;\n",
              "      border: none;\n",
              "      border-radius: 50%;\n",
              "      cursor: pointer;\n",
              "      display: none;\n",
              "      fill: #1967D2;\n",
              "      height: 32px;\n",
              "      padding: 0 0 0 0;\n",
              "      width: 32px;\n",
              "    }\n",
              "\n",
              "    .colab-df-convert:hover {\n",
              "      background-color: #E2EBFA;\n",
              "      box-shadow: 0px 1px 2px rgba(60, 64, 67, 0.3), 0px 1px 3px 1px rgba(60, 64, 67, 0.15);\n",
              "      fill: #174EA6;\n",
              "    }\n",
              "\n",
              "    [theme=dark] .colab-df-convert {\n",
              "      background-color: #3B4455;\n",
              "      fill: #D2E3FC;\n",
              "    }\n",
              "\n",
              "    [theme=dark] .colab-df-convert:hover {\n",
              "      background-color: #434B5C;\n",
              "      box-shadow: 0px 1px 3px 1px rgba(0, 0, 0, 0.15);\n",
              "      filter: drop-shadow(0px 1px 2px rgba(0, 0, 0, 0.3));\n",
              "      fill: #FFFFFF;\n",
              "    }\n",
              "  </style>\n",
              "\n",
              "      <script>\n",
              "        const buttonEl =\n",
              "          document.querySelector('#df-df6c3290-d4b3-4c15-bbc3-ed9159d965c3 button.colab-df-convert');\n",
              "        buttonEl.style.display =\n",
              "          google.colab.kernel.accessAllowed ? 'block' : 'none';\n",
              "\n",
              "        async function convertToInteractive(key) {\n",
              "          const element = document.querySelector('#df-df6c3290-d4b3-4c15-bbc3-ed9159d965c3');\n",
              "          const dataTable =\n",
              "            await google.colab.kernel.invokeFunction('convertToInteractive',\n",
              "                                                     [key], {});\n",
              "          if (!dataTable) return;\n",
              "\n",
              "          const docLinkHtml = 'Like what you see? Visit the ' +\n",
              "            '<a target=\"_blank\" href=https://colab.research.google.com/notebooks/data_table.ipynb>data table notebook</a>'\n",
              "            + ' to learn more about interactive tables.';\n",
              "          element.innerHTML = '';\n",
              "          dataTable['output_type'] = 'display_data';\n",
              "          await google.colab.output.renderOutput(dataTable, element);\n",
              "          const docLink = document.createElement('div');\n",
              "          docLink.innerHTML = docLinkHtml;\n",
              "          element.appendChild(docLink);\n",
              "        }\n",
              "      </script>\n",
              "    </div>\n",
              "  </div>\n",
              "  "
            ]
          },
          "metadata": {},
          "execution_count": 20
        }
      ]
    },
    {
      "cell_type": "markdown",
      "source": [
        "# One-hot encoding"
      ],
      "metadata": {
        "id": "_yzKF-d-vr9M"
      }
    },
    {
      "cell_type": "markdown",
      "source": [
        "In this study we are going to preprocess all datasets using one-hot encoding. The goal of this step is not only in encoding aminoacids but also to add the flag for each antibody. The scheme presented below and taken from [Guobin Li et. al., 2021.](https://pubmed.ncbi.nlm.nih.gov/33986992/)"
      ],
      "metadata": {
        "id": "AEovpS521ji4"
      }
    },
    {
      "cell_type": "markdown",
      "source": [
        "![image.png](data:image/png;base64,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)"
      ],
      "metadata": {
        "id": "8QFti6GB5SyO"
      }
    },
    {
      "cell_type": "markdown",
      "source": [
        "Creating array of aminoacids."
      ],
      "metadata": {
        "id": "D62D33yL2Pyw"
      }
    },
    {
      "cell_type": "code",
      "source": [
        "aminoacids = np.array([\n",
        "    [\"A\"], [\"C\"], [\"D\"],\n",
        "    [\"E\"], [\"F\"], [\"G\"],\n",
        "    [\"H\"], [\"I\"], [\"K\"],\n",
        "    [\"L\"], [\"M\"], [\"N\"],\n",
        "    [\"P\"], [\"Q\"], [\"R\"],\n",
        "    [\"S\"], [\"T\"], [\"V\"],\n",
        "    [\"W\"], [\"Y\"]])"
      ],
      "metadata": {
        "id": "DnttrdZa1Tc2",
        "execution": {
          "iopub.status.busy": "2023-05-07T22:11:06.289196Z",
          "iopub.execute_input": "2023-05-07T22:11:06.289699Z",
          "iopub.status.idle": "2023-05-07T22:11:06.296246Z",
          "shell.execute_reply.started": "2023-05-07T22:11:06.289652Z",
          "shell.execute_reply": "2023-05-07T22:11:06.295014Z"
        },
        "trusted": true
      },
      "execution_count": null,
      "outputs": []
    },
    {
      "cell_type": "markdown",
      "source": [
        "Creating encoder, fitting it on the previous array of aminoacids."
      ],
      "metadata": {
        "id": "71kpVurs2ZFw"
      }
    },
    {
      "cell_type": "code",
      "source": [
        "encoder = OneHotEncoder()\n",
        "encoder = encoder.fit_transform(aminoacids).toarray()"
      ],
      "metadata": {
        "id": "seqvLlXx1tFd",
        "execution": {
          "iopub.status.busy": "2023-05-07T22:11:08.836021Z",
          "iopub.execute_input": "2023-05-07T22:11:08.836481Z",
          "iopub.status.idle": "2023-05-07T22:11:08.843215Z",
          "shell.execute_reply.started": "2023-05-07T22:11:08.836436Z",
          "shell.execute_reply": "2023-05-07T22:11:08.841852Z"
        },
        "trusted": true
      },
      "execution_count": null,
      "outputs": []
    },
    {
      "cell_type": "code",
      "source": [
        "aminoacids_list = []\n",
        "for i in aminoacids:\n",
        "    aminoacids_list.append(i[0])"
      ],
      "metadata": {
        "id": "WjTN5sP-Bcnb",
        "execution": {
          "iopub.status.busy": "2023-05-07T22:11:22.763490Z",
          "iopub.execute_input": "2023-05-07T22:11:22.763946Z",
          "iopub.status.idle": "2023-05-07T22:11:22.772894Z",
          "shell.execute_reply.started": "2023-05-07T22:11:22.763904Z",
          "shell.execute_reply": "2023-05-07T22:11:22.771657Z"
        },
        "trusted": true
      },
      "execution_count": null,
      "outputs": []
    },
    {
      "cell_type": "markdown",
      "source": [
        "The dictionary has aminoacids as keys and encoder as values for encoding function."
      ],
      "metadata": {
        "id": "kfOi0dIg2o0A"
      }
    },
    {
      "cell_type": "code",
      "source": [
        "enc = dict(zip(aminoacids_list, encoder))"
      ],
      "metadata": {
        "id": "9eoQzjoE7c-H",
        "execution": {
          "iopub.status.busy": "2023-05-07T22:11:32.210152Z",
          "iopub.execute_input": "2023-05-07T22:11:32.210681Z",
          "iopub.status.idle": "2023-05-07T22:11:32.215782Z",
          "shell.execute_reply.started": "2023-05-07T22:11:32.210630Z",
          "shell.execute_reply": "2023-05-07T22:11:32.214681Z"
        },
        "trusted": true
      },
      "execution_count": null,
      "outputs": []
    },
    {
      "cell_type": "markdown",
      "source": [
        "This function takes any dataset (from this notebook) as the input and encodes the aminoacids sequence."
      ],
      "metadata": {
        "id": "M5Fv7Afm3uGg"
      }
    },
    {
      "cell_type": "code",
      "source": [
        "def encoding_func(dataset):\n",
        "  encoded_list = []\n",
        "  for i in range(len(dataset)):\n",
        "    seq = dataset['junction_aa'].iloc[i]\n",
        "    seq_encodded = []\n",
        "    for letter in seq:\n",
        "      seq_encodded.append(enc[letter])\n",
        "    seq_encodded = np.array(seq_encodded)\n",
        "    encoded_list.append(seq_encodded)\n",
        "  encoded_list = np.array(encoded_list)\n",
        "  return encoded_list"
      ],
      "metadata": {
        "id": "3NrrMYAMtg0V"
      },
      "execution_count": null,
      "outputs": []
    },
    {
      "cell_type": "markdown",
      "source": [
        "#RF models"
      ],
      "metadata": {
        "id": "nCmdx-_jvQ7I"
      }
    },
    {
      "cell_type": "markdown",
      "source": [
        "Here we want to compare different Random Forest models. Four models are going to be trained and tested on separated data, the structure of each one presented below."
      ],
      "metadata": {
        "id": "w80R_bJq4RXs"
      }
    },
    {
      "cell_type": "markdown",
      "source": [
        "![image.png](data:image/png;base64,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)"
      ],
      "metadata": {
        "id": "Glj3mqR-5pF4"
      }
    },
    {
      "cell_type": "markdown",
      "source": [
        "## Preprocessing data"
      ],
      "metadata": {
        "id": "P7PrdLxHxgq6"
      }
    },
    {
      "cell_type": "markdown",
      "source": [
        "Firstly, we need to preprocess the data: encode and add the flag for each antibody. What is the flag? It appears as the additional zero-array with the number one at zero position for LY16, first position for LY555, second position for REGN33, third position for REGN87."
      ],
      "metadata": {
        "id": "eC8l71Xn5z4R"
      }
    },
    {
      "cell_type": "markdown",
      "source": [
        "The function concatenating two arrays was created for convenience"
      ],
      "metadata": {
        "id": "VE9059en6WCn"
      }
    },
    {
      "cell_type": "code",
      "source": [
        "def adding_enc_ab(A, B):\n",
        "    C = np.concatenate((A, np.broadcast_to(np.array(B)[None, None, :], A.shape[:1] + (1,) + A.shape[2:])), axis = 1)\n",
        "    return C"
      ],
      "metadata": {
        "id": "J6zw4Wj9v5HU"
      },
      "execution_count": null,
      "outputs": []
    },
    {
      "cell_type": "markdown",
      "source": [
        "This function takes dataset and zero-array as the input, returns train and test datasets ready for RF models."
      ],
      "metadata": {
        "id": "hQedVybf6VZO"
      }
    },
    {
      "cell_type": "code",
      "source": [
        "def preprocessing_data(df, arr):\n",
        "    sample = df.sample(n=2000)\n",
        "    train, test = sample[0:1600], sample[1600:]\n",
        "    train_enc = encoding_func(train)\n",
        "    test_enc = encoding_func(test)\n",
        "    train_enc = adding_enc_ab(train_enc, arr)\n",
        "    test_enc = adding_enc_ab(test_enc, arr)\n",
        "    train_X = train_enc.reshape(train_enc.shape[0], (train_enc.shape[1]*train_enc.shape[2]))\n",
        "    test_X = test_enc.reshape(test_enc.shape[0], (test_enc.shape[1]*test_enc.shape[2]))\n",
        "    train_y = train['Label']\n",
        "    test_y = test['Label']\n",
        "    return train_X, test_X, train_y, test_y"
      ],
      "metadata": {
        "id": "O7Cv7-zntOZn"
      },
      "execution_count": null,
      "outputs": []
    },
    {
      "cell_type": "markdown",
      "source": [
        "### LY16"
      ],
      "metadata": {
        "id": "IEn-4SMEx2ZG"
      }
    },
    {
      "cell_type": "markdown",
      "source": [
        "For LY16 the number one is placed at the fzero position."
      ],
      "metadata": {
        "id": "8U5JNkk17JR-"
      }
    },
    {
      "cell_type": "code",
      "source": [
        "arr = np.zeros(20)\n",
        "arr[0] = 1"
      ],
      "metadata": {
        "id": "XDpTGJYhyQ1O"
      },
      "execution_count": null,
      "outputs": []
    },
    {
      "cell_type": "code",
      "source": [
        "LY16_train_X, LY16_test_X, LY16_train_y, LY16_test_y = preprocessing_data(LY16, arr)"
      ],
      "metadata": {
        "id": "HViq_ShTuYQU"
      },
      "execution_count": null,
      "outputs": []
    },
    {
      "cell_type": "markdown",
      "source": [
        "### LY555"
      ],
      "metadata": {
        "id": "tmtl3bsAx4dW"
      }
    },
    {
      "cell_type": "markdown",
      "source": [
        "For LY555 the number one is placed at the first position."
      ],
      "metadata": {
        "id": "5FSYHBcO7RHT"
      }
    },
    {
      "cell_type": "code",
      "source": [
        "arr = np.zeros(20)\n",
        "arr[1] = 1"
      ],
      "metadata": {
        "id": "8dd7tcuDyf4g"
      },
      "execution_count": null,
      "outputs": []
    },
    {
      "cell_type": "code",
      "source": [
        "LY555_train_X, LY555_test_X, LY555_train_y, LY555_test_y = preprocessing_data(LY555, arr)"
      ],
      "metadata": {
        "id": "hzMFLe0Oupei"
      },
      "execution_count": null,
      "outputs": []
    },
    {
      "cell_type": "markdown",
      "source": [
        "### REGN33"
      ],
      "metadata": {
        "id": "fwxkHibDx6LA"
      }
    },
    {
      "cell_type": "markdown",
      "source": [
        "For REGN33 the number one is placed at the second position."
      ],
      "metadata": {
        "id": "Gb9ulvzf7V--"
      }
    },
    {
      "cell_type": "code",
      "source": [
        "arr = np.zeros(20)\n",
        "arr[2] = 1"
      ],
      "metadata": {
        "id": "CVD6qkdoyhRl"
      },
      "execution_count": null,
      "outputs": []
    },
    {
      "cell_type": "code",
      "source": [
        "REGN33_train_X, REGN33_test_X, REGN33_train_y, REGN33_test_y = preprocessing_data(REGN33, arr)"
      ],
      "metadata": {
        "id": "ReopnE_zx7vO"
      },
      "execution_count": null,
      "outputs": []
    },
    {
      "cell_type": "markdown",
      "source": [
        "### REGN87"
      ],
      "metadata": {
        "id": "_1batHTbx78j"
      }
    },
    {
      "cell_type": "markdown",
      "source": [
        "For REGN87 the number one is placed at the third position."
      ],
      "metadata": {
        "id": "t1mmvaPk7Yys"
      }
    },
    {
      "cell_type": "code",
      "source": [
        "arr = np.zeros(20)\n",
        "arr[3] = 1"
      ],
      "metadata": {
        "id": "NDodLjnYyiiV"
      },
      "execution_count": null,
      "outputs": []
    },
    {
      "cell_type": "code",
      "source": [
        "REGN87_train_X, REGN87_test_X, REGN87_train_y, REGN87_test_y = preprocessing_data(REGN87, arr)"
      ],
      "metadata": {
        "id": "DRgM1uJ9yHfG"
      },
      "execution_count": null,
      "outputs": []
    },
    {
      "cell_type": "markdown",
      "source": [
        "## RF\n"
      ],
      "metadata": {
        "id": "g0GO0hJxrAkz"
      }
    },
    {
      "cell_type": "markdown",
      "source": [
        "This function takes RF classifier, train and test datasets, prints the metrics of our interest: accuracy score,precision score, recall score, f1 score, roc-auc score."
      ],
      "metadata": {
        "id": "PpPQlZQk7d_u"
      }
    },
    {
      "cell_type": "code",
      "source": [
        "def rf(clfRF, train_X, train_y, test_X, test_y):\n",
        "    clfRF.fit(train_X, train_y)\n",
        "    y_predicted = clfRF.predict(test_X)\n",
        "    acc = accuracy_score(test_y, y_predicted)\n",
        "    pre = precision_score(test_y, y_predicted)\n",
        "    rec = recall_score(test_y, y_predicted)\n",
        "    f1 = f1_score(test_y, y_predicted)\n",
        "    roc_auc = roc_auc_score(test_y, y_predicted)\n",
        "    print('accuracy_score', acc)\n",
        "    print('precision_score', pre)\n",
        "    print('recall_score', rec)\n",
        "    print('f1_score', f1)\n",
        "    print('roc_auc_score', roc_auc)"
      ],
      "metadata": {
        "id": "ZGtwFp4XxONO"
      },
      "execution_count": null,
      "outputs": []
    },
    {
      "cell_type": "markdown",
      "source": [
        "Further four sections present results for first four models"
      ],
      "metadata": {
        "id": "E2Qbz8e-8XDa"
      }
    },
    {
      "cell_type": "markdown",
      "source": [
        "### Model 1"
      ],
      "metadata": {
        "id": "qgLFhVjNuR82"
      }
    },
    {
      "cell_type": "code",
      "source": [
        "clfRF = RandomForestClassifier(n_estimators=500, max_depth=150, min_samples_split=2, min_samples_leaf=1, max_features='sqrt')"
      ],
      "metadata": {
        "execution": {
          "iopub.status.busy": "2023-04-21T10:05:16.975312Z",
          "iopub.execute_input": "2023-04-21T10:05:16.975701Z",
          "iopub.status.idle": "2023-04-21T10:05:56.288226Z",
          "shell.execute_reply.started": "2023-04-21T10:05:16.975666Z",
          "shell.execute_reply": "2023-04-21T10:05:56.287033Z"
        },
        "trusted": true,
        "id": "ZKHY8qwSxLjE"
      },
      "execution_count": null,
      "outputs": []
    },
    {
      "cell_type": "code",
      "source": [
        "rf(clfRF, LY16_train_X, LY16_train_y, LY16_test_X, LY16_test_y)"
      ],
      "metadata": {
        "colab": {
          "base_uri": "https://localhost:8080/"
        },
        "id": "iwu5PZcjzqwp",
        "outputId": "83edbe1b-7838-4fd1-ae88-4e9c9739ddbe"
      },
      "execution_count": null,
      "outputs": [
        {
          "output_type": "stream",
          "name": "stdout",
          "text": [
            "accuracy_score 0.87\n",
            "precision_score 0.8446601941747572\n",
            "recall_score 0.8969072164948454\n",
            "f1_score 0.87\n",
            "roc_auc_score 0.8707837053348014\n"
          ]
        }
      ]
    },
    {
      "cell_type": "markdown",
      "source": [
        "### Model 2\n"
      ],
      "metadata": {
        "id": "3F6c8kCav4Uu"
      }
    },
    {
      "cell_type": "code",
      "source": [
        "clfRF = RandomForestClassifier(n_estimators=500, max_depth=150, min_samples_split=2, min_samples_leaf=1, max_features='sqrt')"
      ],
      "metadata": {
        "execution": {
          "iopub.status.busy": "2023-04-21T10:05:16.975312Z",
          "iopub.execute_input": "2023-04-21T10:05:16.975701Z",
          "iopub.status.idle": "2023-04-21T10:05:56.288226Z",
          "shell.execute_reply.started": "2023-04-21T10:05:16.975666Z",
          "shell.execute_reply": "2023-04-21T10:05:56.287033Z"
        },
        "trusted": true,
        "id": "q7CFxH-Pz8N4"
      },
      "execution_count": null,
      "outputs": []
    },
    {
      "cell_type": "code",
      "source": [
        "rf(clfRF, LY555_train_X, LY555_train_y, LY555_test_X, LY555_test_y)"
      ],
      "metadata": {
        "colab": {
          "base_uri": "https://localhost:8080/"
        },
        "outputId": "cd8aecee-56f0-40d8-e4be-4cb8c036796c",
        "id": "4BUg54uaz8N5"
      },
      "execution_count": null,
      "outputs": [
        {
          "output_type": "stream",
          "name": "stdout",
          "text": [
            "accuracy_score 0.8675\n",
            "precision_score 0.8762886597938144\n",
            "recall_score 0.8542713567839196\n",
            "f1_score 0.8651399491094148\n",
            "roc_auc_score 0.8674341858546463\n"
          ]
        }
      ]
    },
    {
      "cell_type": "markdown",
      "source": [
        "### Model 3\n"
      ],
      "metadata": {
        "id": "nLl4mGwcv54l"
      }
    },
    {
      "cell_type": "code",
      "source": [
        "clfRF = RandomForestClassifier(n_estimators=500, max_depth=150, min_samples_split=2, min_samples_leaf=1, max_features='sqrt')"
      ],
      "metadata": {
        "execution": {
          "iopub.status.busy": "2023-04-21T10:05:16.975312Z",
          "iopub.execute_input": "2023-04-21T10:05:16.975701Z",
          "iopub.status.idle": "2023-04-21T10:05:56.288226Z",
          "shell.execute_reply.started": "2023-04-21T10:05:16.975666Z",
          "shell.execute_reply": "2023-04-21T10:05:56.287033Z"
        },
        "trusted": true,
        "id": "EBcEH1xbz9Pp"
      },
      "execution_count": null,
      "outputs": []
    },
    {
      "cell_type": "code",
      "source": [
        "rf(clfRF, REGN33_train_X, REGN33_train_y, REGN33_test_X, REGN33_test_y)"
      ],
      "metadata": {
        "colab": {
          "base_uri": "https://localhost:8080/"
        },
        "outputId": "a7b61b75-28e8-4c97-8c8a-6ec9620a81ba",
        "id": "G0XCdlT2z9Pp"
      },
      "execution_count": null,
      "outputs": [
        {
          "output_type": "stream",
          "name": "stdout",
          "text": [
            "accuracy_score 0.86\n",
            "precision_score 0.8585365853658536\n",
            "recall_score 0.8669950738916257\n",
            "f1_score 0.8627450980392156\n",
            "roc_auc_score 0.8598934760321072\n"
          ]
        }
      ]
    },
    {
      "cell_type": "markdown",
      "source": [
        "### Model 4\n",
        "\n"
      ],
      "metadata": {
        "id": "UWQc9yt_v7vT"
      }
    },
    {
      "cell_type": "code",
      "source": [
        "clfRF = RandomForestClassifier(n_estimators=500, max_depth=150, min_samples_split=2, min_samples_leaf=1, max_features='sqrt')"
      ],
      "metadata": {
        "execution": {
          "iopub.status.busy": "2023-04-21T10:05:16.975312Z",
          "iopub.execute_input": "2023-04-21T10:05:16.975701Z",
          "iopub.status.idle": "2023-04-21T10:05:56.288226Z",
          "shell.execute_reply.started": "2023-04-21T10:05:16.975666Z",
          "shell.execute_reply": "2023-04-21T10:05:56.287033Z"
        },
        "trusted": true,
        "id": "uxGTy6T6z-Wa"
      },
      "execution_count": null,
      "outputs": []
    },
    {
      "cell_type": "code",
      "source": [
        "rf(clfRF, REGN87_train_X, REGN87_train_y, REGN87_test_X, REGN87_test_y)"
      ],
      "metadata": {
        "colab": {
          "base_uri": "https://localhost:8080/"
        },
        "outputId": "c1500a59-bdfe-4f10-b591-125c4b8fb528",
        "id": "hhDJxjnUz-Wa"
      },
      "execution_count": null,
      "outputs": [
        {
          "output_type": "stream",
          "name": "stdout",
          "text": [
            "accuracy_score 0.9275\n",
            "precision_score 0.9523809523809523\n",
            "recall_score 0.9\n",
            "f1_score 0.9254498714652956\n",
            "roc_auc_score 0.9274999999999999\n"
          ]
        }
      ]
    },
    {
      "cell_type": "markdown",
      "source": [
        "Then we decided to explore how additional information (in our case another antibodies data) depends on the quality of RF precision. Thus, we created RF model with the structure presented below."
      ],
      "metadata": {
        "id": "kh4wkq658mZM"
      }
    },
    {
      "cell_type": "markdown",
      "source": [
        "![image.png](data:image/png;base64,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)"
      ],
      "metadata": {
        "id": "TtxCXrbi9FNK"
      }
    },
    {
      "cell_type": "markdown",
      "source": [
        "### Model 5\n"
      ],
      "metadata": {
        "id": "tQ9ZRoE_v9MV"
      }
    },
    {
      "cell_type": "markdown",
      "source": [
        "First of all, combine all train datasets for this task."
      ],
      "metadata": {
        "id": "fJ6YUFVm9U24"
      }
    },
    {
      "cell_type": "code",
      "source": [
        "train_X = np.concatenate((LY16_train_X, LY555_train_X, REGN33_train_X, REGN87_train_X), axis=0)\n",
        "train_y = np.concatenate((LY16_train_y, LY555_train_y, REGN33_train_y, REGN87_train_y), axis=0)"
      ],
      "metadata": {
        "id": "AmduM97e0pVK"
      },
      "execution_count": null,
      "outputs": []
    },
    {
      "cell_type": "markdown",
      "source": [
        "#### test 1"
      ],
      "metadata": {
        "id": "oYX1xdJD1-TY"
      }
    },
    {
      "cell_type": "code",
      "source": [
        "clfRF = RandomForestClassifier(n_estimators=500, max_depth=150, min_samples_split=2, min_samples_leaf=1, max_features='sqrt')"
      ],
      "metadata": {
        "execution": {
          "iopub.status.busy": "2023-04-21T10:05:16.975312Z",
          "iopub.execute_input": "2023-04-21T10:05:16.975701Z",
          "iopub.status.idle": "2023-04-21T10:05:56.288226Z",
          "shell.execute_reply.started": "2023-04-21T10:05:16.975666Z",
          "shell.execute_reply": "2023-04-21T10:05:56.287033Z"
        },
        "trusted": true,
        "id": "L3Inc2Ho16Pp"
      },
      "execution_count": null,
      "outputs": []
    },
    {
      "cell_type": "markdown",
      "source": [
        "Here and further we use combined train data and separated test data."
      ],
      "metadata": {
        "id": "Lqic6gyX9ddb"
      }
    },
    {
      "cell_type": "code",
      "source": [
        "rf(clfRF, train_X, train_y, LY16_test_X, LY16_test_y)"
      ],
      "metadata": {
        "colab": {
          "base_uri": "https://localhost:8080/"
        },
        "outputId": "e01baf3f-1036-49c1-cd31-3ccb9d5c8a21",
        "id": "VW24s8vA16Pq"
      },
      "execution_count": null,
      "outputs": [
        {
          "output_type": "stream",
          "name": "stdout",
          "text": [
            "accuracy_score 0.8025\n",
            "precision_score 0.7725118483412322\n",
            "recall_score 0.8402061855670103\n",
            "f1_score 0.8049382716049382\n",
            "roc_auc_score 0.8035982384145732\n"
          ]
        }
      ]
    },
    {
      "cell_type": "markdown",
      "source": [
        "#### test 2"
      ],
      "metadata": {
        "id": "AfDVTBCj2Anj"
      }
    },
    {
      "cell_type": "code",
      "source": [
        "clfRF = RandomForestClassifier(n_estimators=500, max_depth=150, min_samples_split=2, min_samples_leaf=1, max_features='sqrt')"
      ],
      "metadata": {
        "execution": {
          "iopub.status.busy": "2023-04-21T10:05:16.975312Z",
          "iopub.execute_input": "2023-04-21T10:05:16.975701Z",
          "iopub.status.idle": "2023-04-21T10:05:56.288226Z",
          "shell.execute_reply.started": "2023-04-21T10:05:16.975666Z",
          "shell.execute_reply": "2023-04-21T10:05:56.287033Z"
        },
        "trusted": true,
        "id": "8okIcfaJ2EAd"
      },
      "execution_count": null,
      "outputs": []
    },
    {
      "cell_type": "code",
      "source": [
        "rf(clfRF, train_X, train_y, LY555_test_X, LY555_test_y)"
      ],
      "metadata": {
        "colab": {
          "base_uri": "https://localhost:8080/"
        },
        "outputId": "3473ae2f-be22-4b38-b864-245e9147fcbf",
        "id": "7oh5hQKn2EAd"
      },
      "execution_count": null,
      "outputs": [
        {
          "output_type": "stream",
          "name": "stdout",
          "text": [
            "accuracy_score 0.8025\n",
            "precision_score 0.7631578947368421\n",
            "recall_score 0.8743718592964824\n",
            "f1_score 0.8149882903981266\n",
            "roc_auc_score 0.802857571439286\n"
          ]
        }
      ]
    },
    {
      "cell_type": "markdown",
      "source": [
        "#### test 3"
      ],
      "metadata": {
        "id": "aBT0LQnV2EUy"
      }
    },
    {
      "cell_type": "code",
      "source": [
        "clfRF = RandomForestClassifier(n_estimators=500, max_depth=150, min_samples_split=2, min_samples_leaf=1, max_features='sqrt')"
      ],
      "metadata": {
        "execution": {
          "iopub.status.busy": "2023-04-21T10:05:16.975312Z",
          "iopub.execute_input": "2023-04-21T10:05:16.975701Z",
          "iopub.status.idle": "2023-04-21T10:05:56.288226Z",
          "shell.execute_reply.started": "2023-04-21T10:05:16.975666Z",
          "shell.execute_reply": "2023-04-21T10:05:56.287033Z"
        },
        "trusted": true,
        "id": "9Te5rZgO2F9W"
      },
      "execution_count": null,
      "outputs": []
    },
    {
      "cell_type": "code",
      "source": [
        "rf(clfRF, train_X, train_y, REGN33_test_X, REGN33_test_y)"
      ],
      "metadata": {
        "colab": {
          "base_uri": "https://localhost:8080/"
        },
        "outputId": "daee2680-cc29-4940-e314-5e797fa531a4",
        "id": "gw9VkOv02F9W"
      },
      "execution_count": null,
      "outputs": [
        {
          "output_type": "stream",
          "name": "stdout",
          "text": [
            "accuracy_score 0.8\n",
            "precision_score 0.8\n",
            "recall_score 0.8078817733990148\n",
            "f1_score 0.803921568627451\n",
            "roc_auc_score 0.7998799729939235\n"
          ]
        }
      ]
    },
    {
      "cell_type": "markdown",
      "source": [
        "#### test 4"
      ],
      "metadata": {
        "id": "ViDeXeB92Gk0"
      }
    },
    {
      "cell_type": "code",
      "source": [
        "clfRF = RandomForestClassifier(n_estimators=500, max_depth=150, min_samples_split=2, min_samples_leaf=1, max_features='sqrt')"
      ],
      "metadata": {
        "execution": {
          "iopub.status.busy": "2023-04-21T10:05:16.975312Z",
          "iopub.execute_input": "2023-04-21T10:05:16.975701Z",
          "iopub.status.idle": "2023-04-21T10:05:56.288226Z",
          "shell.execute_reply.started": "2023-04-21T10:05:16.975666Z",
          "shell.execute_reply": "2023-04-21T10:05:56.287033Z"
        },
        "trusted": true,
        "id": "Xn8dA4VC2HkY"
      },
      "execution_count": null,
      "outputs": []
    },
    {
      "cell_type": "code",
      "source": [
        "rf(clfRF, train_X, train_y, REGN87_test_X, REGN87_test_y)"
      ],
      "metadata": {
        "colab": {
          "base_uri": "https://localhost:8080/"
        },
        "outputId": "2645c6c9-6a41-42ad-d4fd-609969d7f23b",
        "id": "0kM_rAWY2HkZ"
      },
      "execution_count": null,
      "outputs": [
        {
          "output_type": "stream",
          "name": "stdout",
          "text": [
            "accuracy_score 0.94\n",
            "precision_score 0.9489795918367347\n",
            "recall_score 0.93\n",
            "f1_score 0.9393939393939393\n",
            "roc_auc_score 0.9400000000000001\n"
          ]
        }
      ]
    },
    {
      "cell_type": "markdown",
      "source": [
        "The statistics and visualization of obtained results were made using Prism 8"
      ],
      "metadata": {
        "id": "R-0H9YrbVEu1"
      }
    }
  ]
}