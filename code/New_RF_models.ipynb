{
  "metadata": {
    "colab": {
      "provenance": [],
      "toc_visible": true
    },
    "kernelspec": {
      "name": "python3",
      "display_name": "Python 3",
      "language": "python"
    },
    "language_info": {
      "name": "python",
      "version": "3.7.12",
      "mimetype": "text/x-python",
      "codemirror_mode": {
        "name": "ipython",
        "version": 3
      },
      "pygments_lexer": "ipython3",
      "nbconvert_exporter": "python",
      "file_extension": ".py"
    }
  },
  "nbformat_minor": 0,
  "nbformat": 4,
  "cells": [
    {
      "cell_type": "markdown",
      "source": [
        "# Getting data"
      ],
      "metadata": {
        "id": "jfmF-2gjQxy9"
      }
    },
    {
      "cell_type": "code",
      "source": [
        "!wget https://www.biorxiv.org/content/biorxiv/early/2021/12/09/2021.12.07.471580/DC2/embed/media-2.zip"
      ],
      "metadata": {
        "colab": {
          "base_uri": "https://localhost:8080/"
        },
        "id": "SBtLn2BiHgBH",
        "outputId": "d25719ed-1080-412d-f883-8e9bc98fd034",
        "execution": {
          "iopub.status.busy": "2023-05-07T23:53:56.640429Z",
          "iopub.execute_input": "2023-05-07T23:53:56.640862Z",
          "iopub.status.idle": "2023-05-07T23:54:02.799630Z",
          "shell.execute_reply.started": "2023-05-07T23:53:56.640822Z",
          "shell.execute_reply": "2023-05-07T23:54:02.798248Z"
        },
        "trusted": true
      },
      "execution_count": 1,
      "outputs": [
        {
          "output_type": "stream",
          "name": "stdout",
          "text": [
            "--2023-05-22 06:30:57--  https://www.biorxiv.org/content/biorxiv/early/2021/12/09/2021.12.07.471580/DC2/embed/media-2.zip\n",
            "Resolving www.biorxiv.org (www.biorxiv.org)... 104.18.28.142, 104.18.29.142\n",
            "Connecting to www.biorxiv.org (www.biorxiv.org)|104.18.28.142|:443... connected.\n",
            "HTTP request sent, awaiting response... 200 OK\n",
            "Length: unspecified [application/zip]\n",
            "Saving to: ‘media-2.zip’\n",
            "\n",
            "media-2.zip             [                <=> ]  11.65M  3.40MB/s    in 3.4s    \n",
            "\n",
            "2023-05-22 06:31:02 (3.40 MB/s) - ‘media-2.zip’ saved [12212533]\n",
            "\n"
          ]
        }
      ]
    },
    {
      "cell_type": "code",
      "source": [
        "!unzip /content/media-2.zip"
      ],
      "metadata": {
        "colab": {
          "base_uri": "https://localhost:8080/"
        },
        "id": "cQqOLFkuQ6tZ",
        "outputId": "5d599ff2-fe92-4285-ca66-87958cb87a0e",
        "execution": {
          "iopub.status.busy": "2023-05-07T23:54:02.802116Z",
          "iopub.execute_input": "2023-05-07T23:54:02.802518Z",
          "iopub.status.idle": "2023-05-07T23:55:08.181279Z",
          "shell.execute_reply.started": "2023-05-07T23:54:02.802477Z",
          "shell.execute_reply": "2023-05-07T23:55:08.179903Z"
        },
        "trusted": true
      },
      "execution_count": 2,
      "outputs": [
        {
          "output_type": "stream",
          "name": "stdout",
          "text": [
            "Archive:  /content/media-2.zip\n",
            "   creating: Train:Test Sequences/\n",
            "  inflating: Train:Test Sequences/ACE2_train_data.csv  \n",
            "  inflating: __MACOSX/Train:Test Sequences/._ACE2_train_data.csv  \n",
            "  inflating: Train:Test Sequences/.DS_Store  \n",
            "  inflating: __MACOSX/Train:Test Sequences/._.DS_Store  \n",
            "  inflating: Train:Test Sequences/ACE2_test_data.csv  \n",
            "  inflating: __MACOSX/Train:Test Sequences/._ACE2_test_data.csv  \n",
            "  inflating: Train:Test Sequences/REGN33_test_data.csv  \n",
            "  inflating: __MACOSX/Train:Test Sequences/._REGN33_test_data.csv  \n",
            "  inflating: Train:Test Sequences/ACE2_unseen.tsv  \n",
            "  inflating: __MACOSX/Train:Test Sequences/._ACE2_unseen.tsv  \n",
            "  inflating: Train:Test Sequences/LY16_unseen.tsv  \n",
            "  inflating: __MACOSX/Train:Test Sequences/._LY16_unseen.tsv  \n",
            "  inflating: Train:Test Sequences/REGN33_train_data.csv  \n",
            "  inflating: __MACOSX/Train:Test Sequences/._REGN33_train_data.csv  \n",
            "  inflating: Train:Test Sequences/REGN87_test_data.csv  \n",
            "  inflating: __MACOSX/Train:Test Sequences/._REGN87_test_data.csv  \n",
            "  inflating: Train:Test Sequences/LY16_test_data.csv  \n",
            "  inflating: __MACOSX/Train:Test Sequences/._LY16_test_data.csv  \n",
            "  inflating: Train:Test Sequences/REGN87_train_data.csv  \n",
            "  inflating: __MACOSX/Train:Test Sequences/._REGN87_train_data.csv  \n",
            "  inflating: Train:Test Sequences/REGN87_unseen.tsv  \n",
            "  inflating: __MACOSX/Train:Test Sequences/._REGN87_unseen.tsv  \n",
            "  inflating: Train:Test Sequences/LY555_unseen.tsv  \n",
            "  inflating: __MACOSX/Train:Test Sequences/._LY555_unseen.tsv  \n",
            "  inflating: Train:Test Sequences/LY16_train_data.csv  \n",
            "  inflating: __MACOSX/Train:Test Sequences/._LY16_train_data.csv  \n",
            "  inflating: Train:Test Sequences/REGN33_unseen.tsv  \n",
            "  inflating: __MACOSX/Train:Test Sequences/._REGN33_unseen.tsv  \n",
            "  inflating: Train:Test Sequences/LY555_train_data.csv  \n",
            "  inflating: __MACOSX/Train:Test Sequences/._LY555_train_data.csv  \n",
            "  inflating: Train:Test Sequences/LY555_test_data.csv  \n",
            "  inflating: __MACOSX/Train:Test Sequences/._LY555_test_data.csv  \n"
          ]
        }
      ]
    },
    {
      "cell_type": "markdown",
      "source": [
        "# Importing required libraries"
      ],
      "metadata": {
        "id": "HfXutrEPR5Qh"
      }
    },
    {
      "cell_type": "code",
      "source": [
        "import pandas as pd\n",
        "import numpy as np\n",
        "import matplotlib.pyplot as plt\n",
        "import sklearn\n",
        "from sklearn.preprocessing import OneHotEncoder\n",
        "from sklearn.ensemble import RandomForestClassifier\n",
        "from sklearn.metrics import accuracy_score, precision_score, recall_score, f1_score, roc_auc_score"
      ],
      "metadata": {
        "id": "ORs-ny04R4wN",
        "execution": {
          "iopub.status.busy": "2023-05-07T23:55:08.195630Z",
          "iopub.execute_input": "2023-05-07T23:55:08.196022Z",
          "iopub.status.idle": "2023-05-07T23:55:08.208496Z",
          "shell.execute_reply.started": "2023-05-07T23:55:08.195985Z",
          "shell.execute_reply": "2023-05-07T23:55:08.207221Z"
        },
        "trusted": true
      },
      "execution_count": 3,
      "outputs": []
    },
    {
      "cell_type": "markdown",
      "source": [
        "Let us look at the data"
      ],
      "metadata": {
        "id": "ufnZIpU3RydH"
      }
    },
    {
      "cell_type": "markdown",
      "source": [
        "## LY16"
      ],
      "metadata": {
        "id": "Jc5kjoTpYsQn"
      }
    },
    {
      "cell_type": "code",
      "source": [
        "LY16_train = pd.read_csv(\"/content/Train:Test Sequences/LY16_train_data.csv\")\n",
        "LY16_test = pd.read_csv(\"/content/Train:Test Sequences/LY16_test_data.csv\")     "
      ],
      "metadata": {
        "id": "iJoyPKPBsd19",
        "execution": {
          "iopub.status.busy": "2023-05-07T23:55:08.211582Z",
          "iopub.execute_input": "2023-05-07T23:55:08.211999Z",
          "iopub.status.idle": "2023-05-07T23:55:08.294240Z",
          "shell.execute_reply.started": "2023-05-07T23:55:08.211949Z",
          "shell.execute_reply": "2023-05-07T23:55:08.292691Z"
        },
        "trusted": true
      },
      "execution_count": 4,
      "outputs": []
    },
    {
      "cell_type": "code",
      "source": [
        "LY16_train.head()"
      ],
      "metadata": {
        "colab": {
          "base_uri": "https://localhost:8080/",
          "height": 288
        },
        "id": "CvHF7pOWxw2l",
        "outputId": "6088967f-605e-4b5e-b183-6ee74c626664",
        "execution": {
          "iopub.status.busy": "2023-05-07T23:55:08.295970Z",
          "iopub.execute_input": "2023-05-07T23:55:08.296327Z",
          "iopub.status.idle": "2023-05-07T23:55:08.318480Z",
          "shell.execute_reply.started": "2023-05-07T23:55:08.296287Z",
          "shell.execute_reply": "2023-05-07T23:55:08.317008Z"
        },
        "trusted": true
      },
      "execution_count": 5,
      "outputs": [
        {
          "output_type": "execute_result",
          "data": {
            "text/plain": [
              "   Unnamed: 0               junction_aa    v_call  consensus_count    j_call  \\\n",
              "0       26455  KNEGFNCYIPLVTYGFHTTTGVSY  IGHV_RBD                1  IGHJ_RBD   \n",
              "1        1215  KNKGFNCYSPITEYGFFPTNGKNF  IGHV_RBD                2  IGHJ_RBD   \n",
              "2       22287  SKQGFNCYCPLIGYGFQRTFGVGW  IGHV_RBD                1  IGHJ_RBD   \n",
              "3       38720  KNRQFNCYWPLVRYGFWTTSGVGW  IGHV_RBD                1  IGHJ_RBD   \n",
              "4         551  KNPGFNCYLPLGHYGFQPTNGRDF  IGHV_RBD                3  IGHJ_RBD   \n",
              "\n",
              "   clonal_frequency  Label  Distance Antibody  \n",
              "0          0.000028      0         7     LY16  \n",
              "1          0.000093      1         9     LY16  \n",
              "2          0.000028      0         9     LY16  \n",
              "3          0.000028      0         9     LY16  \n",
              "4          0.000140      1         7     LY16  "
            ],
            "text/html": [
              "\n",
              "  <div id=\"df-cafc145c-98e9-43bd-8c8c-e6002f9af39a\">\n",
              "    <div class=\"colab-df-container\">\n",
              "      <div>\n",
              "<style scoped>\n",
              "    .dataframe tbody tr th:only-of-type {\n",
              "        vertical-align: middle;\n",
              "    }\n",
              "\n",
              "    .dataframe tbody tr th {\n",
              "        vertical-align: top;\n",
              "    }\n",
              "\n",
              "    .dataframe thead th {\n",
              "        text-align: right;\n",
              "    }\n",
              "</style>\n",
              "<table border=\"1\" class=\"dataframe\">\n",
              "  <thead>\n",
              "    <tr style=\"text-align: right;\">\n",
              "      <th></th>\n",
              "      <th>Unnamed: 0</th>\n",
              "      <th>junction_aa</th>\n",
              "      <th>v_call</th>\n",
              "      <th>consensus_count</th>\n",
              "      <th>j_call</th>\n",
              "      <th>clonal_frequency</th>\n",
              "      <th>Label</th>\n",
              "      <th>Distance</th>\n",
              "      <th>Antibody</th>\n",
              "    </tr>\n",
              "  </thead>\n",
              "  <tbody>\n",
              "    <tr>\n",
              "      <th>0</th>\n",
              "      <td>26455</td>\n",
              "      <td>KNEGFNCYIPLVTYGFHTTTGVSY</td>\n",
              "      <td>IGHV_RBD</td>\n",
              "      <td>1</td>\n",
              "      <td>IGHJ_RBD</td>\n",
              "      <td>0.000028</td>\n",
              "      <td>0</td>\n",
              "      <td>7</td>\n",
              "      <td>LY16</td>\n",
              "    </tr>\n",
              "    <tr>\n",
              "      <th>1</th>\n",
              "      <td>1215</td>\n",
              "      <td>KNKGFNCYSPITEYGFFPTNGKNF</td>\n",
              "      <td>IGHV_RBD</td>\n",
              "      <td>2</td>\n",
              "      <td>IGHJ_RBD</td>\n",
              "      <td>0.000093</td>\n",
              "      <td>1</td>\n",
              "      <td>9</td>\n",
              "      <td>LY16</td>\n",
              "    </tr>\n",
              "    <tr>\n",
              "      <th>2</th>\n",
              "      <td>22287</td>\n",
              "      <td>SKQGFNCYCPLIGYGFQRTFGVGW</td>\n",
              "      <td>IGHV_RBD</td>\n",
              "      <td>1</td>\n",
              "      <td>IGHJ_RBD</td>\n",
              "      <td>0.000028</td>\n",
              "      <td>0</td>\n",
              "      <td>9</td>\n",
              "      <td>LY16</td>\n",
              "    </tr>\n",
              "    <tr>\n",
              "      <th>3</th>\n",
              "      <td>38720</td>\n",
              "      <td>KNRQFNCYWPLVRYGFWTTSGVGW</td>\n",
              "      <td>IGHV_RBD</td>\n",
              "      <td>1</td>\n",
              "      <td>IGHJ_RBD</td>\n",
              "      <td>0.000028</td>\n",
              "      <td>0</td>\n",
              "      <td>9</td>\n",
              "      <td>LY16</td>\n",
              "    </tr>\n",
              "    <tr>\n",
              "      <th>4</th>\n",
              "      <td>551</td>\n",
              "      <td>KNPGFNCYLPLGHYGFQPTNGRDF</td>\n",
              "      <td>IGHV_RBD</td>\n",
              "      <td>3</td>\n",
              "      <td>IGHJ_RBD</td>\n",
              "      <td>0.000140</td>\n",
              "      <td>1</td>\n",
              "      <td>7</td>\n",
              "      <td>LY16</td>\n",
              "    </tr>\n",
              "  </tbody>\n",
              "</table>\n",
              "</div>\n",
              "      <button class=\"colab-df-convert\" onclick=\"convertToInteractive('df-cafc145c-98e9-43bd-8c8c-e6002f9af39a')\"\n",
              "              title=\"Convert this dataframe to an interactive table.\"\n",
              "              style=\"display:none;\">\n",
              "        \n",
              "  <svg xmlns=\"http://www.w3.org/2000/svg\" height=\"24px\"viewBox=\"0 0 24 24\"\n",
              "       width=\"24px\">\n",
              "    <path d=\"M0 0h24v24H0V0z\" fill=\"none\"/>\n",
              "    <path d=\"M18.56 5.44l.94 2.06.94-2.06 2.06-.94-2.06-.94-.94-2.06-.94 2.06-2.06.94zm-11 1L8.5 8.5l.94-2.06 2.06-.94-2.06-.94L8.5 2.5l-.94 2.06-2.06.94zm10 10l.94 2.06.94-2.06 2.06-.94-2.06-.94-.94-2.06-.94 2.06-2.06.94z\"/><path d=\"M17.41 7.96l-1.37-1.37c-.4-.4-.92-.59-1.43-.59-.52 0-1.04.2-1.43.59L10.3 9.45l-7.72 7.72c-.78.78-.78 2.05 0 2.83L4 21.41c.39.39.9.59 1.41.59.51 0 1.02-.2 1.41-.59l7.78-7.78 2.81-2.81c.8-.78.8-2.07 0-2.86zM5.41 20L4 18.59l7.72-7.72 1.47 1.35L5.41 20z\"/>\n",
              "  </svg>\n",
              "      </button>\n",
              "      \n",
              "  <style>\n",
              "    .colab-df-container {\n",
              "      display:flex;\n",
              "      flex-wrap:wrap;\n",
              "      gap: 12px;\n",
              "    }\n",
              "\n",
              "    .colab-df-convert {\n",
              "      background-color: #E8F0FE;\n",
              "      border: none;\n",
              "      border-radius: 50%;\n",
              "      cursor: pointer;\n",
              "      display: none;\n",
              "      fill: #1967D2;\n",
              "      height: 32px;\n",
              "      padding: 0 0 0 0;\n",
              "      width: 32px;\n",
              "    }\n",
              "\n",
              "    .colab-df-convert:hover {\n",
              "      background-color: #E2EBFA;\n",
              "      box-shadow: 0px 1px 2px rgba(60, 64, 67, 0.3), 0px 1px 3px 1px rgba(60, 64, 67, 0.15);\n",
              "      fill: #174EA6;\n",
              "    }\n",
              "\n",
              "    [theme=dark] .colab-df-convert {\n",
              "      background-color: #3B4455;\n",
              "      fill: #D2E3FC;\n",
              "    }\n",
              "\n",
              "    [theme=dark] .colab-df-convert:hover {\n",
              "      background-color: #434B5C;\n",
              "      box-shadow: 0px 1px 3px 1px rgba(0, 0, 0, 0.15);\n",
              "      filter: drop-shadow(0px 1px 2px rgba(0, 0, 0, 0.3));\n",
              "      fill: #FFFFFF;\n",
              "    }\n",
              "  </style>\n",
              "\n",
              "      <script>\n",
              "        const buttonEl =\n",
              "          document.querySelector('#df-cafc145c-98e9-43bd-8c8c-e6002f9af39a button.colab-df-convert');\n",
              "        buttonEl.style.display =\n",
              "          google.colab.kernel.accessAllowed ? 'block' : 'none';\n",
              "\n",
              "        async function convertToInteractive(key) {\n",
              "          const element = document.querySelector('#df-cafc145c-98e9-43bd-8c8c-e6002f9af39a');\n",
              "          const dataTable =\n",
              "            await google.colab.kernel.invokeFunction('convertToInteractive',\n",
              "                                                     [key], {});\n",
              "          if (!dataTable) return;\n",
              "\n",
              "          const docLinkHtml = 'Like what you see? Visit the ' +\n",
              "            '<a target=\"_blank\" href=https://colab.research.google.com/notebooks/data_table.ipynb>data table notebook</a>'\n",
              "            + ' to learn more about interactive tables.';\n",
              "          element.innerHTML = '';\n",
              "          dataTable['output_type'] = 'display_data';\n",
              "          await google.colab.output.renderOutput(dataTable, element);\n",
              "          const docLink = document.createElement('div');\n",
              "          docLink.innerHTML = docLinkHtml;\n",
              "          element.appendChild(docLink);\n",
              "        }\n",
              "      </script>\n",
              "    </div>\n",
              "  </div>\n",
              "  "
            ]
          },
          "metadata": {},
          "execution_count": 5
        }
      ]
    },
    {
      "cell_type": "code",
      "source": [
        "len(LY16_train), len(LY16_test)"
      ],
      "metadata": {
        "colab": {
          "base_uri": "https://localhost:8080/"
        },
        "id": "rxf5f2cKxzBt",
        "outputId": "ba71cfbb-b292-408d-bf8b-61fd86b54774",
        "execution": {
          "iopub.status.busy": "2023-05-07T23:55:08.320291Z",
          "iopub.execute_input": "2023-05-07T23:55:08.320693Z",
          "iopub.status.idle": "2023-05-07T23:55:08.328351Z",
          "shell.execute_reply.started": "2023-05-07T23:55:08.320654Z",
          "shell.execute_reply": "2023-05-07T23:55:08.327423Z"
        },
        "trusted": true
      },
      "execution_count": 6,
      "outputs": [
        {
          "output_type": "execute_result",
          "data": {
            "text/plain": [
              "(26881, 2987)"
            ]
          },
          "metadata": {},
          "execution_count": 6
        }
      ]
    },
    {
      "cell_type": "code",
      "source": [
        "LY16 = pd.concat([LY16_test, LY16_train])\n",
        "LY16.head()"
      ],
      "metadata": {
        "execution": {
          "iopub.status.busy": "2023-05-07T23:55:08.329853Z",
          "iopub.execute_input": "2023-05-07T23:55:08.330201Z",
          "iopub.status.idle": "2023-05-07T23:55:08.355221Z",
          "shell.execute_reply.started": "2023-05-07T23:55:08.330167Z",
          "shell.execute_reply": "2023-05-07T23:55:08.354031Z"
        },
        "trusted": true,
        "colab": {
          "base_uri": "https://localhost:8080/",
          "height": 288
        },
        "id": "jr-A7FO3rAkt",
        "outputId": "4e845f1a-b5d0-4be6-d928-7277b1cf3a02"
      },
      "execution_count": 7,
      "outputs": [
        {
          "output_type": "execute_result",
          "data": {
            "text/plain": [
              "   Unnamed: 0               junction_aa    v_call  consensus_count    j_call  \\\n",
              "0       56910  KNTGFNCYFPLLAYGFHPTSGVDY  IGHV_RBD                1  IGHJ_RBD   \n",
              "1        4131  KNPGFNCYHPIVGYGFQPTIGHDF  IGHV_RBD                1  IGHJ_RBD   \n",
              "2       46782  TTAGFNCYMPITRYGFWPTDGRSW  IGHV_RBD                1  IGHJ_RBD   \n",
              "3       11781  RNRGFNCYDPIHKYGFHRTNGLNY  IGHV_RBD                1  IGHJ_RBD   \n",
              "4       33282  KNKKFNCYVPLVTYGFHPTNGVNY  IGHV_RBD                1  IGHJ_RBD   \n",
              "\n",
              "   clonal_frequency  Label  Distance Antibody  \n",
              "0          0.000063      0         6     LY16  \n",
              "1          0.000047      1         9     LY16  \n",
              "2          0.000028      0        12     LY16  \n",
              "3          0.000047      1        10     LY16  \n",
              "4          0.000028      0         7     LY16  "
            ],
            "text/html": [
              "\n",
              "  <div id=\"df-71fa0cd3-1147-4b9a-a0f1-f64082843c12\">\n",
              "    <div class=\"colab-df-container\">\n",
              "      <div>\n",
              "<style scoped>\n",
              "    .dataframe tbody tr th:only-of-type {\n",
              "        vertical-align: middle;\n",
              "    }\n",
              "\n",
              "    .dataframe tbody tr th {\n",
              "        vertical-align: top;\n",
              "    }\n",
              "\n",
              "    .dataframe thead th {\n",
              "        text-align: right;\n",
              "    }\n",
              "</style>\n",
              "<table border=\"1\" class=\"dataframe\">\n",
              "  <thead>\n",
              "    <tr style=\"text-align: right;\">\n",
              "      <th></th>\n",
              "      <th>Unnamed: 0</th>\n",
              "      <th>junction_aa</th>\n",
              "      <th>v_call</th>\n",
              "      <th>consensus_count</th>\n",
              "      <th>j_call</th>\n",
              "      <th>clonal_frequency</th>\n",
              "      <th>Label</th>\n",
              "      <th>Distance</th>\n",
              "      <th>Antibody</th>\n",
              "    </tr>\n",
              "  </thead>\n",
              "  <tbody>\n",
              "    <tr>\n",
              "      <th>0</th>\n",
              "      <td>56910</td>\n",
              "      <td>KNTGFNCYFPLLAYGFHPTSGVDY</td>\n",
              "      <td>IGHV_RBD</td>\n",
              "      <td>1</td>\n",
              "      <td>IGHJ_RBD</td>\n",
              "      <td>0.000063</td>\n",
              "      <td>0</td>\n",
              "      <td>6</td>\n",
              "      <td>LY16</td>\n",
              "    </tr>\n",
              "    <tr>\n",
              "      <th>1</th>\n",
              "      <td>4131</td>\n",
              "      <td>KNPGFNCYHPIVGYGFQPTIGHDF</td>\n",
              "      <td>IGHV_RBD</td>\n",
              "      <td>1</td>\n",
              "      <td>IGHJ_RBD</td>\n",
              "      <td>0.000047</td>\n",
              "      <td>1</td>\n",
              "      <td>9</td>\n",
              "      <td>LY16</td>\n",
              "    </tr>\n",
              "    <tr>\n",
              "      <th>2</th>\n",
              "      <td>46782</td>\n",
              "      <td>TTAGFNCYMPITRYGFWPTDGRSW</td>\n",
              "      <td>IGHV_RBD</td>\n",
              "      <td>1</td>\n",
              "      <td>IGHJ_RBD</td>\n",
              "      <td>0.000028</td>\n",
              "      <td>0</td>\n",
              "      <td>12</td>\n",
              "      <td>LY16</td>\n",
              "    </tr>\n",
              "    <tr>\n",
              "      <th>3</th>\n",
              "      <td>11781</td>\n",
              "      <td>RNRGFNCYDPIHKYGFHRTNGLNY</td>\n",
              "      <td>IGHV_RBD</td>\n",
              "      <td>1</td>\n",
              "      <td>IGHJ_RBD</td>\n",
              "      <td>0.000047</td>\n",
              "      <td>1</td>\n",
              "      <td>10</td>\n",
              "      <td>LY16</td>\n",
              "    </tr>\n",
              "    <tr>\n",
              "      <th>4</th>\n",
              "      <td>33282</td>\n",
              "      <td>KNKKFNCYVPLVTYGFHPTNGVNY</td>\n",
              "      <td>IGHV_RBD</td>\n",
              "      <td>1</td>\n",
              "      <td>IGHJ_RBD</td>\n",
              "      <td>0.000028</td>\n",
              "      <td>0</td>\n",
              "      <td>7</td>\n",
              "      <td>LY16</td>\n",
              "    </tr>\n",
              "  </tbody>\n",
              "</table>\n",
              "</div>\n",
              "      <button class=\"colab-df-convert\" onclick=\"convertToInteractive('df-71fa0cd3-1147-4b9a-a0f1-f64082843c12')\"\n",
              "              title=\"Convert this dataframe to an interactive table.\"\n",
              "              style=\"display:none;\">\n",
              "        \n",
              "  <svg xmlns=\"http://www.w3.org/2000/svg\" height=\"24px\"viewBox=\"0 0 24 24\"\n",
              "       width=\"24px\">\n",
              "    <path d=\"M0 0h24v24H0V0z\" fill=\"none\"/>\n",
              "    <path d=\"M18.56 5.44l.94 2.06.94-2.06 2.06-.94-2.06-.94-.94-2.06-.94 2.06-2.06.94zm-11 1L8.5 8.5l.94-2.06 2.06-.94-2.06-.94L8.5 2.5l-.94 2.06-2.06.94zm10 10l.94 2.06.94-2.06 2.06-.94-2.06-.94-.94-2.06-.94 2.06-2.06.94z\"/><path d=\"M17.41 7.96l-1.37-1.37c-.4-.4-.92-.59-1.43-.59-.52 0-1.04.2-1.43.59L10.3 9.45l-7.72 7.72c-.78.78-.78 2.05 0 2.83L4 21.41c.39.39.9.59 1.41.59.51 0 1.02-.2 1.41-.59l7.78-7.78 2.81-2.81c.8-.78.8-2.07 0-2.86zM5.41 20L4 18.59l7.72-7.72 1.47 1.35L5.41 20z\"/>\n",
              "  </svg>\n",
              "      </button>\n",
              "      \n",
              "  <style>\n",
              "    .colab-df-container {\n",
              "      display:flex;\n",
              "      flex-wrap:wrap;\n",
              "      gap: 12px;\n",
              "    }\n",
              "\n",
              "    .colab-df-convert {\n",
              "      background-color: #E8F0FE;\n",
              "      border: none;\n",
              "      border-radius: 50%;\n",
              "      cursor: pointer;\n",
              "      display: none;\n",
              "      fill: #1967D2;\n",
              "      height: 32px;\n",
              "      padding: 0 0 0 0;\n",
              "      width: 32px;\n",
              "    }\n",
              "\n",
              "    .colab-df-convert:hover {\n",
              "      background-color: #E2EBFA;\n",
              "      box-shadow: 0px 1px 2px rgba(60, 64, 67, 0.3), 0px 1px 3px 1px rgba(60, 64, 67, 0.15);\n",
              "      fill: #174EA6;\n",
              "    }\n",
              "\n",
              "    [theme=dark] .colab-df-convert {\n",
              "      background-color: #3B4455;\n",
              "      fill: #D2E3FC;\n",
              "    }\n",
              "\n",
              "    [theme=dark] .colab-df-convert:hover {\n",
              "      background-color: #434B5C;\n",
              "      box-shadow: 0px 1px 3px 1px rgba(0, 0, 0, 0.15);\n",
              "      filter: drop-shadow(0px 1px 2px rgba(0, 0, 0, 0.3));\n",
              "      fill: #FFFFFF;\n",
              "    }\n",
              "  </style>\n",
              "\n",
              "      <script>\n",
              "        const buttonEl =\n",
              "          document.querySelector('#df-71fa0cd3-1147-4b9a-a0f1-f64082843c12 button.colab-df-convert');\n",
              "        buttonEl.style.display =\n",
              "          google.colab.kernel.accessAllowed ? 'block' : 'none';\n",
              "\n",
              "        async function convertToInteractive(key) {\n",
              "          const element = document.querySelector('#df-71fa0cd3-1147-4b9a-a0f1-f64082843c12');\n",
              "          const dataTable =\n",
              "            await google.colab.kernel.invokeFunction('convertToInteractive',\n",
              "                                                     [key], {});\n",
              "          if (!dataTable) return;\n",
              "\n",
              "          const docLinkHtml = 'Like what you see? Visit the ' +\n",
              "            '<a target=\"_blank\" href=https://colab.research.google.com/notebooks/data_table.ipynb>data table notebook</a>'\n",
              "            + ' to learn more about interactive tables.';\n",
              "          element.innerHTML = '';\n",
              "          dataTable['output_type'] = 'display_data';\n",
              "          await google.colab.output.renderOutput(dataTable, element);\n",
              "          const docLink = document.createElement('div');\n",
              "          docLink.innerHTML = docLinkHtml;\n",
              "          element.appendChild(docLink);\n",
              "        }\n",
              "      </script>\n",
              "    </div>\n",
              "  </div>\n",
              "  "
            ]
          },
          "metadata": {},
          "execution_count": 7
        }
      ]
    },
    {
      "cell_type": "markdown",
      "source": [
        "## LY555"
      ],
      "metadata": {
        "id": "q5BMayNjYvMF"
      }
    },
    {
      "cell_type": "code",
      "source": [
        "LY555_train = pd.read_csv(\"/content/Train:Test Sequences/LY555_train_data.csv\")\n",
        "LY555_test = pd.read_csv(\"/content/Train:Test Sequences/LY555_test_data.csv\")"
      ],
      "metadata": {
        "id": "94p5y-WStmIN",
        "execution": {
          "iopub.status.busy": "2023-04-25T13:27:42.057813Z",
          "iopub.execute_input": "2023-04-25T13:27:42.058308Z",
          "iopub.status.idle": "2023-04-25T13:27:42.110685Z",
          "shell.execute_reply.started": "2023-04-25T13:27:42.058264Z",
          "shell.execute_reply": "2023-04-25T13:27:42.109293Z"
        },
        "trusted": true
      },
      "execution_count": 9,
      "outputs": []
    },
    {
      "cell_type": "code",
      "source": [
        "LY555_train.head()"
      ],
      "metadata": {
        "colab": {
          "base_uri": "https://localhost:8080/",
          "height": 288
        },
        "id": "OZIgySRex7O3",
        "outputId": "231146c5-70a0-4c97-c887-30935d402394",
        "execution": {
          "iopub.status.busy": "2023-04-25T13:27:43.933230Z",
          "iopub.execute_input": "2023-04-25T13:27:43.934355Z",
          "iopub.status.idle": "2023-04-25T13:27:43.970719Z",
          "shell.execute_reply.started": "2023-04-25T13:27:43.934299Z",
          "shell.execute_reply": "2023-04-25T13:27:43.969203Z"
        },
        "trusted": true
      },
      "execution_count": 10,
      "outputs": [
        {
          "output_type": "execute_result",
          "data": {
            "text/plain": [
              "   Unnamed: 0               junction_aa    v_call  consensus_count    j_call  \\\n",
              "0       92749  KNEGFNCYFPLQPYGFQPTIGSGY  IGHV_RBD                1  IGHJ_RBD   \n",
              "1       93213  KNPGFNCYFPLYPYGFQPTNGVNY  IGHV_RBD                1  IGHJ_RBD   \n",
              "2       81950  KNEGFNCYFPLFSYGFQRTNGRGY  IGHV_RBD               99  IGHJ_RBD   \n",
              "3        3361  FLRGFNCYRPLYHYGFQPTFGQDW  IGHV_RBD                1  IGHJ_RBD   \n",
              "4       78980  KNEGFNCYFPLSSYGFQPTMGGGY  IGHV_RBD                2  IGHJ_RBD   \n",
              "\n",
              "   clonal_frequency  Label  Distance Antibody  \n",
              "0          0.000001      0         3    LY555  \n",
              "1          0.000001      0         4    LY555  \n",
              "2          0.000139      0         3    LY555  \n",
              "3          0.000066      1        10    LY555  \n",
              "4          0.000016      1         3    LY555  "
            ],
            "text/html": [
              "\n",
              "  <div id=\"df-63fd9e67-a637-4eda-9a5d-450f06475dd8\">\n",
              "    <div class=\"colab-df-container\">\n",
              "      <div>\n",
              "<style scoped>\n",
              "    .dataframe tbody tr th:only-of-type {\n",
              "        vertical-align: middle;\n",
              "    }\n",
              "\n",
              "    .dataframe tbody tr th {\n",
              "        vertical-align: top;\n",
              "    }\n",
              "\n",
              "    .dataframe thead th {\n",
              "        text-align: right;\n",
              "    }\n",
              "</style>\n",
              "<table border=\"1\" class=\"dataframe\">\n",
              "  <thead>\n",
              "    <tr style=\"text-align: right;\">\n",
              "      <th></th>\n",
              "      <th>Unnamed: 0</th>\n",
              "      <th>junction_aa</th>\n",
              "      <th>v_call</th>\n",
              "      <th>consensus_count</th>\n",
              "      <th>j_call</th>\n",
              "      <th>clonal_frequency</th>\n",
              "      <th>Label</th>\n",
              "      <th>Distance</th>\n",
              "      <th>Antibody</th>\n",
              "    </tr>\n",
              "  </thead>\n",
              "  <tbody>\n",
              "    <tr>\n",
              "      <th>0</th>\n",
              "      <td>92749</td>\n",
              "      <td>KNEGFNCYFPLQPYGFQPTIGSGY</td>\n",
              "      <td>IGHV_RBD</td>\n",
              "      <td>1</td>\n",
              "      <td>IGHJ_RBD</td>\n",
              "      <td>0.000001</td>\n",
              "      <td>0</td>\n",
              "      <td>3</td>\n",
              "      <td>LY555</td>\n",
              "    </tr>\n",
              "    <tr>\n",
              "      <th>1</th>\n",
              "      <td>93213</td>\n",
              "      <td>KNPGFNCYFPLYPYGFQPTNGVNY</td>\n",
              "      <td>IGHV_RBD</td>\n",
              "      <td>1</td>\n",
              "      <td>IGHJ_RBD</td>\n",
              "      <td>0.000001</td>\n",
              "      <td>0</td>\n",
              "      <td>4</td>\n",
              "      <td>LY555</td>\n",
              "    </tr>\n",
              "    <tr>\n",
              "      <th>2</th>\n",
              "      <td>81950</td>\n",
              "      <td>KNEGFNCYFPLFSYGFQRTNGRGY</td>\n",
              "      <td>IGHV_RBD</td>\n",
              "      <td>99</td>\n",
              "      <td>IGHJ_RBD</td>\n",
              "      <td>0.000139</td>\n",
              "      <td>0</td>\n",
              "      <td>3</td>\n",
              "      <td>LY555</td>\n",
              "    </tr>\n",
              "    <tr>\n",
              "      <th>3</th>\n",
              "      <td>3361</td>\n",
              "      <td>FLRGFNCYRPLYHYGFQPTFGQDW</td>\n",
              "      <td>IGHV_RBD</td>\n",
              "      <td>1</td>\n",
              "      <td>IGHJ_RBD</td>\n",
              "      <td>0.000066</td>\n",
              "      <td>1</td>\n",
              "      <td>10</td>\n",
              "      <td>LY555</td>\n",
              "    </tr>\n",
              "    <tr>\n",
              "      <th>4</th>\n",
              "      <td>78980</td>\n",
              "      <td>KNEGFNCYFPLSSYGFQPTMGGGY</td>\n",
              "      <td>IGHV_RBD</td>\n",
              "      <td>2</td>\n",
              "      <td>IGHJ_RBD</td>\n",
              "      <td>0.000016</td>\n",
              "      <td>1</td>\n",
              "      <td>3</td>\n",
              "      <td>LY555</td>\n",
              "    </tr>\n",
              "  </tbody>\n",
              "</table>\n",
              "</div>\n",
              "      <button class=\"colab-df-convert\" onclick=\"convertToInteractive('df-63fd9e67-a637-4eda-9a5d-450f06475dd8')\"\n",
              "              title=\"Convert this dataframe to an interactive table.\"\n",
              "              style=\"display:none;\">\n",
              "        \n",
              "  <svg xmlns=\"http://www.w3.org/2000/svg\" height=\"24px\"viewBox=\"0 0 24 24\"\n",
              "       width=\"24px\">\n",
              "    <path d=\"M0 0h24v24H0V0z\" fill=\"none\"/>\n",
              "    <path d=\"M18.56 5.44l.94 2.06.94-2.06 2.06-.94-2.06-.94-.94-2.06-.94 2.06-2.06.94zm-11 1L8.5 8.5l.94-2.06 2.06-.94-2.06-.94L8.5 2.5l-.94 2.06-2.06.94zm10 10l.94 2.06.94-2.06 2.06-.94-2.06-.94-.94-2.06-.94 2.06-2.06.94z\"/><path d=\"M17.41 7.96l-1.37-1.37c-.4-.4-.92-.59-1.43-.59-.52 0-1.04.2-1.43.59L10.3 9.45l-7.72 7.72c-.78.78-.78 2.05 0 2.83L4 21.41c.39.39.9.59 1.41.59.51 0 1.02-.2 1.41-.59l7.78-7.78 2.81-2.81c.8-.78.8-2.07 0-2.86zM5.41 20L4 18.59l7.72-7.72 1.47 1.35L5.41 20z\"/>\n",
              "  </svg>\n",
              "      </button>\n",
              "      \n",
              "  <style>\n",
              "    .colab-df-container {\n",
              "      display:flex;\n",
              "      flex-wrap:wrap;\n",
              "      gap: 12px;\n",
              "    }\n",
              "\n",
              "    .colab-df-convert {\n",
              "      background-color: #E8F0FE;\n",
              "      border: none;\n",
              "      border-radius: 50%;\n",
              "      cursor: pointer;\n",
              "      display: none;\n",
              "      fill: #1967D2;\n",
              "      height: 32px;\n",
              "      padding: 0 0 0 0;\n",
              "      width: 32px;\n",
              "    }\n",
              "\n",
              "    .colab-df-convert:hover {\n",
              "      background-color: #E2EBFA;\n",
              "      box-shadow: 0px 1px 2px rgba(60, 64, 67, 0.3), 0px 1px 3px 1px rgba(60, 64, 67, 0.15);\n",
              "      fill: #174EA6;\n",
              "    }\n",
              "\n",
              "    [theme=dark] .colab-df-convert {\n",
              "      background-color: #3B4455;\n",
              "      fill: #D2E3FC;\n",
              "    }\n",
              "\n",
              "    [theme=dark] .colab-df-convert:hover {\n",
              "      background-color: #434B5C;\n",
              "      box-shadow: 0px 1px 3px 1px rgba(0, 0, 0, 0.15);\n",
              "      filter: drop-shadow(0px 1px 2px rgba(0, 0, 0, 0.3));\n",
              "      fill: #FFFFFF;\n",
              "    }\n",
              "  </style>\n",
              "\n",
              "      <script>\n",
              "        const buttonEl =\n",
              "          document.querySelector('#df-63fd9e67-a637-4eda-9a5d-450f06475dd8 button.colab-df-convert');\n",
              "        buttonEl.style.display =\n",
              "          google.colab.kernel.accessAllowed ? 'block' : 'none';\n",
              "\n",
              "        async function convertToInteractive(key) {\n",
              "          const element = document.querySelector('#df-63fd9e67-a637-4eda-9a5d-450f06475dd8');\n",
              "          const dataTable =\n",
              "            await google.colab.kernel.invokeFunction('convertToInteractive',\n",
              "                                                     [key], {});\n",
              "          if (!dataTable) return;\n",
              "\n",
              "          const docLinkHtml = 'Like what you see? Visit the ' +\n",
              "            '<a target=\"_blank\" href=https://colab.research.google.com/notebooks/data_table.ipynb>data table notebook</a>'\n",
              "            + ' to learn more about interactive tables.';\n",
              "          element.innerHTML = '';\n",
              "          dataTable['output_type'] = 'display_data';\n",
              "          await google.colab.output.renderOutput(dataTable, element);\n",
              "          const docLink = document.createElement('div');\n",
              "          docLink.innerHTML = docLinkHtml;\n",
              "          element.appendChild(docLink);\n",
              "        }\n",
              "      </script>\n",
              "    </div>\n",
              "  </div>\n",
              "  "
            ]
          },
          "metadata": {},
          "execution_count": 10
        }
      ]
    },
    {
      "cell_type": "code",
      "source": [
        "len(LY555_train), len(LY555_test)"
      ],
      "metadata": {
        "colab": {
          "base_uri": "https://localhost:8080/"
        },
        "id": "zZLig5yLx9-8",
        "outputId": "733f7818-677e-4d85-da5f-7e50a21498ea",
        "execution": {
          "iopub.status.busy": "2023-04-25T13:27:47.701386Z",
          "iopub.execute_input": "2023-04-25T13:27:47.701810Z",
          "iopub.status.idle": "2023-04-25T13:27:47.710523Z",
          "shell.execute_reply.started": "2023-04-25T13:27:47.701771Z",
          "shell.execute_reply": "2023-04-25T13:27:47.708988Z"
        },
        "trusted": true
      },
      "execution_count": 11,
      "outputs": [
        {
          "output_type": "execute_result",
          "data": {
            "text/plain": [
              "(15087, 1677)"
            ]
          },
          "metadata": {},
          "execution_count": 11
        }
      ]
    },
    {
      "cell_type": "code",
      "source": [
        "LY555 = pd.concat([LY555_test, LY555_train])\n",
        "LY555.head()"
      ],
      "metadata": {
        "colab": {
          "base_uri": "https://localhost:8080/",
          "height": 288
        },
        "id": "fcYk4NE6rc25",
        "outputId": "9ae3a509-31f6-4451-edab-bf151a8a6ce7"
      },
      "execution_count": 12,
      "outputs": [
        {
          "output_type": "execute_result",
          "data": {
            "text/plain": [
              "   Unnamed: 0               junction_aa    v_call  consensus_count    j_call  \\\n",
              "0       61810  KNKGFNCYNPLVRYGFQRTMGMGW  IGHV_RBD                1  IGHJ_RBD   \n",
              "1         483  KNEGFNCYWPLSAYGFHTTVGLDW  IGHV_RBD                8  IGHJ_RBD   \n",
              "2       88732  KNRGFNCYFPLQSYGFQTTNGVSY  IGHV_RBD                1  IGHJ_RBD   \n",
              "3       24513  KNGGFNCYSPLARYGFQRTVGVSY  IGHV_RBD                1  IGHJ_RBD   \n",
              "4        3535  KNEGFNCYWPLAAYGFWPTWGVGW  IGHV_RBD                1  IGHJ_RBD   \n",
              "\n",
              "   clonal_frequency  Label  Distance Antibody  \n",
              "0          0.000012      0         8    LY555  \n",
              "1          0.000528      1         9    LY555  \n",
              "2          0.000001      0         3    LY555  \n",
              "3          0.000012      0         7    LY555  \n",
              "4          0.000066      1         6    LY555  "
            ],
            "text/html": [
              "\n",
              "  <div id=\"df-d828db01-63cc-4bfc-811d-d8d185a614a8\">\n",
              "    <div class=\"colab-df-container\">\n",
              "      <div>\n",
              "<style scoped>\n",
              "    .dataframe tbody tr th:only-of-type {\n",
              "        vertical-align: middle;\n",
              "    }\n",
              "\n",
              "    .dataframe tbody tr th {\n",
              "        vertical-align: top;\n",
              "    }\n",
              "\n",
              "    .dataframe thead th {\n",
              "        text-align: right;\n",
              "    }\n",
              "</style>\n",
              "<table border=\"1\" class=\"dataframe\">\n",
              "  <thead>\n",
              "    <tr style=\"text-align: right;\">\n",
              "      <th></th>\n",
              "      <th>Unnamed: 0</th>\n",
              "      <th>junction_aa</th>\n",
              "      <th>v_call</th>\n",
              "      <th>consensus_count</th>\n",
              "      <th>j_call</th>\n",
              "      <th>clonal_frequency</th>\n",
              "      <th>Label</th>\n",
              "      <th>Distance</th>\n",
              "      <th>Antibody</th>\n",
              "    </tr>\n",
              "  </thead>\n",
              "  <tbody>\n",
              "    <tr>\n",
              "      <th>0</th>\n",
              "      <td>61810</td>\n",
              "      <td>KNKGFNCYNPLVRYGFQRTMGMGW</td>\n",
              "      <td>IGHV_RBD</td>\n",
              "      <td>1</td>\n",
              "      <td>IGHJ_RBD</td>\n",
              "      <td>0.000012</td>\n",
              "      <td>0</td>\n",
              "      <td>8</td>\n",
              "      <td>LY555</td>\n",
              "    </tr>\n",
              "    <tr>\n",
              "      <th>1</th>\n",
              "      <td>483</td>\n",
              "      <td>KNEGFNCYWPLSAYGFHTTVGLDW</td>\n",
              "      <td>IGHV_RBD</td>\n",
              "      <td>8</td>\n",
              "      <td>IGHJ_RBD</td>\n",
              "      <td>0.000528</td>\n",
              "      <td>1</td>\n",
              "      <td>9</td>\n",
              "      <td>LY555</td>\n",
              "    </tr>\n",
              "    <tr>\n",
              "      <th>2</th>\n",
              "      <td>88732</td>\n",
              "      <td>KNRGFNCYFPLQSYGFQTTNGVSY</td>\n",
              "      <td>IGHV_RBD</td>\n",
              "      <td>1</td>\n",
              "      <td>IGHJ_RBD</td>\n",
              "      <td>0.000001</td>\n",
              "      <td>0</td>\n",
              "      <td>3</td>\n",
              "      <td>LY555</td>\n",
              "    </tr>\n",
              "    <tr>\n",
              "      <th>3</th>\n",
              "      <td>24513</td>\n",
              "      <td>KNGGFNCYSPLARYGFQRTVGVSY</td>\n",
              "      <td>IGHV_RBD</td>\n",
              "      <td>1</td>\n",
              "      <td>IGHJ_RBD</td>\n",
              "      <td>0.000012</td>\n",
              "      <td>0</td>\n",
              "      <td>7</td>\n",
              "      <td>LY555</td>\n",
              "    </tr>\n",
              "    <tr>\n",
              "      <th>4</th>\n",
              "      <td>3535</td>\n",
              "      <td>KNEGFNCYWPLAAYGFWPTWGVGW</td>\n",
              "      <td>IGHV_RBD</td>\n",
              "      <td>1</td>\n",
              "      <td>IGHJ_RBD</td>\n",
              "      <td>0.000066</td>\n",
              "      <td>1</td>\n",
              "      <td>6</td>\n",
              "      <td>LY555</td>\n",
              "    </tr>\n",
              "  </tbody>\n",
              "</table>\n",
              "</div>\n",
              "      <button class=\"colab-df-convert\" onclick=\"convertToInteractive('df-d828db01-63cc-4bfc-811d-d8d185a614a8')\"\n",
              "              title=\"Convert this dataframe to an interactive table.\"\n",
              "              style=\"display:none;\">\n",
              "        \n",
              "  <svg xmlns=\"http://www.w3.org/2000/svg\" height=\"24px\"viewBox=\"0 0 24 24\"\n",
              "       width=\"24px\">\n",
              "    <path d=\"M0 0h24v24H0V0z\" fill=\"none\"/>\n",
              "    <path d=\"M18.56 5.44l.94 2.06.94-2.06 2.06-.94-2.06-.94-.94-2.06-.94 2.06-2.06.94zm-11 1L8.5 8.5l.94-2.06 2.06-.94-2.06-.94L8.5 2.5l-.94 2.06-2.06.94zm10 10l.94 2.06.94-2.06 2.06-.94-2.06-.94-.94-2.06-.94 2.06-2.06.94z\"/><path d=\"M17.41 7.96l-1.37-1.37c-.4-.4-.92-.59-1.43-.59-.52 0-1.04.2-1.43.59L10.3 9.45l-7.72 7.72c-.78.78-.78 2.05 0 2.83L4 21.41c.39.39.9.59 1.41.59.51 0 1.02-.2 1.41-.59l7.78-7.78 2.81-2.81c.8-.78.8-2.07 0-2.86zM5.41 20L4 18.59l7.72-7.72 1.47 1.35L5.41 20z\"/>\n",
              "  </svg>\n",
              "      </button>\n",
              "      \n",
              "  <style>\n",
              "    .colab-df-container {\n",
              "      display:flex;\n",
              "      flex-wrap:wrap;\n",
              "      gap: 12px;\n",
              "    }\n",
              "\n",
              "    .colab-df-convert {\n",
              "      background-color: #E8F0FE;\n",
              "      border: none;\n",
              "      border-radius: 50%;\n",
              "      cursor: pointer;\n",
              "      display: none;\n",
              "      fill: #1967D2;\n",
              "      height: 32px;\n",
              "      padding: 0 0 0 0;\n",
              "      width: 32px;\n",
              "    }\n",
              "\n",
              "    .colab-df-convert:hover {\n",
              "      background-color: #E2EBFA;\n",
              "      box-shadow: 0px 1px 2px rgba(60, 64, 67, 0.3), 0px 1px 3px 1px rgba(60, 64, 67, 0.15);\n",
              "      fill: #174EA6;\n",
              "    }\n",
              "\n",
              "    [theme=dark] .colab-df-convert {\n",
              "      background-color: #3B4455;\n",
              "      fill: #D2E3FC;\n",
              "    }\n",
              "\n",
              "    [theme=dark] .colab-df-convert:hover {\n",
              "      background-color: #434B5C;\n",
              "      box-shadow: 0px 1px 3px 1px rgba(0, 0, 0, 0.15);\n",
              "      filter: drop-shadow(0px 1px 2px rgba(0, 0, 0, 0.3));\n",
              "      fill: #FFFFFF;\n",
              "    }\n",
              "  </style>\n",
              "\n",
              "      <script>\n",
              "        const buttonEl =\n",
              "          document.querySelector('#df-d828db01-63cc-4bfc-811d-d8d185a614a8 button.colab-df-convert');\n",
              "        buttonEl.style.display =\n",
              "          google.colab.kernel.accessAllowed ? 'block' : 'none';\n",
              "\n",
              "        async function convertToInteractive(key) {\n",
              "          const element = document.querySelector('#df-d828db01-63cc-4bfc-811d-d8d185a614a8');\n",
              "          const dataTable =\n",
              "            await google.colab.kernel.invokeFunction('convertToInteractive',\n",
              "                                                     [key], {});\n",
              "          if (!dataTable) return;\n",
              "\n",
              "          const docLinkHtml = 'Like what you see? Visit the ' +\n",
              "            '<a target=\"_blank\" href=https://colab.research.google.com/notebooks/data_table.ipynb>data table notebook</a>'\n",
              "            + ' to learn more about interactive tables.';\n",
              "          element.innerHTML = '';\n",
              "          dataTable['output_type'] = 'display_data';\n",
              "          await google.colab.output.renderOutput(dataTable, element);\n",
              "          const docLink = document.createElement('div');\n",
              "          docLink.innerHTML = docLinkHtml;\n",
              "          element.appendChild(docLink);\n",
              "        }\n",
              "      </script>\n",
              "    </div>\n",
              "  </div>\n",
              "  "
            ]
          },
          "metadata": {},
          "execution_count": 12
        }
      ]
    },
    {
      "cell_type": "markdown",
      "source": [
        "## REGN33"
      ],
      "metadata": {
        "id": "TVdlb7jHYw49"
      }
    },
    {
      "cell_type": "code",
      "source": [
        "REGN33_train = pd.read_csv(\"/content/Train:Test Sequences/REGN33_train_data.csv\")\n",
        "REGN33_test = pd.read_csv(\"/content/Train:Test Sequences/REGN33_test_data.csv\")"
      ],
      "metadata": {
        "id": "M24u3-sWve1W",
        "execution": {
          "iopub.status.busy": "2023-04-25T13:27:52.896127Z",
          "iopub.execute_input": "2023-04-25T13:27:52.896565Z",
          "iopub.status.idle": "2023-04-25T13:27:53.135392Z",
          "shell.execute_reply.started": "2023-04-25T13:27:52.896528Z",
          "shell.execute_reply": "2023-04-25T13:27:53.134012Z"
        },
        "trusted": true
      },
      "execution_count": 13,
      "outputs": []
    },
    {
      "cell_type": "code",
      "source": [
        "REGN33_train.head()"
      ],
      "metadata": {
        "colab": {
          "base_uri": "https://localhost:8080/",
          "height": 288
        },
        "id": "7np0czFayFON",
        "outputId": "315af4ec-a198-4497-a8dc-ec79369cb540",
        "execution": {
          "iopub.status.busy": "2023-04-25T13:27:54.768388Z",
          "iopub.execute_input": "2023-04-25T13:27:54.768808Z",
          "iopub.status.idle": "2023-04-25T13:27:54.784972Z",
          "shell.execute_reply.started": "2023-04-25T13:27:54.768772Z",
          "shell.execute_reply": "2023-04-25T13:27:54.783570Z"
        },
        "trusted": true
      },
      "execution_count": 14,
      "outputs": [
        {
          "output_type": "execute_result",
          "data": {
            "text/plain": [
              "   Unnamed: 0               junction_aa    v_call  consensus_count    j_call  \\\n",
              "0      157131  GNTGFNCYCPIKNYGFQRTGGLGW  IGHV_RBD                1  IGHJ_RBD   \n",
              "1      158034  KNTGFNCYLPLVRYGFQTTAGGDW  IGHV_RBD                1  IGHJ_RBD   \n",
              "2       52097  KNTGFNCYRPLNTYGFWRTSGINY  IGHV_RBD                1  IGHJ_RBD   \n",
              "3      122003  KNKGFNCYDPITRYGFWPTNGSNW  IGHV_RBD                1  IGHJ_RBD   \n",
              "4      110735  KNRGFNCYGPLVAYGFQRTCGMGW  IGHV_RBD                1  IGHJ_RBD   \n",
              "\n",
              "   clonal_frequency  Label  Distance Antibody  \n",
              "0          0.000008      0        10   REGN33  \n",
              "1          0.000008      0         9   REGN33  \n",
              "2          0.000007      1         9   REGN33  \n",
              "3          0.000008      0         9   REGN33  \n",
              "4          0.000008      0         8   REGN33  "
            ],
            "text/html": [
              "\n",
              "  <div id=\"df-c3b3e13b-f39d-41a8-bed9-d8b44c5d869a\">\n",
              "    <div class=\"colab-df-container\">\n",
              "      <div>\n",
              "<style scoped>\n",
              "    .dataframe tbody tr th:only-of-type {\n",
              "        vertical-align: middle;\n",
              "    }\n",
              "\n",
              "    .dataframe tbody tr th {\n",
              "        vertical-align: top;\n",
              "    }\n",
              "\n",
              "    .dataframe thead th {\n",
              "        text-align: right;\n",
              "    }\n",
              "</style>\n",
              "<table border=\"1\" class=\"dataframe\">\n",
              "  <thead>\n",
              "    <tr style=\"text-align: right;\">\n",
              "      <th></th>\n",
              "      <th>Unnamed: 0</th>\n",
              "      <th>junction_aa</th>\n",
              "      <th>v_call</th>\n",
              "      <th>consensus_count</th>\n",
              "      <th>j_call</th>\n",
              "      <th>clonal_frequency</th>\n",
              "      <th>Label</th>\n",
              "      <th>Distance</th>\n",
              "      <th>Antibody</th>\n",
              "    </tr>\n",
              "  </thead>\n",
              "  <tbody>\n",
              "    <tr>\n",
              "      <th>0</th>\n",
              "      <td>157131</td>\n",
              "      <td>GNTGFNCYCPIKNYGFQRTGGLGW</td>\n",
              "      <td>IGHV_RBD</td>\n",
              "      <td>1</td>\n",
              "      <td>IGHJ_RBD</td>\n",
              "      <td>0.000008</td>\n",
              "      <td>0</td>\n",
              "      <td>10</td>\n",
              "      <td>REGN33</td>\n",
              "    </tr>\n",
              "    <tr>\n",
              "      <th>1</th>\n",
              "      <td>158034</td>\n",
              "      <td>KNTGFNCYLPLVRYGFQTTAGGDW</td>\n",
              "      <td>IGHV_RBD</td>\n",
              "      <td>1</td>\n",
              "      <td>IGHJ_RBD</td>\n",
              "      <td>0.000008</td>\n",
              "      <td>0</td>\n",
              "      <td>9</td>\n",
              "      <td>REGN33</td>\n",
              "    </tr>\n",
              "    <tr>\n",
              "      <th>2</th>\n",
              "      <td>52097</td>\n",
              "      <td>KNTGFNCYRPLNTYGFWRTSGINY</td>\n",
              "      <td>IGHV_RBD</td>\n",
              "      <td>1</td>\n",
              "      <td>IGHJ_RBD</td>\n",
              "      <td>0.000007</td>\n",
              "      <td>1</td>\n",
              "      <td>9</td>\n",
              "      <td>REGN33</td>\n",
              "    </tr>\n",
              "    <tr>\n",
              "      <th>3</th>\n",
              "      <td>122003</td>\n",
              "      <td>KNKGFNCYDPITRYGFWPTNGSNW</td>\n",
              "      <td>IGHV_RBD</td>\n",
              "      <td>1</td>\n",
              "      <td>IGHJ_RBD</td>\n",
              "      <td>0.000008</td>\n",
              "      <td>0</td>\n",
              "      <td>9</td>\n",
              "      <td>REGN33</td>\n",
              "    </tr>\n",
              "    <tr>\n",
              "      <th>4</th>\n",
              "      <td>110735</td>\n",
              "      <td>KNRGFNCYGPLVAYGFQRTCGMGW</td>\n",
              "      <td>IGHV_RBD</td>\n",
              "      <td>1</td>\n",
              "      <td>IGHJ_RBD</td>\n",
              "      <td>0.000008</td>\n",
              "      <td>0</td>\n",
              "      <td>8</td>\n",
              "      <td>REGN33</td>\n",
              "    </tr>\n",
              "  </tbody>\n",
              "</table>\n",
              "</div>\n",
              "      <button class=\"colab-df-convert\" onclick=\"convertToInteractive('df-c3b3e13b-f39d-41a8-bed9-d8b44c5d869a')\"\n",
              "              title=\"Convert this dataframe to an interactive table.\"\n",
              "              style=\"display:none;\">\n",
              "        \n",
              "  <svg xmlns=\"http://www.w3.org/2000/svg\" height=\"24px\"viewBox=\"0 0 24 24\"\n",
              "       width=\"24px\">\n",
              "    <path d=\"M0 0h24v24H0V0z\" fill=\"none\"/>\n",
              "    <path d=\"M18.56 5.44l.94 2.06.94-2.06 2.06-.94-2.06-.94-.94-2.06-.94 2.06-2.06.94zm-11 1L8.5 8.5l.94-2.06 2.06-.94-2.06-.94L8.5 2.5l-.94 2.06-2.06.94zm10 10l.94 2.06.94-2.06 2.06-.94-2.06-.94-.94-2.06-.94 2.06-2.06.94z\"/><path d=\"M17.41 7.96l-1.37-1.37c-.4-.4-.92-.59-1.43-.59-.52 0-1.04.2-1.43.59L10.3 9.45l-7.72 7.72c-.78.78-.78 2.05 0 2.83L4 21.41c.39.39.9.59 1.41.59.51 0 1.02-.2 1.41-.59l7.78-7.78 2.81-2.81c.8-.78.8-2.07 0-2.86zM5.41 20L4 18.59l7.72-7.72 1.47 1.35L5.41 20z\"/>\n",
              "  </svg>\n",
              "      </button>\n",
              "      \n",
              "  <style>\n",
              "    .colab-df-container {\n",
              "      display:flex;\n",
              "      flex-wrap:wrap;\n",
              "      gap: 12px;\n",
              "    }\n",
              "\n",
              "    .colab-df-convert {\n",
              "      background-color: #E8F0FE;\n",
              "      border: none;\n",
              "      border-radius: 50%;\n",
              "      cursor: pointer;\n",
              "      display: none;\n",
              "      fill: #1967D2;\n",
              "      height: 32px;\n",
              "      padding: 0 0 0 0;\n",
              "      width: 32px;\n",
              "    }\n",
              "\n",
              "    .colab-df-convert:hover {\n",
              "      background-color: #E2EBFA;\n",
              "      box-shadow: 0px 1px 2px rgba(60, 64, 67, 0.3), 0px 1px 3px 1px rgba(60, 64, 67, 0.15);\n",
              "      fill: #174EA6;\n",
              "    }\n",
              "\n",
              "    [theme=dark] .colab-df-convert {\n",
              "      background-color: #3B4455;\n",
              "      fill: #D2E3FC;\n",
              "    }\n",
              "\n",
              "    [theme=dark] .colab-df-convert:hover {\n",
              "      background-color: #434B5C;\n",
              "      box-shadow: 0px 1px 3px 1px rgba(0, 0, 0, 0.15);\n",
              "      filter: drop-shadow(0px 1px 2px rgba(0, 0, 0, 0.3));\n",
              "      fill: #FFFFFF;\n",
              "    }\n",
              "  </style>\n",
              "\n",
              "      <script>\n",
              "        const buttonEl =\n",
              "          document.querySelector('#df-c3b3e13b-f39d-41a8-bed9-d8b44c5d869a button.colab-df-convert');\n",
              "        buttonEl.style.display =\n",
              "          google.colab.kernel.accessAllowed ? 'block' : 'none';\n",
              "\n",
              "        async function convertToInteractive(key) {\n",
              "          const element = document.querySelector('#df-c3b3e13b-f39d-41a8-bed9-d8b44c5d869a');\n",
              "          const dataTable =\n",
              "            await google.colab.kernel.invokeFunction('convertToInteractive',\n",
              "                                                     [key], {});\n",
              "          if (!dataTable) return;\n",
              "\n",
              "          const docLinkHtml = 'Like what you see? Visit the ' +\n",
              "            '<a target=\"_blank\" href=https://colab.research.google.com/notebooks/data_table.ipynb>data table notebook</a>'\n",
              "            + ' to learn more about interactive tables.';\n",
              "          element.innerHTML = '';\n",
              "          dataTable['output_type'] = 'display_data';\n",
              "          await google.colab.output.renderOutput(dataTable, element);\n",
              "          const docLink = document.createElement('div');\n",
              "          docLink.innerHTML = docLinkHtml;\n",
              "          element.appendChild(docLink);\n",
              "        }\n",
              "      </script>\n",
              "    </div>\n",
              "  </div>\n",
              "  "
            ]
          },
          "metadata": {},
          "execution_count": 14
        }
      ]
    },
    {
      "cell_type": "code",
      "source": [
        "len(REGN33_train), len(REGN33_test)"
      ],
      "metadata": {
        "colab": {
          "base_uri": "https://localhost:8080/"
        },
        "id": "_CReHXTKyHhE",
        "outputId": "5f423277-11fb-4dbe-e10f-5004e500f7f7",
        "execution": {
          "iopub.status.busy": "2023-04-25T13:27:57.507471Z",
          "iopub.execute_input": "2023-04-25T13:27:57.508774Z",
          "iopub.status.idle": "2023-04-25T13:27:57.517001Z",
          "shell.execute_reply.started": "2023-04-25T13:27:57.508699Z",
          "shell.execute_reply": "2023-04-25T13:27:57.515632Z"
        },
        "trusted": true
      },
      "execution_count": 15,
      "outputs": [
        {
          "output_type": "execute_result",
          "data": {
            "text/plain": [
              "(120218, 13358)"
            ]
          },
          "metadata": {},
          "execution_count": 15
        }
      ]
    },
    {
      "cell_type": "code",
      "source": [
        "REGN33 = pd.concat([REGN33_test, REGN33_train])\n",
        "REGN33.head()"
      ],
      "metadata": {
        "colab": {
          "base_uri": "https://localhost:8080/",
          "height": 288
        },
        "id": "QqmzGtFtsZzE",
        "outputId": "d4e3bd0d-a239-4fe7-b00b-fc9105afe5a5"
      },
      "execution_count": 16,
      "outputs": [
        {
          "output_type": "execute_result",
          "data": {
            "text/plain": [
              "   Unnamed: 0               junction_aa    v_call  consensus_count    j_call  \\\n",
              "0       47255  KNAGFNCYTPLKQYGFWRTGGRNW  IGHV_RBD                1  IGHJ_RBD   \n",
              "1      139320  KNKGFNCYSPLYAYGFWRTQGEGF  IGHV_RBD                1  IGHJ_RBD   \n",
              "2      124112  KNRGFNCYSPLRRYGFWTTAGMGW  IGHV_RBD                1  IGHJ_RBD   \n",
              "3      122963  TGTGFNCYNPLCTYGFQRTVGRNW  IGHV_RBD                1  IGHJ_RBD   \n",
              "4       25328  KNKGFNCYAPLSPYGFWPTAGRGW  IGHV_RBD                2  IGHJ_RBD   \n",
              "\n",
              "   clonal_frequency  Label  Distance Antibody  \n",
              "0          0.000007      1        10   REGN33  \n",
              "1          0.000008      0         9   REGN33  \n",
              "2          0.000008      0         9   REGN33  \n",
              "3          0.000008      0        11   REGN33  \n",
              "4          0.000015      1         8   REGN33  "
            ],
            "text/html": [
              "\n",
              "  <div id=\"df-2b6e5783-a353-4e35-ab22-3345ef5f69b2\">\n",
              "    <div class=\"colab-df-container\">\n",
              "      <div>\n",
              "<style scoped>\n",
              "    .dataframe tbody tr th:only-of-type {\n",
              "        vertical-align: middle;\n",
              "    }\n",
              "\n",
              "    .dataframe tbody tr th {\n",
              "        vertical-align: top;\n",
              "    }\n",
              "\n",
              "    .dataframe thead th {\n",
              "        text-align: right;\n",
              "    }\n",
              "</style>\n",
              "<table border=\"1\" class=\"dataframe\">\n",
              "  <thead>\n",
              "    <tr style=\"text-align: right;\">\n",
              "      <th></th>\n",
              "      <th>Unnamed: 0</th>\n",
              "      <th>junction_aa</th>\n",
              "      <th>v_call</th>\n",
              "      <th>consensus_count</th>\n",
              "      <th>j_call</th>\n",
              "      <th>clonal_frequency</th>\n",
              "      <th>Label</th>\n",
              "      <th>Distance</th>\n",
              "      <th>Antibody</th>\n",
              "    </tr>\n",
              "  </thead>\n",
              "  <tbody>\n",
              "    <tr>\n",
              "      <th>0</th>\n",
              "      <td>47255</td>\n",
              "      <td>KNAGFNCYTPLKQYGFWRTGGRNW</td>\n",
              "      <td>IGHV_RBD</td>\n",
              "      <td>1</td>\n",
              "      <td>IGHJ_RBD</td>\n",
              "      <td>0.000007</td>\n",
              "      <td>1</td>\n",
              "      <td>10</td>\n",
              "      <td>REGN33</td>\n",
              "    </tr>\n",
              "    <tr>\n",
              "      <th>1</th>\n",
              "      <td>139320</td>\n",
              "      <td>KNKGFNCYSPLYAYGFWRTQGEGF</td>\n",
              "      <td>IGHV_RBD</td>\n",
              "      <td>1</td>\n",
              "      <td>IGHJ_RBD</td>\n",
              "      <td>0.000008</td>\n",
              "      <td>0</td>\n",
              "      <td>9</td>\n",
              "      <td>REGN33</td>\n",
              "    </tr>\n",
              "    <tr>\n",
              "      <th>2</th>\n",
              "      <td>124112</td>\n",
              "      <td>KNRGFNCYSPLRRYGFWTTAGMGW</td>\n",
              "      <td>IGHV_RBD</td>\n",
              "      <td>1</td>\n",
              "      <td>IGHJ_RBD</td>\n",
              "      <td>0.000008</td>\n",
              "      <td>0</td>\n",
              "      <td>9</td>\n",
              "      <td>REGN33</td>\n",
              "    </tr>\n",
              "    <tr>\n",
              "      <th>3</th>\n",
              "      <td>122963</td>\n",
              "      <td>TGTGFNCYNPLCTYGFQRTVGRNW</td>\n",
              "      <td>IGHV_RBD</td>\n",
              "      <td>1</td>\n",
              "      <td>IGHJ_RBD</td>\n",
              "      <td>0.000008</td>\n",
              "      <td>0</td>\n",
              "      <td>11</td>\n",
              "      <td>REGN33</td>\n",
              "    </tr>\n",
              "    <tr>\n",
              "      <th>4</th>\n",
              "      <td>25328</td>\n",
              "      <td>KNKGFNCYAPLSPYGFWPTAGRGW</td>\n",
              "      <td>IGHV_RBD</td>\n",
              "      <td>2</td>\n",
              "      <td>IGHJ_RBD</td>\n",
              "      <td>0.000015</td>\n",
              "      <td>1</td>\n",
              "      <td>8</td>\n",
              "      <td>REGN33</td>\n",
              "    </tr>\n",
              "  </tbody>\n",
              "</table>\n",
              "</div>\n",
              "      <button class=\"colab-df-convert\" onclick=\"convertToInteractive('df-2b6e5783-a353-4e35-ab22-3345ef5f69b2')\"\n",
              "              title=\"Convert this dataframe to an interactive table.\"\n",
              "              style=\"display:none;\">\n",
              "        \n",
              "  <svg xmlns=\"http://www.w3.org/2000/svg\" height=\"24px\"viewBox=\"0 0 24 24\"\n",
              "       width=\"24px\">\n",
              "    <path d=\"M0 0h24v24H0V0z\" fill=\"none\"/>\n",
              "    <path d=\"M18.56 5.44l.94 2.06.94-2.06 2.06-.94-2.06-.94-.94-2.06-.94 2.06-2.06.94zm-11 1L8.5 8.5l.94-2.06 2.06-.94-2.06-.94L8.5 2.5l-.94 2.06-2.06.94zm10 10l.94 2.06.94-2.06 2.06-.94-2.06-.94-.94-2.06-.94 2.06-2.06.94z\"/><path d=\"M17.41 7.96l-1.37-1.37c-.4-.4-.92-.59-1.43-.59-.52 0-1.04.2-1.43.59L10.3 9.45l-7.72 7.72c-.78.78-.78 2.05 0 2.83L4 21.41c.39.39.9.59 1.41.59.51 0 1.02-.2 1.41-.59l7.78-7.78 2.81-2.81c.8-.78.8-2.07 0-2.86zM5.41 20L4 18.59l7.72-7.72 1.47 1.35L5.41 20z\"/>\n",
              "  </svg>\n",
              "      </button>\n",
              "      \n",
              "  <style>\n",
              "    .colab-df-container {\n",
              "      display:flex;\n",
              "      flex-wrap:wrap;\n",
              "      gap: 12px;\n",
              "    }\n",
              "\n",
              "    .colab-df-convert {\n",
              "      background-color: #E8F0FE;\n",
              "      border: none;\n",
              "      border-radius: 50%;\n",
              "      cursor: pointer;\n",
              "      display: none;\n",
              "      fill: #1967D2;\n",
              "      height: 32px;\n",
              "      padding: 0 0 0 0;\n",
              "      width: 32px;\n",
              "    }\n",
              "\n",
              "    .colab-df-convert:hover {\n",
              "      background-color: #E2EBFA;\n",
              "      box-shadow: 0px 1px 2px rgba(60, 64, 67, 0.3), 0px 1px 3px 1px rgba(60, 64, 67, 0.15);\n",
              "      fill: #174EA6;\n",
              "    }\n",
              "\n",
              "    [theme=dark] .colab-df-convert {\n",
              "      background-color: #3B4455;\n",
              "      fill: #D2E3FC;\n",
              "    }\n",
              "\n",
              "    [theme=dark] .colab-df-convert:hover {\n",
              "      background-color: #434B5C;\n",
              "      box-shadow: 0px 1px 3px 1px rgba(0, 0, 0, 0.15);\n",
              "      filter: drop-shadow(0px 1px 2px rgba(0, 0, 0, 0.3));\n",
              "      fill: #FFFFFF;\n",
              "    }\n",
              "  </style>\n",
              "\n",
              "      <script>\n",
              "        const buttonEl =\n",
              "          document.querySelector('#df-2b6e5783-a353-4e35-ab22-3345ef5f69b2 button.colab-df-convert');\n",
              "        buttonEl.style.display =\n",
              "          google.colab.kernel.accessAllowed ? 'block' : 'none';\n",
              "\n",
              "        async function convertToInteractive(key) {\n",
              "          const element = document.querySelector('#df-2b6e5783-a353-4e35-ab22-3345ef5f69b2');\n",
              "          const dataTable =\n",
              "            await google.colab.kernel.invokeFunction('convertToInteractive',\n",
              "                                                     [key], {});\n",
              "          if (!dataTable) return;\n",
              "\n",
              "          const docLinkHtml = 'Like what you see? Visit the ' +\n",
              "            '<a target=\"_blank\" href=https://colab.research.google.com/notebooks/data_table.ipynb>data table notebook</a>'\n",
              "            + ' to learn more about interactive tables.';\n",
              "          element.innerHTML = '';\n",
              "          dataTable['output_type'] = 'display_data';\n",
              "          await google.colab.output.renderOutput(dataTable, element);\n",
              "          const docLink = document.createElement('div');\n",
              "          docLink.innerHTML = docLinkHtml;\n",
              "          element.appendChild(docLink);\n",
              "        }\n",
              "      </script>\n",
              "    </div>\n",
              "  </div>\n",
              "  "
            ]
          },
          "metadata": {},
          "execution_count": 16
        }
      ]
    },
    {
      "cell_type": "markdown",
      "source": [
        "## REGN87"
      ],
      "metadata": {
        "id": "WrbJ2h7RY1gi"
      }
    },
    {
      "cell_type": "code",
      "source": [
        "REGN87_train = pd.read_csv(\"/content/Train:Test Sequences/REGN87_train_data.csv\")\n",
        "REGN87_test = pd.read_csv(\"/content/Train:Test Sequences/REGN87_test_data.csv\")"
      ],
      "metadata": {
        "id": "OnLZ0wwPvkyl",
        "execution": {
          "iopub.status.busy": "2023-04-25T13:28:03.351146Z",
          "iopub.execute_input": "2023-04-25T13:28:03.351622Z",
          "iopub.status.idle": "2023-04-25T13:28:03.426349Z",
          "shell.execute_reply.started": "2023-04-25T13:28:03.351579Z",
          "shell.execute_reply": "2023-04-25T13:28:03.425196Z"
        },
        "trusted": true
      },
      "execution_count": 17,
      "outputs": []
    },
    {
      "cell_type": "code",
      "source": [
        "REGN87_train.head()"
      ],
      "metadata": {
        "colab": {
          "base_uri": "https://localhost:8080/",
          "height": 288
        },
        "id": "vQN3mg53yPoo",
        "outputId": "a5fc2386-5cd5-45df-c7ec-912f993373c9",
        "execution": {
          "iopub.status.busy": "2023-04-25T13:28:09.949616Z",
          "iopub.execute_input": "2023-04-25T13:28:09.950961Z",
          "iopub.status.idle": "2023-04-25T13:28:09.967852Z",
          "shell.execute_reply.started": "2023-04-25T13:28:09.950896Z",
          "shell.execute_reply": "2023-04-25T13:28:09.966256Z"
        },
        "trusted": true
      },
      "execution_count": 18,
      "outputs": [
        {
          "output_type": "execute_result",
          "data": {
            "text/plain": [
              "   Unnamed: 0               junction_aa    v_call  consensus_count    j_call  \\\n",
              "0       13918  KNRGFNCYVPLTPYGFYPTCGEGF  IGHV_RBD                1  IGHJ_RBD   \n",
              "1       18091  KNAGFNCYPPIVRYGFWPTYGRSF  IGHV_RBD                1  IGHJ_RBD   \n",
              "2       42926  TIKQFNCYSPLQNYGFFRTSGEGY  IGHV_RBD                1  IGHJ_RBD   \n",
              "3       34999  KNRGFNCYDPIETYGFQRTIGRGW  IGHV_RBD                1  IGHJ_RBD   \n",
              "4       12801  VQPGFNCYWPIFSYGFWPTNGVNW  IGHV_RBD                1  IGHJ_RBD   \n",
              "\n",
              "   clonal_frequency  Label  Distance Antibody  \n",
              "0          0.000036      1         8   REGN87  \n",
              "1          0.000036      1        10   REGN87  \n",
              "2          0.000047      0        10   REGN87  \n",
              "3          0.000047      0         9   REGN87  \n",
              "4          0.000036      1         9   REGN87  "
            ],
            "text/html": [
              "\n",
              "  <div id=\"df-d232857f-0629-4c25-b035-9cca37057058\">\n",
              "    <div class=\"colab-df-container\">\n",
              "      <div>\n",
              "<style scoped>\n",
              "    .dataframe tbody tr th:only-of-type {\n",
              "        vertical-align: middle;\n",
              "    }\n",
              "\n",
              "    .dataframe tbody tr th {\n",
              "        vertical-align: top;\n",
              "    }\n",
              "\n",
              "    .dataframe thead th {\n",
              "        text-align: right;\n",
              "    }\n",
              "</style>\n",
              "<table border=\"1\" class=\"dataframe\">\n",
              "  <thead>\n",
              "    <tr style=\"text-align: right;\">\n",
              "      <th></th>\n",
              "      <th>Unnamed: 0</th>\n",
              "      <th>junction_aa</th>\n",
              "      <th>v_call</th>\n",
              "      <th>consensus_count</th>\n",
              "      <th>j_call</th>\n",
              "      <th>clonal_frequency</th>\n",
              "      <th>Label</th>\n",
              "      <th>Distance</th>\n",
              "      <th>Antibody</th>\n",
              "    </tr>\n",
              "  </thead>\n",
              "  <tbody>\n",
              "    <tr>\n",
              "      <th>0</th>\n",
              "      <td>13918</td>\n",
              "      <td>KNRGFNCYVPLTPYGFYPTCGEGF</td>\n",
              "      <td>IGHV_RBD</td>\n",
              "      <td>1</td>\n",
              "      <td>IGHJ_RBD</td>\n",
              "      <td>0.000036</td>\n",
              "      <td>1</td>\n",
              "      <td>8</td>\n",
              "      <td>REGN87</td>\n",
              "    </tr>\n",
              "    <tr>\n",
              "      <th>1</th>\n",
              "      <td>18091</td>\n",
              "      <td>KNAGFNCYPPIVRYGFWPTYGRSF</td>\n",
              "      <td>IGHV_RBD</td>\n",
              "      <td>1</td>\n",
              "      <td>IGHJ_RBD</td>\n",
              "      <td>0.000036</td>\n",
              "      <td>1</td>\n",
              "      <td>10</td>\n",
              "      <td>REGN87</td>\n",
              "    </tr>\n",
              "    <tr>\n",
              "      <th>2</th>\n",
              "      <td>42926</td>\n",
              "      <td>TIKQFNCYSPLQNYGFFRTSGEGY</td>\n",
              "      <td>IGHV_RBD</td>\n",
              "      <td>1</td>\n",
              "      <td>IGHJ_RBD</td>\n",
              "      <td>0.000047</td>\n",
              "      <td>0</td>\n",
              "      <td>10</td>\n",
              "      <td>REGN87</td>\n",
              "    </tr>\n",
              "    <tr>\n",
              "      <th>3</th>\n",
              "      <td>34999</td>\n",
              "      <td>KNRGFNCYDPIETYGFQRTIGRGW</td>\n",
              "      <td>IGHV_RBD</td>\n",
              "      <td>1</td>\n",
              "      <td>IGHJ_RBD</td>\n",
              "      <td>0.000047</td>\n",
              "      <td>0</td>\n",
              "      <td>9</td>\n",
              "      <td>REGN87</td>\n",
              "    </tr>\n",
              "    <tr>\n",
              "      <th>4</th>\n",
              "      <td>12801</td>\n",
              "      <td>VQPGFNCYWPIFSYGFWPTNGVNW</td>\n",
              "      <td>IGHV_RBD</td>\n",
              "      <td>1</td>\n",
              "      <td>IGHJ_RBD</td>\n",
              "      <td>0.000036</td>\n",
              "      <td>1</td>\n",
              "      <td>9</td>\n",
              "      <td>REGN87</td>\n",
              "    </tr>\n",
              "  </tbody>\n",
              "</table>\n",
              "</div>\n",
              "      <button class=\"colab-df-convert\" onclick=\"convertToInteractive('df-d232857f-0629-4c25-b035-9cca37057058')\"\n",
              "              title=\"Convert this dataframe to an interactive table.\"\n",
              "              style=\"display:none;\">\n",
              "        \n",
              "  <svg xmlns=\"http://www.w3.org/2000/svg\" height=\"24px\"viewBox=\"0 0 24 24\"\n",
              "       width=\"24px\">\n",
              "    <path d=\"M0 0h24v24H0V0z\" fill=\"none\"/>\n",
              "    <path d=\"M18.56 5.44l.94 2.06.94-2.06 2.06-.94-2.06-.94-.94-2.06-.94 2.06-2.06.94zm-11 1L8.5 8.5l.94-2.06 2.06-.94-2.06-.94L8.5 2.5l-.94 2.06-2.06.94zm10 10l.94 2.06.94-2.06 2.06-.94-2.06-.94-.94-2.06-.94 2.06-2.06.94z\"/><path d=\"M17.41 7.96l-1.37-1.37c-.4-.4-.92-.59-1.43-.59-.52 0-1.04.2-1.43.59L10.3 9.45l-7.72 7.72c-.78.78-.78 2.05 0 2.83L4 21.41c.39.39.9.59 1.41.59.51 0 1.02-.2 1.41-.59l7.78-7.78 2.81-2.81c.8-.78.8-2.07 0-2.86zM5.41 20L4 18.59l7.72-7.72 1.47 1.35L5.41 20z\"/>\n",
              "  </svg>\n",
              "      </button>\n",
              "      \n",
              "  <style>\n",
              "    .colab-df-container {\n",
              "      display:flex;\n",
              "      flex-wrap:wrap;\n",
              "      gap: 12px;\n",
              "    }\n",
              "\n",
              "    .colab-df-convert {\n",
              "      background-color: #E8F0FE;\n",
              "      border: none;\n",
              "      border-radius: 50%;\n",
              "      cursor: pointer;\n",
              "      display: none;\n",
              "      fill: #1967D2;\n",
              "      height: 32px;\n",
              "      padding: 0 0 0 0;\n",
              "      width: 32px;\n",
              "    }\n",
              "\n",
              "    .colab-df-convert:hover {\n",
              "      background-color: #E2EBFA;\n",
              "      box-shadow: 0px 1px 2px rgba(60, 64, 67, 0.3), 0px 1px 3px 1px rgba(60, 64, 67, 0.15);\n",
              "      fill: #174EA6;\n",
              "    }\n",
              "\n",
              "    [theme=dark] .colab-df-convert {\n",
              "      background-color: #3B4455;\n",
              "      fill: #D2E3FC;\n",
              "    }\n",
              "\n",
              "    [theme=dark] .colab-df-convert:hover {\n",
              "      background-color: #434B5C;\n",
              "      box-shadow: 0px 1px 3px 1px rgba(0, 0, 0, 0.15);\n",
              "      filter: drop-shadow(0px 1px 2px rgba(0, 0, 0, 0.3));\n",
              "      fill: #FFFFFF;\n",
              "    }\n",
              "  </style>\n",
              "\n",
              "      <script>\n",
              "        const buttonEl =\n",
              "          document.querySelector('#df-d232857f-0629-4c25-b035-9cca37057058 button.colab-df-convert');\n",
              "        buttonEl.style.display =\n",
              "          google.colab.kernel.accessAllowed ? 'block' : 'none';\n",
              "\n",
              "        async function convertToInteractive(key) {\n",
              "          const element = document.querySelector('#df-d232857f-0629-4c25-b035-9cca37057058');\n",
              "          const dataTable =\n",
              "            await google.colab.kernel.invokeFunction('convertToInteractive',\n",
              "                                                     [key], {});\n",
              "          if (!dataTable) return;\n",
              "\n",
              "          const docLinkHtml = 'Like what you see? Visit the ' +\n",
              "            '<a target=\"_blank\" href=https://colab.research.google.com/notebooks/data_table.ipynb>data table notebook</a>'\n",
              "            + ' to learn more about interactive tables.';\n",
              "          element.innerHTML = '';\n",
              "          dataTable['output_type'] = 'display_data';\n",
              "          await google.colab.output.renderOutput(dataTable, element);\n",
              "          const docLink = document.createElement('div');\n",
              "          docLink.innerHTML = docLinkHtml;\n",
              "          element.appendChild(docLink);\n",
              "        }\n",
              "      </script>\n",
              "    </div>\n",
              "  </div>\n",
              "  "
            ]
          },
          "metadata": {},
          "execution_count": 18
        }
      ]
    },
    {
      "cell_type": "code",
      "source": [
        "len(REGN87_train), len(REGN87_test)"
      ],
      "metadata": {
        "colab": {
          "base_uri": "https://localhost:8080/"
        },
        "id": "pgoGSg-yyQva",
        "outputId": "bf937fef-000e-47bc-f580-ffc2cb689881",
        "execution": {
          "iopub.status.busy": "2023-04-25T13:28:13.888640Z",
          "iopub.execute_input": "2023-04-25T13:28:13.889081Z",
          "iopub.status.idle": "2023-04-25T13:28:13.897626Z",
          "shell.execute_reply.started": "2023-04-25T13:28:13.889043Z",
          "shell.execute_reply": "2023-04-25T13:28:13.895950Z"
        },
        "trusted": true
      },
      "execution_count": 19,
      "outputs": [
        {
          "output_type": "execute_result",
          "data": {
            "text/plain": [
              "(30090, 3344)"
            ]
          },
          "metadata": {},
          "execution_count": 19
        }
      ]
    },
    {
      "cell_type": "code",
      "source": [
        "REGN87 = pd.concat([REGN87_test, REGN87_train])\n",
        "REGN87.head()"
      ],
      "metadata": {
        "colab": {
          "base_uri": "https://localhost:8080/",
          "height": 288
        },
        "id": "cbOC8n-js7bo",
        "outputId": "bb97c271-289e-4cd6-8c7e-0f137b1843f0"
      },
      "execution_count": 20,
      "outputs": [
        {
          "output_type": "execute_result",
          "data": {
            "text/plain": [
              "   Unnamed: 0               junction_aa    v_call  consensus_count    j_call  \\\n",
              "0       12094  KNTGFNCYRPITAYGFYPTVGENF  IGHV_RBD                1  IGHJ_RBD   \n",
              "1       48636  KNTGFNCYFPLQSYGFYPTSGVGY  IGHV_RBD               20  IGHJ_RBD   \n",
              "2       42986  TLEGFNCYEPLYAYGFWRTAGLGY  IGHV_RBD                1  IGHJ_RBD   \n",
              "3       31917  KNGQFNCYVPIVRYGFWTTNGLGW  IGHV_RBD                1  IGHJ_RBD   \n",
              "4       60396  KNEGFNCYQPLQSYGFQRTNGRGY  IGHV_RBD                1  IGHJ_RBD   \n",
              "\n",
              "   clonal_frequency  Label  Distance Antibody  \n",
              "0          0.000036      1        10   REGN87  \n",
              "1          0.000053      1         3   REGN87  \n",
              "2          0.000047      0         9   REGN87  \n",
              "3          0.000047      0        10   REGN87  \n",
              "4          0.000004      0         3   REGN87  "
            ],
            "text/html": [
              "\n",
              "  <div id=\"df-df6c3290-d4b3-4c15-bbc3-ed9159d965c3\">\n",
              "    <div class=\"colab-df-container\">\n",
              "      <div>\n",
              "<style scoped>\n",
              "    .dataframe tbody tr th:only-of-type {\n",
              "        vertical-align: middle;\n",
              "    }\n",
              "\n",
              "    .dataframe tbody tr th {\n",
              "        vertical-align: top;\n",
              "    }\n",
              "\n",
              "    .dataframe thead th {\n",
              "        text-align: right;\n",
              "    }\n",
              "</style>\n",
              "<table border=\"1\" class=\"dataframe\">\n",
              "  <thead>\n",
              "    <tr style=\"text-align: right;\">\n",
              "      <th></th>\n",
              "      <th>Unnamed: 0</th>\n",
              "      <th>junction_aa</th>\n",
              "      <th>v_call</th>\n",
              "      <th>consensus_count</th>\n",
              "      <th>j_call</th>\n",
              "      <th>clonal_frequency</th>\n",
              "      <th>Label</th>\n",
              "      <th>Distance</th>\n",
              "      <th>Antibody</th>\n",
              "    </tr>\n",
              "  </thead>\n",
              "  <tbody>\n",
              "    <tr>\n",
              "      <th>0</th>\n",
              "      <td>12094</td>\n",
              "      <td>KNTGFNCYRPITAYGFYPTVGENF</td>\n",
              "      <td>IGHV_RBD</td>\n",
              "      <td>1</td>\n",
              "      <td>IGHJ_RBD</td>\n",
              "      <td>0.000036</td>\n",
              "      <td>1</td>\n",
              "      <td>10</td>\n",
              "      <td>REGN87</td>\n",
              "    </tr>\n",
              "    <tr>\n",
              "      <th>1</th>\n",
              "      <td>48636</td>\n",
              "      <td>KNTGFNCYFPLQSYGFYPTSGVGY</td>\n",
              "      <td>IGHV_RBD</td>\n",
              "      <td>20</td>\n",
              "      <td>IGHJ_RBD</td>\n",
              "      <td>0.000053</td>\n",
              "      <td>1</td>\n",
              "      <td>3</td>\n",
              "      <td>REGN87</td>\n",
              "    </tr>\n",
              "    <tr>\n",
              "      <th>2</th>\n",
              "      <td>42986</td>\n",
              "      <td>TLEGFNCYEPLYAYGFWRTAGLGY</td>\n",
              "      <td>IGHV_RBD</td>\n",
              "      <td>1</td>\n",
              "      <td>IGHJ_RBD</td>\n",
              "      <td>0.000047</td>\n",
              "      <td>0</td>\n",
              "      <td>9</td>\n",
              "      <td>REGN87</td>\n",
              "    </tr>\n",
              "    <tr>\n",
              "      <th>3</th>\n",
              "      <td>31917</td>\n",
              "      <td>KNGQFNCYVPIVRYGFWTTNGLGW</td>\n",
              "      <td>IGHV_RBD</td>\n",
              "      <td>1</td>\n",
              "      <td>IGHJ_RBD</td>\n",
              "      <td>0.000047</td>\n",
              "      <td>0</td>\n",
              "      <td>10</td>\n",
              "      <td>REGN87</td>\n",
              "    </tr>\n",
              "    <tr>\n",
              "      <th>4</th>\n",
              "      <td>60396</td>\n",
              "      <td>KNEGFNCYQPLQSYGFQRTNGRGY</td>\n",
              "      <td>IGHV_RBD</td>\n",
              "      <td>1</td>\n",
              "      <td>IGHJ_RBD</td>\n",
              "      <td>0.000004</td>\n",
              "      <td>0</td>\n",
              "      <td>3</td>\n",
              "      <td>REGN87</td>\n",
              "    </tr>\n",
              "  </tbody>\n",
              "</table>\n",
              "</div>\n",
              "      <button class=\"colab-df-convert\" onclick=\"convertToInteractive('df-df6c3290-d4b3-4c15-bbc3-ed9159d965c3')\"\n",
              "              title=\"Convert this dataframe to an interactive table.\"\n",
              "              style=\"display:none;\">\n",
              "        \n",
              "  <svg xmlns=\"http://www.w3.org/2000/svg\" height=\"24px\"viewBox=\"0 0 24 24\"\n",
              "       width=\"24px\">\n",
              "    <path d=\"M0 0h24v24H0V0z\" fill=\"none\"/>\n",
              "    <path d=\"M18.56 5.44l.94 2.06.94-2.06 2.06-.94-2.06-.94-.94-2.06-.94 2.06-2.06.94zm-11 1L8.5 8.5l.94-2.06 2.06-.94-2.06-.94L8.5 2.5l-.94 2.06-2.06.94zm10 10l.94 2.06.94-2.06 2.06-.94-2.06-.94-.94-2.06-.94 2.06-2.06.94z\"/><path d=\"M17.41 7.96l-1.37-1.37c-.4-.4-.92-.59-1.43-.59-.52 0-1.04.2-1.43.59L10.3 9.45l-7.72 7.72c-.78.78-.78 2.05 0 2.83L4 21.41c.39.39.9.59 1.41.59.51 0 1.02-.2 1.41-.59l7.78-7.78 2.81-2.81c.8-.78.8-2.07 0-2.86zM5.41 20L4 18.59l7.72-7.72 1.47 1.35L5.41 20z\"/>\n",
              "  </svg>\n",
              "      </button>\n",
              "      \n",
              "  <style>\n",
              "    .colab-df-container {\n",
              "      display:flex;\n",
              "      flex-wrap:wrap;\n",
              "      gap: 12px;\n",
              "    }\n",
              "\n",
              "    .colab-df-convert {\n",
              "      background-color: #E8F0FE;\n",
              "      border: none;\n",
              "      border-radius: 50%;\n",
              "      cursor: pointer;\n",
              "      display: none;\n",
              "      fill: #1967D2;\n",
              "      height: 32px;\n",
              "      padding: 0 0 0 0;\n",
              "      width: 32px;\n",
              "    }\n",
              "\n",
              "    .colab-df-convert:hover {\n",
              "      background-color: #E2EBFA;\n",
              "      box-shadow: 0px 1px 2px rgba(60, 64, 67, 0.3), 0px 1px 3px 1px rgba(60, 64, 67, 0.15);\n",
              "      fill: #174EA6;\n",
              "    }\n",
              "\n",
              "    [theme=dark] .colab-df-convert {\n",
              "      background-color: #3B4455;\n",
              "      fill: #D2E3FC;\n",
              "    }\n",
              "\n",
              "    [theme=dark] .colab-df-convert:hover {\n",
              "      background-color: #434B5C;\n",
              "      box-shadow: 0px 1px 3px 1px rgba(0, 0, 0, 0.15);\n",
              "      filter: drop-shadow(0px 1px 2px rgba(0, 0, 0, 0.3));\n",
              "      fill: #FFFFFF;\n",
              "    }\n",
              "  </style>\n",
              "\n",
              "      <script>\n",
              "        const buttonEl =\n",
              "          document.querySelector('#df-df6c3290-d4b3-4c15-bbc3-ed9159d965c3 button.colab-df-convert');\n",
              "        buttonEl.style.display =\n",
              "          google.colab.kernel.accessAllowed ? 'block' : 'none';\n",
              "\n",
              "        async function convertToInteractive(key) {\n",
              "          const element = document.querySelector('#df-df6c3290-d4b3-4c15-bbc3-ed9159d965c3');\n",
              "          const dataTable =\n",
              "            await google.colab.kernel.invokeFunction('convertToInteractive',\n",
              "                                                     [key], {});\n",
              "          if (!dataTable) return;\n",
              "\n",
              "          const docLinkHtml = 'Like what you see? Visit the ' +\n",
              "            '<a target=\"_blank\" href=https://colab.research.google.com/notebooks/data_table.ipynb>data table notebook</a>'\n",
              "            + ' to learn more about interactive tables.';\n",
              "          element.innerHTML = '';\n",
              "          dataTable['output_type'] = 'display_data';\n",
              "          await google.colab.output.renderOutput(dataTable, element);\n",
              "          const docLink = document.createElement('div');\n",
              "          docLink.innerHTML = docLinkHtml;\n",
              "          element.appendChild(docLink);\n",
              "        }\n",
              "      </script>\n",
              "    </div>\n",
              "  </div>\n",
              "  "
            ]
          },
          "metadata": {},
          "execution_count": 20
        }
      ]
    },
    {
      "cell_type": "markdown",
      "source": [
        "# One-hot encoding"
      ],
      "metadata": {
        "id": "_yzKF-d-vr9M"
      }
    },
    {
      "cell_type": "code",
      "source": [
        "#list of all aminoacids\n",
        "aminoacids = np.array([\n",
        "    [\"A\"], [\"C\"], [\"D\"],\n",
        "    [\"E\"], [\"F\"], [\"G\"],\n",
        "    [\"H\"], [\"I\"], [\"K\"],\n",
        "    [\"L\"], [\"M\"], [\"N\"],\n",
        "    [\"P\"], [\"Q\"], [\"R\"],\n",
        "    [\"S\"], [\"T\"], [\"V\"],\n",
        "    [\"W\"], [\"Y\"]])"
      ],
      "metadata": {
        "id": "DnttrdZa1Tc2",
        "execution": {
          "iopub.status.busy": "2023-05-07T22:11:06.289196Z",
          "iopub.execute_input": "2023-05-07T22:11:06.289699Z",
          "iopub.status.idle": "2023-05-07T22:11:06.296246Z",
          "shell.execute_reply.started": "2023-05-07T22:11:06.289652Z",
          "shell.execute_reply": "2023-05-07T22:11:06.295014Z"
        },
        "trusted": true
      },
      "execution_count": 21,
      "outputs": []
    },
    {
      "cell_type": "code",
      "source": [
        "#encoder\n",
        "encoder = OneHotEncoder()\n",
        "encoder = encoder.fit_transform(aminoacids).toarray()"
      ],
      "metadata": {
        "id": "seqvLlXx1tFd",
        "execution": {
          "iopub.status.busy": "2023-05-07T22:11:08.836021Z",
          "iopub.execute_input": "2023-05-07T22:11:08.836481Z",
          "iopub.status.idle": "2023-05-07T22:11:08.843215Z",
          "shell.execute_reply.started": "2023-05-07T22:11:08.836436Z",
          "shell.execute_reply": "2023-05-07T22:11:08.841852Z"
        },
        "trusted": true
      },
      "execution_count": 22,
      "outputs": []
    },
    {
      "cell_type": "code",
      "source": [
        "aminoacids_list = []\n",
        "for i in aminoacids:\n",
        "    aminoacids_list.append(i[0])"
      ],
      "metadata": {
        "id": "WjTN5sP-Bcnb",
        "execution": {
          "iopub.status.busy": "2023-05-07T22:11:22.763490Z",
          "iopub.execute_input": "2023-05-07T22:11:22.763946Z",
          "iopub.status.idle": "2023-05-07T22:11:22.772894Z",
          "shell.execute_reply.started": "2023-05-07T22:11:22.763904Z",
          "shell.execute_reply": "2023-05-07T22:11:22.771657Z"
        },
        "trusted": true
      },
      "execution_count": 23,
      "outputs": []
    },
    {
      "cell_type": "code",
      "source": [
        "enc = dict(zip(aminoacids_list, encoder))"
      ],
      "metadata": {
        "id": "9eoQzjoE7c-H",
        "execution": {
          "iopub.status.busy": "2023-05-07T22:11:32.210152Z",
          "iopub.execute_input": "2023-05-07T22:11:32.210681Z",
          "iopub.status.idle": "2023-05-07T22:11:32.215782Z",
          "shell.execute_reply.started": "2023-05-07T22:11:32.210630Z",
          "shell.execute_reply": "2023-05-07T22:11:32.214681Z"
        },
        "trusted": true
      },
      "execution_count": 24,
      "outputs": []
    },
    {
      "cell_type": "code",
      "source": [
        "def encoding_func(dataset):\n",
        "  encoded_list = []\n",
        "  for i in range(len(dataset)):\n",
        "    seq = dataset['junction_aa'].iloc[i]\n",
        "    seq_encodded = []\n",
        "    for letter in seq:\n",
        "      seq_encodded.append(enc[letter])\n",
        "    seq_encodded = np.array(seq_encodded)\n",
        "    encoded_list.append(seq_encodded)\n",
        "  encoded_list = np.array(encoded_list)\n",
        "  return encoded_list"
      ],
      "metadata": {
        "id": "3NrrMYAMtg0V"
      },
      "execution_count": 25,
      "outputs": []
    },
    {
      "cell_type": "markdown",
      "source": [
        "#RF models"
      ],
      "metadata": {
        "id": "nCmdx-_jvQ7I"
      }
    },
    {
      "cell_type": "markdown",
      "source": [
        "## Preprocessing data"
      ],
      "metadata": {
        "id": "P7PrdLxHxgq6"
      }
    },
    {
      "cell_type": "code",
      "source": [
        "def adding_enc_ab(A, B):\n",
        "    C = np.concatenate((A, np.broadcast_to(np.array(B)[None, None, :], A.shape[:1] + (1,) + A.shape[2:])), axis = 1)\n",
        "    return C"
      ],
      "metadata": {
        "id": "J6zw4Wj9v5HU"
      },
      "execution_count": 26,
      "outputs": []
    },
    {
      "cell_type": "code",
      "source": [
        "def preprocessing_data(df, arr):\n",
        "    sample = df.sample(n=2000)\n",
        "    train, test = sample[0:1600], sample[1600:]\n",
        "    train_enc = encoding_func(train)\n",
        "    test_enc = encoding_func(test)\n",
        "    train_enc = adding_enc_ab(train_enc, arr)\n",
        "    test_enc = adding_enc_ab(test_enc, arr)\n",
        "    train_X = train_enc.reshape(train_enc.shape[0], (train_enc.shape[1]*train_enc.shape[2]))\n",
        "    test_X = test_enc.reshape(test_enc.shape[0], (test_enc.shape[1]*test_enc.shape[2]))\n",
        "    train_y = train['Label']\n",
        "    test_y = test['Label']\n",
        "    return train_X, test_X, train_y, test_y"
      ],
      "metadata": {
        "id": "O7Cv7-zntOZn"
      },
      "execution_count": 27,
      "outputs": []
    },
    {
      "cell_type": "markdown",
      "source": [
        "### LY16"
      ],
      "metadata": {
        "id": "IEn-4SMEx2ZG"
      }
    },
    {
      "cell_type": "code",
      "source": [
        "arr = np.zeros(20)\n",
        "arr[0] = 1"
      ],
      "metadata": {
        "id": "XDpTGJYhyQ1O"
      },
      "execution_count": 28,
      "outputs": []
    },
    {
      "cell_type": "code",
      "source": [
        "LY16_train_X, LY16_test_X, LY16_train_y, LY16_test_y = preprocessing_data(LY16, arr)"
      ],
      "metadata": {
        "id": "HViq_ShTuYQU"
      },
      "execution_count": 29,
      "outputs": []
    },
    {
      "cell_type": "markdown",
      "source": [
        "### LY555"
      ],
      "metadata": {
        "id": "tmtl3bsAx4dW"
      }
    },
    {
      "cell_type": "code",
      "source": [
        "arr = np.zeros(20)\n",
        "arr[1] = 1"
      ],
      "metadata": {
        "id": "8dd7tcuDyf4g"
      },
      "execution_count": 30,
      "outputs": []
    },
    {
      "cell_type": "code",
      "source": [
        "LY555_train_X, LY555_test_X, LY555_train_y, LY555_test_y = preprocessing_data(LY555, arr)"
      ],
      "metadata": {
        "id": "hzMFLe0Oupei"
      },
      "execution_count": 31,
      "outputs": []
    },
    {
      "cell_type": "markdown",
      "source": [
        "### REGN33"
      ],
      "metadata": {
        "id": "fwxkHibDx6LA"
      }
    },
    {
      "cell_type": "code",
      "source": [
        "arr = np.zeros(20)\n",
        "arr[2] = 1"
      ],
      "metadata": {
        "id": "CVD6qkdoyhRl"
      },
      "execution_count": 32,
      "outputs": []
    },
    {
      "cell_type": "code",
      "source": [
        "REGN33_train_X, REGN33_test_X, REGN33_train_y, REGN33_test_y = preprocessing_data(REGN33, arr)"
      ],
      "metadata": {
        "id": "ReopnE_zx7vO"
      },
      "execution_count": 33,
      "outputs": []
    },
    {
      "cell_type": "markdown",
      "source": [
        "### REGN87"
      ],
      "metadata": {
        "id": "_1batHTbx78j"
      }
    },
    {
      "cell_type": "code",
      "source": [
        "arr = np.zeros(20)\n",
        "arr[3] = 1"
      ],
      "metadata": {
        "id": "NDodLjnYyiiV"
      },
      "execution_count": 34,
      "outputs": []
    },
    {
      "cell_type": "code",
      "source": [
        "REGN87_train_X, REGN87_test_X, REGN87_train_y, REGN87_test_y = preprocessing_data(REGN87, arr)"
      ],
      "metadata": {
        "id": "DRgM1uJ9yHfG"
      },
      "execution_count": 35,
      "outputs": []
    },
    {
      "cell_type": "markdown",
      "source": [
        "## RF\n"
      ],
      "metadata": {
        "id": "g0GO0hJxrAkz"
      }
    },
    {
      "cell_type": "code",
      "source": [
        "def rf(clfRF, train_X, train_y, test_X, test_y):\n",
        "    clfRF.fit(train_X, train_y)\n",
        "    y_predicted = clfRF.predict(test_X)\n",
        "    acc = accuracy_score(test_y, y_predicted)\n",
        "    pre = precision_score(test_y, y_predicted)\n",
        "    rec = recall_score(test_y, y_predicted)\n",
        "    f1 = f1_score(test_y, y_predicted)\n",
        "    roc_auc = roc_auc_score(test_y, y_predicted)\n",
        "    print('accuracy_score', acc)\n",
        "    print('precision_score', pre)\n",
        "    print('recall_score', rec)\n",
        "    print('f1_score', f1)\n",
        "    print('roc_auc_score', roc_auc)\n",
        "#    return acc, pre, rec, f1, roc_auc"
      ],
      "metadata": {
        "id": "ZGtwFp4XxONO"
      },
      "execution_count": 36,
      "outputs": []
    },
    {
      "cell_type": "markdown",
      "source": [
        "### Model 1\n",
        "train-1: 1600 Ag для Ab-1\n",
        "\n",
        "test-1: 400 Ag для Ab-1 (different from train-1)"
      ],
      "metadata": {
        "id": "qgLFhVjNuR82"
      }
    },
    {
      "cell_type": "code",
      "source": [
        "clfRF = RandomForestClassifier(n_estimators=500, max_depth=150, min_samples_split=2, min_samples_leaf=1, max_features='sqrt')"
      ],
      "metadata": {
        "execution": {
          "iopub.status.busy": "2023-04-21T10:05:16.975312Z",
          "iopub.execute_input": "2023-04-21T10:05:16.975701Z",
          "iopub.status.idle": "2023-04-21T10:05:56.288226Z",
          "shell.execute_reply.started": "2023-04-21T10:05:16.975666Z",
          "shell.execute_reply": "2023-04-21T10:05:56.287033Z"
        },
        "trusted": true,
        "id": "ZKHY8qwSxLjE"
      },
      "execution_count": 37,
      "outputs": []
    },
    {
      "cell_type": "code",
      "source": [
        "rf(clfRF, LY16_train_X, LY16_train_y, LY16_test_X, LY16_test_y)"
      ],
      "metadata": {
        "colab": {
          "base_uri": "https://localhost:8080/"
        },
        "id": "iwu5PZcjzqwp",
        "outputId": "83edbe1b-7838-4fd1-ae88-4e9c9739ddbe"
      },
      "execution_count": 38,
      "outputs": [
        {
          "output_type": "stream",
          "name": "stdout",
          "text": [
            "accuracy_score 0.87\n",
            "precision_score 0.8446601941747572\n",
            "recall_score 0.8969072164948454\n",
            "f1_score 0.87\n",
            "roc_auc_score 0.8707837053348014\n"
          ]
        }
      ]
    },
    {
      "cell_type": "markdown",
      "source": [
        "### Model 2\n",
        "train-2: 1600 Ag для Ab-2\n",
        "\n",
        "test-2: 400 Ag для Ab-2"
      ],
      "metadata": {
        "id": "3F6c8kCav4Uu"
      }
    },
    {
      "cell_type": "code",
      "source": [
        "clfRF = RandomForestClassifier(n_estimators=500, max_depth=150, min_samples_split=2, min_samples_leaf=1, max_features='sqrt')"
      ],
      "metadata": {
        "execution": {
          "iopub.status.busy": "2023-04-21T10:05:16.975312Z",
          "iopub.execute_input": "2023-04-21T10:05:16.975701Z",
          "iopub.status.idle": "2023-04-21T10:05:56.288226Z",
          "shell.execute_reply.started": "2023-04-21T10:05:16.975666Z",
          "shell.execute_reply": "2023-04-21T10:05:56.287033Z"
        },
        "trusted": true,
        "id": "q7CFxH-Pz8N4"
      },
      "execution_count": 39,
      "outputs": []
    },
    {
      "cell_type": "code",
      "source": [
        "rf(clfRF, LY555_train_X, LY555_train_y, LY555_test_X, LY555_test_y)"
      ],
      "metadata": {
        "colab": {
          "base_uri": "https://localhost:8080/"
        },
        "outputId": "cd8aecee-56f0-40d8-e4be-4cb8c036796c",
        "id": "4BUg54uaz8N5"
      },
      "execution_count": 40,
      "outputs": [
        {
          "output_type": "stream",
          "name": "stdout",
          "text": [
            "accuracy_score 0.8675\n",
            "precision_score 0.8762886597938144\n",
            "recall_score 0.8542713567839196\n",
            "f1_score 0.8651399491094148\n",
            "roc_auc_score 0.8674341858546463\n"
          ]
        }
      ]
    },
    {
      "cell_type": "markdown",
      "source": [
        "### Model 3\n",
        "train-3: 1600 Ag для Ab-3\n",
        "\n",
        "test-3: 400 Ag для Ab-3\n"
      ],
      "metadata": {
        "id": "nLl4mGwcv54l"
      }
    },
    {
      "cell_type": "code",
      "source": [
        "clfRF = RandomForestClassifier(n_estimators=500, max_depth=150, min_samples_split=2, min_samples_leaf=1, max_features='sqrt')"
      ],
      "metadata": {
        "execution": {
          "iopub.status.busy": "2023-04-21T10:05:16.975312Z",
          "iopub.execute_input": "2023-04-21T10:05:16.975701Z",
          "iopub.status.idle": "2023-04-21T10:05:56.288226Z",
          "shell.execute_reply.started": "2023-04-21T10:05:16.975666Z",
          "shell.execute_reply": "2023-04-21T10:05:56.287033Z"
        },
        "trusted": true,
        "id": "EBcEH1xbz9Pp"
      },
      "execution_count": 41,
      "outputs": []
    },
    {
      "cell_type": "code",
      "source": [
        "rf(clfRF, REGN33_train_X, REGN33_train_y, REGN33_test_X, REGN33_test_y)"
      ],
      "metadata": {
        "colab": {
          "base_uri": "https://localhost:8080/"
        },
        "outputId": "a7b61b75-28e8-4c97-8c8a-6ec9620a81ba",
        "id": "G0XCdlT2z9Pp"
      },
      "execution_count": 42,
      "outputs": [
        {
          "output_type": "stream",
          "name": "stdout",
          "text": [
            "accuracy_score 0.86\n",
            "precision_score 0.8585365853658536\n",
            "recall_score 0.8669950738916257\n",
            "f1_score 0.8627450980392156\n",
            "roc_auc_score 0.8598934760321072\n"
          ]
        }
      ]
    },
    {
      "cell_type": "markdown",
      "source": [
        "### Model 4\n",
        "train-4: 1600 Ag для Ab-4\n",
        "\n",
        "test-4: 400 Ag для Ab-4\n"
      ],
      "metadata": {
        "id": "UWQc9yt_v7vT"
      }
    },
    {
      "cell_type": "code",
      "source": [
        "clfRF = RandomForestClassifier(n_estimators=500, max_depth=150, min_samples_split=2, min_samples_leaf=1, max_features='sqrt')"
      ],
      "metadata": {
        "execution": {
          "iopub.status.busy": "2023-04-21T10:05:16.975312Z",
          "iopub.execute_input": "2023-04-21T10:05:16.975701Z",
          "iopub.status.idle": "2023-04-21T10:05:56.288226Z",
          "shell.execute_reply.started": "2023-04-21T10:05:16.975666Z",
          "shell.execute_reply": "2023-04-21T10:05:56.287033Z"
        },
        "trusted": true,
        "id": "uxGTy6T6z-Wa"
      },
      "execution_count": 43,
      "outputs": []
    },
    {
      "cell_type": "code",
      "source": [
        "rf(clfRF, REGN87_train_X, REGN87_train_y, REGN87_test_X, REGN87_test_y)"
      ],
      "metadata": {
        "colab": {
          "base_uri": "https://localhost:8080/"
        },
        "outputId": "c1500a59-bdfe-4f10-b591-125c4b8fb528",
        "id": "hhDJxjnUz-Wa"
      },
      "execution_count": 44,
      "outputs": [
        {
          "output_type": "stream",
          "name": "stdout",
          "text": [
            "accuracy_score 0.9275\n",
            "precision_score 0.9523809523809523\n",
            "recall_score 0.9\n",
            "f1_score 0.9254498714652956\n",
            "roc_auc_score 0.9274999999999999\n"
          ]
        }
      ]
    },
    {
      "cell_type": "markdown",
      "source": [
        "### Model 5\n",
        "train-1 + train-2 + train-3 + train-4 test-1\n",
        "\n",
        "train-1 + train-2 + train-3 + train-4 test-2\n",
        "\n",
        "train-1 + train-2 + train-3 + train-4 test-3\n",
        "\n",
        "train-1 + train-2 + train-3 + train-4 test-4\n",
        "\n"
      ],
      "metadata": {
        "id": "tQ9ZRoE_v9MV"
      }
    },
    {
      "cell_type": "code",
      "source": [
        "#put together all train data\n",
        "train_X = np.concatenate((LY16_train_X, LY555_train_X, REGN33_train_X, REGN87_train_X), axis=0)\n",
        "train_y = np.concatenate((LY16_train_y, LY555_train_y, REGN33_train_y, REGN87_train_y), axis=0)"
      ],
      "metadata": {
        "id": "AmduM97e0pVK"
      },
      "execution_count": 45,
      "outputs": []
    },
    {
      "cell_type": "markdown",
      "source": [
        "#### test 1"
      ],
      "metadata": {
        "id": "oYX1xdJD1-TY"
      }
    },
    {
      "cell_type": "code",
      "source": [
        "clfRF = RandomForestClassifier(n_estimators=500, max_depth=150, min_samples_split=2, min_samples_leaf=1, max_features='sqrt')"
      ],
      "metadata": {
        "execution": {
          "iopub.status.busy": "2023-04-21T10:05:16.975312Z",
          "iopub.execute_input": "2023-04-21T10:05:16.975701Z",
          "iopub.status.idle": "2023-04-21T10:05:56.288226Z",
          "shell.execute_reply.started": "2023-04-21T10:05:16.975666Z",
          "shell.execute_reply": "2023-04-21T10:05:56.287033Z"
        },
        "trusted": true,
        "id": "L3Inc2Ho16Pp"
      },
      "execution_count": 46,
      "outputs": []
    },
    {
      "cell_type": "code",
      "source": [
        "rf(clfRF, train_X, train_y, LY16_test_X, LY16_test_y)"
      ],
      "metadata": {
        "colab": {
          "base_uri": "https://localhost:8080/"
        },
        "outputId": "e01baf3f-1036-49c1-cd31-3ccb9d5c8a21",
        "id": "VW24s8vA16Pq"
      },
      "execution_count": 47,
      "outputs": [
        {
          "output_type": "stream",
          "name": "stdout",
          "text": [
            "accuracy_score 0.8025\n",
            "precision_score 0.7725118483412322\n",
            "recall_score 0.8402061855670103\n",
            "f1_score 0.8049382716049382\n",
            "roc_auc_score 0.8035982384145732\n"
          ]
        }
      ]
    },
    {
      "cell_type": "markdown",
      "source": [
        "#### test 2"
      ],
      "metadata": {
        "id": "AfDVTBCj2Anj"
      }
    },
    {
      "cell_type": "code",
      "source": [
        "clfRF = RandomForestClassifier(n_estimators=500, max_depth=150, min_samples_split=2, min_samples_leaf=1, max_features='sqrt')"
      ],
      "metadata": {
        "execution": {
          "iopub.status.busy": "2023-04-21T10:05:16.975312Z",
          "iopub.execute_input": "2023-04-21T10:05:16.975701Z",
          "iopub.status.idle": "2023-04-21T10:05:56.288226Z",
          "shell.execute_reply.started": "2023-04-21T10:05:16.975666Z",
          "shell.execute_reply": "2023-04-21T10:05:56.287033Z"
        },
        "trusted": true,
        "id": "8okIcfaJ2EAd"
      },
      "execution_count": 48,
      "outputs": []
    },
    {
      "cell_type": "code",
      "source": [
        "rf(clfRF, train_X, train_y, LY555_test_X, LY555_test_y)"
      ],
      "metadata": {
        "colab": {
          "base_uri": "https://localhost:8080/"
        },
        "outputId": "3473ae2f-be22-4b38-b864-245e9147fcbf",
        "id": "7oh5hQKn2EAd"
      },
      "execution_count": 49,
      "outputs": [
        {
          "output_type": "stream",
          "name": "stdout",
          "text": [
            "accuracy_score 0.8025\n",
            "precision_score 0.7631578947368421\n",
            "recall_score 0.8743718592964824\n",
            "f1_score 0.8149882903981266\n",
            "roc_auc_score 0.802857571439286\n"
          ]
        }
      ]
    },
    {
      "cell_type": "markdown",
      "source": [
        "#### test 3"
      ],
      "metadata": {
        "id": "aBT0LQnV2EUy"
      }
    },
    {
      "cell_type": "code",
      "source": [
        "clfRF = RandomForestClassifier(n_estimators=500, max_depth=150, min_samples_split=2, min_samples_leaf=1, max_features='sqrt')"
      ],
      "metadata": {
        "execution": {
          "iopub.status.busy": "2023-04-21T10:05:16.975312Z",
          "iopub.execute_input": "2023-04-21T10:05:16.975701Z",
          "iopub.status.idle": "2023-04-21T10:05:56.288226Z",
          "shell.execute_reply.started": "2023-04-21T10:05:16.975666Z",
          "shell.execute_reply": "2023-04-21T10:05:56.287033Z"
        },
        "trusted": true,
        "id": "9Te5rZgO2F9W"
      },
      "execution_count": 50,
      "outputs": []
    },
    {
      "cell_type": "code",
      "source": [
        "rf(clfRF, train_X, train_y, REGN33_test_X, REGN33_test_y)"
      ],
      "metadata": {
        "colab": {
          "base_uri": "https://localhost:8080/"
        },
        "outputId": "daee2680-cc29-4940-e314-5e797fa531a4",
        "id": "gw9VkOv02F9W"
      },
      "execution_count": 51,
      "outputs": [
        {
          "output_type": "stream",
          "name": "stdout",
          "text": [
            "accuracy_score 0.8\n",
            "precision_score 0.8\n",
            "recall_score 0.8078817733990148\n",
            "f1_score 0.803921568627451\n",
            "roc_auc_score 0.7998799729939235\n"
          ]
        }
      ]
    },
    {
      "cell_type": "markdown",
      "source": [
        "#### test 4"
      ],
      "metadata": {
        "id": "ViDeXeB92Gk0"
      }
    },
    {
      "cell_type": "code",
      "source": [
        "clfRF = RandomForestClassifier(n_estimators=500, max_depth=150, min_samples_split=2, min_samples_leaf=1, max_features='sqrt')"
      ],
      "metadata": {
        "execution": {
          "iopub.status.busy": "2023-04-21T10:05:16.975312Z",
          "iopub.execute_input": "2023-04-21T10:05:16.975701Z",
          "iopub.status.idle": "2023-04-21T10:05:56.288226Z",
          "shell.execute_reply.started": "2023-04-21T10:05:16.975666Z",
          "shell.execute_reply": "2023-04-21T10:05:56.287033Z"
        },
        "trusted": true,
        "id": "Xn8dA4VC2HkY"
      },
      "execution_count": 52,
      "outputs": []
    },
    {
      "cell_type": "code",
      "source": [
        "rf(clfRF, train_X, train_y, REGN87_test_X, REGN87_test_y)"
      ],
      "metadata": {
        "colab": {
          "base_uri": "https://localhost:8080/"
        },
        "outputId": "2645c6c9-6a41-42ad-d4fd-609969d7f23b",
        "id": "0kM_rAWY2HkZ"
      },
      "execution_count": 53,
      "outputs": [
        {
          "output_type": "stream",
          "name": "stdout",
          "text": [
            "accuracy_score 0.94\n",
            "precision_score 0.9489795918367347\n",
            "recall_score 0.93\n",
            "f1_score 0.9393939393939393\n",
            "roc_auc_score 0.9400000000000001\n"
          ]
        }
      ]
    },
    {
      "cell_type": "markdown",
      "source": [
        "The statistics and visualization of obtained results were made using Prism 8"
      ],
      "metadata": {
        "id": "R-0H9YrbVEu1"
      }
    }
  ]
}